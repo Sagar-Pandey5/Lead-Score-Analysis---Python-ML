{
  "nbformat": 4,
  "nbformat_minor": 0,
  "metadata": {
    "colab": {
      "name": "Lead_Scoring (Case_Study).ipynb",
      "provenance": [],
      "collapsed_sections": []
    },
    "kernelspec": {
      "name": "python3",
      "display_name": "Python 3"
    },
    "language_info": {
      "name": "python"
    }
  },
  "cells": [
    {
      "cell_type": "code",
      "metadata": {
        "id": "ANiexCIdrFgI"
      },
      "source": [
        "#importing libraries\n",
        "\n",
        "import numpy as np\n",
        "import pandas as pd\n",
        "import matplotlib.pyplot as plt\n",
        "import seaborn as sns\n",
        "\n",
        "import warnings\n",
        "warnings.filterwarnings('ignore')\n",
        "\n",
        "from sklearn.preprocessing import StandardScaler"
      ],
      "execution_count": 1,
      "outputs": []
    },
    {
      "cell_type": "code",
      "metadata": {
        "id": "IPrB2u3E4kxd"
      },
      "source": [
        "# This python 3 environment comes with many helpful analytics libraries installed\n",
        "\n",
        "import numpy as np #linear algebra\n",
        "import pandas as pd #data processing,CSV file I/O(e.g.pd.read_csv)\n",
        "\n",
        "# Input data files are available in the\n",
        "# For example, running this (by clicking run or pressing Shift+Enter) will list all files under the input directory\n",
        "\n",
        "import os\n",
        "for dirname, _, filenames in os.walk('/kaggle/input'):\n",
        "    for filename in filenames:\n",
        "        print(os.path.join(dirname, filename))"
      ],
      "execution_count": 2,
      "outputs": []
    },
    {
      "cell_type": "code",
      "metadata": {
        "colab": {
          "base_uri": "https://localhost:8080/",
          "height": 538
        },
        "id": "_h3BE7Vh4lLq",
        "outputId": "32432e5c-a0d1-400e-bb42-54ce7249b4c1"
      },
      "source": [
        "#importing dataset to csv\n",
        "\n",
        "leads=pd.read_csv(\"Leads.csv\")\n",
        "leads.head()"
      ],
      "execution_count": 3,
      "outputs": [
        {
          "output_type": "execute_result",
          "data": {
            "text/html": [
              "<div>\n",
              "<style scoped>\n",
              "    .dataframe tbody tr th:only-of-type {\n",
              "        vertical-align: middle;\n",
              "    }\n",
              "\n",
              "    .dataframe tbody tr th {\n",
              "        vertical-align: top;\n",
              "    }\n",
              "\n",
              "    .dataframe thead th {\n",
              "        text-align: right;\n",
              "    }\n",
              "</style>\n",
              "<table border=\"1\" class=\"dataframe\">\n",
              "  <thead>\n",
              "    <tr style=\"text-align: right;\">\n",
              "      <th></th>\n",
              "      <th>Prospect ID</th>\n",
              "      <th>Lead Number</th>\n",
              "      <th>Lead Origin</th>\n",
              "      <th>Lead Source</th>\n",
              "      <th>Do Not Email</th>\n",
              "      <th>Do Not Call</th>\n",
              "      <th>Converted</th>\n",
              "      <th>TotalVisits</th>\n",
              "      <th>Total Time Spent on Website</th>\n",
              "      <th>Page Views Per Visit</th>\n",
              "      <th>Last Activity</th>\n",
              "      <th>Country</th>\n",
              "      <th>Specialization</th>\n",
              "      <th>How did you hear about X Education</th>\n",
              "      <th>What is your current occupation</th>\n",
              "      <th>What matters most to you in choosing a course</th>\n",
              "      <th>Search</th>\n",
              "      <th>Magazine</th>\n",
              "      <th>Newspaper Article</th>\n",
              "      <th>X Education Forums</th>\n",
              "      <th>Newspaper</th>\n",
              "      <th>Digital Advertisement</th>\n",
              "      <th>Through Recommendations</th>\n",
              "      <th>Receive More Updates About Our Courses</th>\n",
              "      <th>Tags</th>\n",
              "      <th>Lead Quality</th>\n",
              "      <th>Update me on Supply Chain Content</th>\n",
              "      <th>Get updates on DM Content</th>\n",
              "      <th>Lead Profile</th>\n",
              "      <th>City</th>\n",
              "      <th>Asymmetrique Activity Index</th>\n",
              "      <th>Asymmetrique Profile Index</th>\n",
              "      <th>Asymmetrique Activity Score</th>\n",
              "      <th>Asymmetrique Profile Score</th>\n",
              "      <th>I agree to pay the amount through cheque</th>\n",
              "      <th>A free copy of Mastering The Interview</th>\n",
              "      <th>Last Notable Activity</th>\n",
              "    </tr>\n",
              "  </thead>\n",
              "  <tbody>\n",
              "    <tr>\n",
              "      <th>0</th>\n",
              "      <td>7927b2df-8bba-4d29-b9a2-b6e0beafe620</td>\n",
              "      <td>660737</td>\n",
              "      <td>API</td>\n",
              "      <td>Olark Chat</td>\n",
              "      <td>No</td>\n",
              "      <td>No</td>\n",
              "      <td>0</td>\n",
              "      <td>0.0</td>\n",
              "      <td>0</td>\n",
              "      <td>0.0</td>\n",
              "      <td>Page Visited on Website</td>\n",
              "      <td>NaN</td>\n",
              "      <td>Select</td>\n",
              "      <td>Select</td>\n",
              "      <td>Unemployed</td>\n",
              "      <td>Better Career Prospects</td>\n",
              "      <td>No</td>\n",
              "      <td>No</td>\n",
              "      <td>No</td>\n",
              "      <td>No</td>\n",
              "      <td>No</td>\n",
              "      <td>No</td>\n",
              "      <td>No</td>\n",
              "      <td>No</td>\n",
              "      <td>Interested in other courses</td>\n",
              "      <td>Low in Relevance</td>\n",
              "      <td>No</td>\n",
              "      <td>No</td>\n",
              "      <td>Select</td>\n",
              "      <td>Select</td>\n",
              "      <td>02.Medium</td>\n",
              "      <td>02.Medium</td>\n",
              "      <td>15.0</td>\n",
              "      <td>15.0</td>\n",
              "      <td>No</td>\n",
              "      <td>No</td>\n",
              "      <td>Modified</td>\n",
              "    </tr>\n",
              "    <tr>\n",
              "      <th>1</th>\n",
              "      <td>2a272436-5132-4136-86fa-dcc88c88f482</td>\n",
              "      <td>660728</td>\n",
              "      <td>API</td>\n",
              "      <td>Organic Search</td>\n",
              "      <td>No</td>\n",
              "      <td>No</td>\n",
              "      <td>0</td>\n",
              "      <td>5.0</td>\n",
              "      <td>674</td>\n",
              "      <td>2.5</td>\n",
              "      <td>Email Opened</td>\n",
              "      <td>India</td>\n",
              "      <td>Select</td>\n",
              "      <td>Select</td>\n",
              "      <td>Unemployed</td>\n",
              "      <td>Better Career Prospects</td>\n",
              "      <td>No</td>\n",
              "      <td>No</td>\n",
              "      <td>No</td>\n",
              "      <td>No</td>\n",
              "      <td>No</td>\n",
              "      <td>No</td>\n",
              "      <td>No</td>\n",
              "      <td>No</td>\n",
              "      <td>Ringing</td>\n",
              "      <td>NaN</td>\n",
              "      <td>No</td>\n",
              "      <td>No</td>\n",
              "      <td>Select</td>\n",
              "      <td>Select</td>\n",
              "      <td>02.Medium</td>\n",
              "      <td>02.Medium</td>\n",
              "      <td>15.0</td>\n",
              "      <td>15.0</td>\n",
              "      <td>No</td>\n",
              "      <td>No</td>\n",
              "      <td>Email Opened</td>\n",
              "    </tr>\n",
              "    <tr>\n",
              "      <th>2</th>\n",
              "      <td>8cc8c611-a219-4f35-ad23-fdfd2656bd8a</td>\n",
              "      <td>660727</td>\n",
              "      <td>Landing Page Submission</td>\n",
              "      <td>Direct Traffic</td>\n",
              "      <td>No</td>\n",
              "      <td>No</td>\n",
              "      <td>1</td>\n",
              "      <td>2.0</td>\n",
              "      <td>1532</td>\n",
              "      <td>2.0</td>\n",
              "      <td>Email Opened</td>\n",
              "      <td>India</td>\n",
              "      <td>Business Administration</td>\n",
              "      <td>Select</td>\n",
              "      <td>Student</td>\n",
              "      <td>Better Career Prospects</td>\n",
              "      <td>No</td>\n",
              "      <td>No</td>\n",
              "      <td>No</td>\n",
              "      <td>No</td>\n",
              "      <td>No</td>\n",
              "      <td>No</td>\n",
              "      <td>No</td>\n",
              "      <td>No</td>\n",
              "      <td>Will revert after reading the email</td>\n",
              "      <td>Might be</td>\n",
              "      <td>No</td>\n",
              "      <td>No</td>\n",
              "      <td>Potential Lead</td>\n",
              "      <td>Mumbai</td>\n",
              "      <td>02.Medium</td>\n",
              "      <td>01.High</td>\n",
              "      <td>14.0</td>\n",
              "      <td>20.0</td>\n",
              "      <td>No</td>\n",
              "      <td>Yes</td>\n",
              "      <td>Email Opened</td>\n",
              "    </tr>\n",
              "    <tr>\n",
              "      <th>3</th>\n",
              "      <td>0cc2df48-7cf4-4e39-9de9-19797f9b38cc</td>\n",
              "      <td>660719</td>\n",
              "      <td>Landing Page Submission</td>\n",
              "      <td>Direct Traffic</td>\n",
              "      <td>No</td>\n",
              "      <td>No</td>\n",
              "      <td>0</td>\n",
              "      <td>1.0</td>\n",
              "      <td>305</td>\n",
              "      <td>1.0</td>\n",
              "      <td>Unreachable</td>\n",
              "      <td>India</td>\n",
              "      <td>Media and Advertising</td>\n",
              "      <td>Word Of Mouth</td>\n",
              "      <td>Unemployed</td>\n",
              "      <td>Better Career Prospects</td>\n",
              "      <td>No</td>\n",
              "      <td>No</td>\n",
              "      <td>No</td>\n",
              "      <td>No</td>\n",
              "      <td>No</td>\n",
              "      <td>No</td>\n",
              "      <td>No</td>\n",
              "      <td>No</td>\n",
              "      <td>Ringing</td>\n",
              "      <td>Not Sure</td>\n",
              "      <td>No</td>\n",
              "      <td>No</td>\n",
              "      <td>Select</td>\n",
              "      <td>Mumbai</td>\n",
              "      <td>02.Medium</td>\n",
              "      <td>01.High</td>\n",
              "      <td>13.0</td>\n",
              "      <td>17.0</td>\n",
              "      <td>No</td>\n",
              "      <td>No</td>\n",
              "      <td>Modified</td>\n",
              "    </tr>\n",
              "    <tr>\n",
              "      <th>4</th>\n",
              "      <td>3256f628-e534-4826-9d63-4a8b88782852</td>\n",
              "      <td>660681</td>\n",
              "      <td>Landing Page Submission</td>\n",
              "      <td>Google</td>\n",
              "      <td>No</td>\n",
              "      <td>No</td>\n",
              "      <td>1</td>\n",
              "      <td>2.0</td>\n",
              "      <td>1428</td>\n",
              "      <td>1.0</td>\n",
              "      <td>Converted to Lead</td>\n",
              "      <td>India</td>\n",
              "      <td>Select</td>\n",
              "      <td>Other</td>\n",
              "      <td>Unemployed</td>\n",
              "      <td>Better Career Prospects</td>\n",
              "      <td>No</td>\n",
              "      <td>No</td>\n",
              "      <td>No</td>\n",
              "      <td>No</td>\n",
              "      <td>No</td>\n",
              "      <td>No</td>\n",
              "      <td>No</td>\n",
              "      <td>No</td>\n",
              "      <td>Will revert after reading the email</td>\n",
              "      <td>Might be</td>\n",
              "      <td>No</td>\n",
              "      <td>No</td>\n",
              "      <td>Select</td>\n",
              "      <td>Mumbai</td>\n",
              "      <td>02.Medium</td>\n",
              "      <td>01.High</td>\n",
              "      <td>15.0</td>\n",
              "      <td>18.0</td>\n",
              "      <td>No</td>\n",
              "      <td>No</td>\n",
              "      <td>Modified</td>\n",
              "    </tr>\n",
              "  </tbody>\n",
              "</table>\n",
              "</div>"
            ],
            "text/plain": [
              "                            Prospect ID  ...  Last Notable Activity\n",
              "0  7927b2df-8bba-4d29-b9a2-b6e0beafe620  ...               Modified\n",
              "1  2a272436-5132-4136-86fa-dcc88c88f482  ...           Email Opened\n",
              "2  8cc8c611-a219-4f35-ad23-fdfd2656bd8a  ...           Email Opened\n",
              "3  0cc2df48-7cf4-4e39-9de9-19797f9b38cc  ...               Modified\n",
              "4  3256f628-e534-4826-9d63-4a8b88782852  ...               Modified\n",
              "\n",
              "[5 rows x 37 columns]"
            ]
          },
          "metadata": {
            "tags": []
          },
          "execution_count": 3
        }
      ]
    },
    {
      "cell_type": "code",
      "metadata": {
        "colab": {
          "base_uri": "https://localhost:8080/"
        },
        "id": "kQKq2Jk_4lVJ",
        "outputId": "02241b91-d04a-4224-9677-8eb789dc80bf"
      },
      "source": [
        "#checking total rows and cols in dataset\n",
        "\n",
        "leads.shape"
      ],
      "execution_count": 4,
      "outputs": [
        {
          "output_type": "execute_result",
          "data": {
            "text/plain": [
              "(9240, 37)"
            ]
          },
          "metadata": {
            "tags": []
          },
          "execution_count": 4
        }
      ]
    },
    {
      "cell_type": "markdown",
      "metadata": {
        "id": "foncMoo7i1Oe"
      },
      "source": [
        "This dataset has:\n",
        "\n",
        "\n",
        "*   9240 rows\n",
        "*   37 columns\n",
        "\n"
      ]
    },
    {
      "cell_type": "code",
      "metadata": {
        "colab": {
          "base_uri": "https://localhost:8080/"
        },
        "id": "aDL-VENu4lZR",
        "outputId": "3e8516d7-b055-47ab-9789-d72bc17d54f6"
      },
      "source": [
        "#basic data check\n",
        "\n",
        "leads.info()"
      ],
      "execution_count": 5,
      "outputs": [
        {
          "output_type": "stream",
          "text": [
            "<class 'pandas.core.frame.DataFrame'>\n",
            "RangeIndex: 9240 entries, 0 to 9239\n",
            "Data columns (total 37 columns):\n",
            " #   Column                                         Non-Null Count  Dtype  \n",
            "---  ------                                         --------------  -----  \n",
            " 0   Prospect ID                                    9240 non-null   object \n",
            " 1   Lead Number                                    9240 non-null   int64  \n",
            " 2   Lead Origin                                    9240 non-null   object \n",
            " 3   Lead Source                                    9204 non-null   object \n",
            " 4   Do Not Email                                   9240 non-null   object \n",
            " 5   Do Not Call                                    9240 non-null   object \n",
            " 6   Converted                                      9240 non-null   int64  \n",
            " 7   TotalVisits                                    9103 non-null   float64\n",
            " 8   Total Time Spent on Website                    9240 non-null   int64  \n",
            " 9   Page Views Per Visit                           9103 non-null   float64\n",
            " 10  Last Activity                                  9137 non-null   object \n",
            " 11  Country                                        6779 non-null   object \n",
            " 12  Specialization                                 7802 non-null   object \n",
            " 13  How did you hear about X Education             7033 non-null   object \n",
            " 14  What is your current occupation                6550 non-null   object \n",
            " 15  What matters most to you in choosing a course  6531 non-null   object \n",
            " 16  Search                                         9240 non-null   object \n",
            " 17  Magazine                                       9240 non-null   object \n",
            " 18  Newspaper Article                              9240 non-null   object \n",
            " 19  X Education Forums                             9240 non-null   object \n",
            " 20  Newspaper                                      9240 non-null   object \n",
            " 21  Digital Advertisement                          9240 non-null   object \n",
            " 22  Through Recommendations                        9240 non-null   object \n",
            " 23  Receive More Updates About Our Courses         9240 non-null   object \n",
            " 24  Tags                                           5887 non-null   object \n",
            " 25  Lead Quality                                   4473 non-null   object \n",
            " 26  Update me on Supply Chain Content              9240 non-null   object \n",
            " 27  Get updates on DM Content                      9240 non-null   object \n",
            " 28  Lead Profile                                   6531 non-null   object \n",
            " 29  City                                           7820 non-null   object \n",
            " 30  Asymmetrique Activity Index                    5022 non-null   object \n",
            " 31  Asymmetrique Profile Index                     5022 non-null   object \n",
            " 32  Asymmetrique Activity Score                    5022 non-null   float64\n",
            " 33  Asymmetrique Profile Score                     5022 non-null   float64\n",
            " 34  I agree to pay the amount through cheque       9240 non-null   object \n",
            " 35  A free copy of Mastering The Interview         9240 non-null   object \n",
            " 36  Last Notable Activity                          9240 non-null   object \n",
            "dtypes: float64(4), int64(3), object(30)\n",
            "memory usage: 2.6+ MB\n"
          ],
          "name": "stdout"
        }
      ]
    },
    {
      "cell_type": "code",
      "metadata": {
        "colab": {
          "base_uri": "https://localhost:8080/",
          "height": 311
        },
        "id": "XlNIRKk-4leO",
        "outputId": "575f23b8-d6b8-4c25-84ab-8a9f11264994"
      },
      "source": [
        "leads.describe()"
      ],
      "execution_count": 6,
      "outputs": [
        {
          "output_type": "execute_result",
          "data": {
            "text/html": [
              "<div>\n",
              "<style scoped>\n",
              "    .dataframe tbody tr th:only-of-type {\n",
              "        vertical-align: middle;\n",
              "    }\n",
              "\n",
              "    .dataframe tbody tr th {\n",
              "        vertical-align: top;\n",
              "    }\n",
              "\n",
              "    .dataframe thead th {\n",
              "        text-align: right;\n",
              "    }\n",
              "</style>\n",
              "<table border=\"1\" class=\"dataframe\">\n",
              "  <thead>\n",
              "    <tr style=\"text-align: right;\">\n",
              "      <th></th>\n",
              "      <th>Lead Number</th>\n",
              "      <th>Converted</th>\n",
              "      <th>TotalVisits</th>\n",
              "      <th>Total Time Spent on Website</th>\n",
              "      <th>Page Views Per Visit</th>\n",
              "      <th>Asymmetrique Activity Score</th>\n",
              "      <th>Asymmetrique Profile Score</th>\n",
              "    </tr>\n",
              "  </thead>\n",
              "  <tbody>\n",
              "    <tr>\n",
              "      <th>count</th>\n",
              "      <td>9240.000000</td>\n",
              "      <td>9240.000000</td>\n",
              "      <td>9103.000000</td>\n",
              "      <td>9240.000000</td>\n",
              "      <td>9103.000000</td>\n",
              "      <td>5022.000000</td>\n",
              "      <td>5022.000000</td>\n",
              "    </tr>\n",
              "    <tr>\n",
              "      <th>mean</th>\n",
              "      <td>617188.435606</td>\n",
              "      <td>0.385390</td>\n",
              "      <td>3.445238</td>\n",
              "      <td>487.698268</td>\n",
              "      <td>2.362820</td>\n",
              "      <td>14.306252</td>\n",
              "      <td>16.344883</td>\n",
              "    </tr>\n",
              "    <tr>\n",
              "      <th>std</th>\n",
              "      <td>23405.995698</td>\n",
              "      <td>0.486714</td>\n",
              "      <td>4.854853</td>\n",
              "      <td>548.021466</td>\n",
              "      <td>2.161418</td>\n",
              "      <td>1.386694</td>\n",
              "      <td>1.811395</td>\n",
              "    </tr>\n",
              "    <tr>\n",
              "      <th>min</th>\n",
              "      <td>579533.000000</td>\n",
              "      <td>0.000000</td>\n",
              "      <td>0.000000</td>\n",
              "      <td>0.000000</td>\n",
              "      <td>0.000000</td>\n",
              "      <td>7.000000</td>\n",
              "      <td>11.000000</td>\n",
              "    </tr>\n",
              "    <tr>\n",
              "      <th>25%</th>\n",
              "      <td>596484.500000</td>\n",
              "      <td>0.000000</td>\n",
              "      <td>1.000000</td>\n",
              "      <td>12.000000</td>\n",
              "      <td>1.000000</td>\n",
              "      <td>14.000000</td>\n",
              "      <td>15.000000</td>\n",
              "    </tr>\n",
              "    <tr>\n",
              "      <th>50%</th>\n",
              "      <td>615479.000000</td>\n",
              "      <td>0.000000</td>\n",
              "      <td>3.000000</td>\n",
              "      <td>248.000000</td>\n",
              "      <td>2.000000</td>\n",
              "      <td>14.000000</td>\n",
              "      <td>16.000000</td>\n",
              "    </tr>\n",
              "    <tr>\n",
              "      <th>75%</th>\n",
              "      <td>637387.250000</td>\n",
              "      <td>1.000000</td>\n",
              "      <td>5.000000</td>\n",
              "      <td>936.000000</td>\n",
              "      <td>3.000000</td>\n",
              "      <td>15.000000</td>\n",
              "      <td>18.000000</td>\n",
              "    </tr>\n",
              "    <tr>\n",
              "      <th>max</th>\n",
              "      <td>660737.000000</td>\n",
              "      <td>1.000000</td>\n",
              "      <td>251.000000</td>\n",
              "      <td>2272.000000</td>\n",
              "      <td>55.000000</td>\n",
              "      <td>18.000000</td>\n",
              "      <td>20.000000</td>\n",
              "    </tr>\n",
              "  </tbody>\n",
              "</table>\n",
              "</div>"
            ],
            "text/plain": [
              "         Lead Number  ...  Asymmetrique Profile Score\n",
              "count    9240.000000  ...                 5022.000000\n",
              "mean   617188.435606  ...                   16.344883\n",
              "std     23405.995698  ...                    1.811395\n",
              "min    579533.000000  ...                   11.000000\n",
              "25%    596484.500000  ...                   15.000000\n",
              "50%    615479.000000  ...                   16.000000\n",
              "75%    637387.250000  ...                   18.000000\n",
              "max    660737.000000  ...                   20.000000\n",
              "\n",
              "[8 rows x 7 columns]"
            ]
          },
          "metadata": {
            "tags": []
          },
          "execution_count": 6
        }
      ]
    },
    {
      "cell_type": "code",
      "metadata": {
        "colab": {
          "base_uri": "https://localhost:8080/"
        },
        "id": "faz2T3Ii4lgE",
        "outputId": "57a02391-f7a9-48ce-d7f4-8d57a46e0623"
      },
      "source": [
        "#check for duplicates\n",
        "\n",
        "sum(leads.duplicated(subset = 'Prospect ID')) == 0"
      ],
      "execution_count": 7,
      "outputs": [
        {
          "output_type": "execute_result",
          "data": {
            "text/plain": [
              "True"
            ]
          },
          "metadata": {
            "tags": []
          },
          "execution_count": 7
        }
      ]
    },
    {
      "cell_type": "markdown",
      "metadata": {
        "id": "Ut0u6V3Mj0fj"
      },
      "source": [
        "No Duplicate values in Prospect ID"
      ]
    },
    {
      "cell_type": "code",
      "metadata": {
        "colab": {
          "base_uri": "https://localhost:8080/"
        },
        "id": "0IEYO52j4ljX",
        "outputId": "07f72807-ba2d-4102-ecef-900d6002a96c"
      },
      "source": [
        "#check for duplicates\n",
        "\n",
        "sum(leads.duplicated(subset = 'Lead Number')) == 0"
      ],
      "execution_count": 8,
      "outputs": [
        {
          "output_type": "execute_result",
          "data": {
            "text/plain": [
              "True"
            ]
          },
          "metadata": {
            "tags": []
          },
          "execution_count": 8
        }
      ]
    },
    {
      "cell_type": "markdown",
      "metadata": {
        "id": "whZiVqKnknBB"
      },
      "source": [
        "**No Duplicate values in Lead Number**"
      ]
    },
    {
      "cell_type": "markdown",
      "metadata": {
        "id": "rsaNHNfnkyn9"
      },
      "source": [
        "Clearly Prospect ID & Lead Number are two variables that are just indicative of the ID number of the Contacted People & can be dropped."
      ]
    },
    {
      "cell_type": "markdown",
      "metadata": {
        "id": "oNm-o7UQlRi5"
      },
      "source": [
        "**EXPLORATORY DATA ANALYSIS**"
      ]
    },
    {
      "cell_type": "markdown",
      "metadata": {
        "id": "D-vmW3jSlnWn"
      },
      "source": [
        "**Data Cleaning & Treatment**"
      ]
    },
    {
      "cell_type": "code",
      "metadata": {
        "id": "z3cDCmdF4lmN"
      },
      "source": [
        "#dropping Lead Number and Prospect ID since they have all unique values\n",
        "\n",
        "leads.drop(['Prospect ID', 'Lead Number'], 1, inplace = True)"
      ],
      "execution_count": 9,
      "outputs": []
    },
    {
      "cell_type": "code",
      "metadata": {
        "id": "ubg7ho8p4lpa"
      },
      "source": [
        "#converting 'Select' values to NaN.\n",
        "\n",
        "leads = leads.replace('Select', np.nan)"
      ],
      "execution_count": 10,
      "outputs": []
    },
    {
      "cell_type": "code",
      "metadata": {
        "colab": {
          "base_uri": "https://localhost:8080/"
        },
        "id": "1cgeLtw_4lsS",
        "outputId": "16e87b3b-ec2a-43a4-d7ea-48a2b25b4e29"
      },
      "source": [
        "#checking null values in each rows\n",
        "\n",
        "leads.isnull().sum()"
      ],
      "execution_count": 11,
      "outputs": [
        {
          "output_type": "execute_result",
          "data": {
            "text/plain": [
              "Lead Origin                                         0\n",
              "Lead Source                                        36\n",
              "Do Not Email                                        0\n",
              "Do Not Call                                         0\n",
              "Converted                                           0\n",
              "TotalVisits                                       137\n",
              "Total Time Spent on Website                         0\n",
              "Page Views Per Visit                              137\n",
              "Last Activity                                     103\n",
              "Country                                          2461\n",
              "Specialization                                   3380\n",
              "How did you hear about X Education               7250\n",
              "What is your current occupation                  2690\n",
              "What matters most to you in choosing a course    2709\n",
              "Search                                              0\n",
              "Magazine                                            0\n",
              "Newspaper Article                                   0\n",
              "X Education Forums                                  0\n",
              "Newspaper                                           0\n",
              "Digital Advertisement                               0\n",
              "Through Recommendations                             0\n",
              "Receive More Updates About Our Courses              0\n",
              "Tags                                             3353\n",
              "Lead Quality                                     4767\n",
              "Update me on Supply Chain Content                   0\n",
              "Get updates on DM Content                           0\n",
              "Lead Profile                                     6855\n",
              "City                                             3669\n",
              "Asymmetrique Activity Index                      4218\n",
              "Asymmetrique Profile Index                       4218\n",
              "Asymmetrique Activity Score                      4218\n",
              "Asymmetrique Profile Score                       4218\n",
              "I agree to pay the amount through cheque            0\n",
              "A free copy of Mastering The Interview              0\n",
              "Last Notable Activity                               0\n",
              "dtype: int64"
            ]
          },
          "metadata": {
            "tags": []
          },
          "execution_count": 11
        }
      ]
    },
    {
      "cell_type": "code",
      "metadata": {
        "colab": {
          "base_uri": "https://localhost:8080/"
        },
        "id": "yIbwGt6b4lvM",
        "outputId": "993de761-be79-43e4-a5c2-64df755e93e2"
      },
      "source": [
        "#checking percentage of null values in each column\n",
        "\n",
        "round(100*(leads.isnull().sum()/len(leads.index)), 2)"
      ],
      "execution_count": 12,
      "outputs": [
        {
          "output_type": "execute_result",
          "data": {
            "text/plain": [
              "Lead Origin                                       0.00\n",
              "Lead Source                                       0.39\n",
              "Do Not Email                                      0.00\n",
              "Do Not Call                                       0.00\n",
              "Converted                                         0.00\n",
              "TotalVisits                                       1.48\n",
              "Total Time Spent on Website                       0.00\n",
              "Page Views Per Visit                              1.48\n",
              "Last Activity                                     1.11\n",
              "Country                                          26.63\n",
              "Specialization                                   36.58\n",
              "How did you hear about X Education               78.46\n",
              "What is your current occupation                  29.11\n",
              "What matters most to you in choosing a course    29.32\n",
              "Search                                            0.00\n",
              "Magazine                                          0.00\n",
              "Newspaper Article                                 0.00\n",
              "X Education Forums                                0.00\n",
              "Newspaper                                         0.00\n",
              "Digital Advertisement                             0.00\n",
              "Through Recommendations                           0.00\n",
              "Receive More Updates About Our Courses            0.00\n",
              "Tags                                             36.29\n",
              "Lead Quality                                     51.59\n",
              "Update me on Supply Chain Content                 0.00\n",
              "Get updates on DM Content                         0.00\n",
              "Lead Profile                                     74.19\n",
              "City                                             39.71\n",
              "Asymmetrique Activity Index                      45.65\n",
              "Asymmetrique Profile Index                       45.65\n",
              "Asymmetrique Activity Score                      45.65\n",
              "Asymmetrique Profile Score                       45.65\n",
              "I agree to pay the amount through cheque          0.00\n",
              "A free copy of Mastering The Interview            0.00\n",
              "Last Notable Activity                             0.00\n",
              "dtype: float64"
            ]
          },
          "metadata": {
            "tags": []
          },
          "execution_count": 12
        }
      ]
    },
    {
      "cell_type": "code",
      "metadata": {
        "id": "OE9uKfYV4lyk"
      },
      "source": [
        "#dropping cols with more than 45% missing values\n",
        "\n",
        "cols=leads.columns\n",
        "\n",
        "for i in cols:\n",
        "    if((100*(leads[i].isnull().sum()/len(leads.index))) >= 45):\n",
        "       leads.drop(i, 1, inplace = True)"
      ],
      "execution_count": 13,
      "outputs": []
    },
    {
      "cell_type": "code",
      "metadata": {
        "colab": {
          "base_uri": "https://localhost:8080/"
        },
        "id": "Z-3Wgihv4l1G",
        "outputId": "1cfa8a21-7d7f-493c-bbf3-0808b1828b1f"
      },
      "source": [
        "#checking null values percentage\n",
        "\n",
        "round(100*(leads.isnull().sum()/len(leads.index)), 2)"
      ],
      "execution_count": 14,
      "outputs": [
        {
          "output_type": "execute_result",
          "data": {
            "text/plain": [
              "Lead Origin                                       0.00\n",
              "Lead Source                                       0.39\n",
              "Do Not Email                                      0.00\n",
              "Do Not Call                                       0.00\n",
              "Converted                                         0.00\n",
              "TotalVisits                                       1.48\n",
              "Total Time Spent on Website                       0.00\n",
              "Page Views Per Visit                              1.48\n",
              "Last Activity                                     1.11\n",
              "Country                                          26.63\n",
              "Specialization                                   36.58\n",
              "What is your current occupation                  29.11\n",
              "What matters most to you in choosing a course    29.32\n",
              "Search                                            0.00\n",
              "Magazine                                          0.00\n",
              "Newspaper Article                                 0.00\n",
              "X Education Forums                                0.00\n",
              "Newspaper                                         0.00\n",
              "Digital Advertisement                             0.00\n",
              "Through Recommendations                           0.00\n",
              "Receive More Updates About Our Courses            0.00\n",
              "Tags                                             36.29\n",
              "Update me on Supply Chain Content                 0.00\n",
              "Get updates on DM Content                         0.00\n",
              "City                                             39.71\n",
              "I agree to pay the amount through cheque          0.00\n",
              "A free copy of Mastering The Interview            0.00\n",
              "Last Notable Activity                             0.00\n",
              "dtype: float64"
            ]
          },
          "metadata": {
            "tags": []
          },
          "execution_count": 14
        }
      ]
    },
    {
      "cell_type": "markdown",
      "metadata": {
        "id": "__UhYTNhoeVk"
      },
      "source": [
        "**Categorical Attributes Analysis**"
      ]
    },
    {
      "cell_type": "code",
      "metadata": {
        "colab": {
          "base_uri": "https://localhost:8080/"
        },
        "id": "sUoiZBaI4l3u",
        "outputId": "cb6271a7-5eea-4464-e659-344826280276"
      },
      "source": [
        "#checking value counts of country column \n",
        "\n",
        "leads['Country'].value_counts(dropna=False)"
      ],
      "execution_count": 15,
      "outputs": [
        {
          "output_type": "execute_result",
          "data": {
            "text/plain": [
              "India                   6492\n",
              "NaN                     2461\n",
              "United States             69\n",
              "United Arab Emirates      53\n",
              "Singapore                 24\n",
              "Saudi Arabia              21\n",
              "United Kingdom            15\n",
              "Australia                 13\n",
              "Qatar                     10\n",
              "Hong Kong                  7\n",
              "Bahrain                    7\n",
              "France                     6\n",
              "Oman                       6\n",
              "unknown                    5\n",
              "Germany                    4\n",
              "Kuwait                     4\n",
              "Canada                     4\n",
              "Nigeria                    4\n",
              "South Africa               4\n",
              "Sweden                     3\n",
              "Italy                      2\n",
              "Bangladesh                 2\n",
              "Philippines                2\n",
              "China                      2\n",
              "Asia/Pacific Region        2\n",
              "Uganda                     2\n",
              "Belgium                    2\n",
              "Netherlands                2\n",
              "Ghana                      2\n",
              "Liberia                    1\n",
              "Denmark                    1\n",
              "Malaysia                   1\n",
              "Sri Lanka                  1\n",
              "Indonesia                  1\n",
              "Tanzania                   1\n",
              "Switzerland                1\n",
              "Vietnam                    1\n",
              "Russia                     1\n",
              "Kenya                      1\n",
              "Name: Country, dtype: int64"
            ]
          },
          "metadata": {
            "tags": []
          },
          "execution_count": 15
        }
      ]
    },
    {
      "cell_type": "code",
      "metadata": {
        "colab": {
          "base_uri": "https://localhost:8080/",
          "height": 431
        },
        "id": "HfMMZi7H4l6o",
        "outputId": "8547c938-df99-4aba-8309-b216908d5783"
      },
      "source": [
        "#plotting spread of country column\n",
        "\n",
        "plt.figure(figsize=(15,5))\n",
        "s1=sns.countplot(leads.Country, hue=leads.Converted)\n",
        "s1.set_xticklabels(s1.get_xticklabels(),rotation=90)\n",
        "plt.show()"
      ],
      "execution_count": 16,
      "outputs": [
        {
          "output_type": "display_data",
          "data": {
            "image/png": "[encoded data removed]",
            "text/plain": [
              "<Figure size 1080x360 with 1 Axes>"
            ]
          },
          "metadata": {
            "tags": [],
            "needs_background": "light"
          }
        }
      ]
    },
    {
      "cell_type": "code",
      "metadata": {
        "id": "syfB51CI4mBZ"
      },
      "source": [
        "#Since India is the most common occurence among the non-missing values we can impute all missing values with India\n",
        "\n",
        "leads['Country'] = leads['Country'].replace(np.nan,'India')"
      ],
      "execution_count": 17,
      "outputs": []
    },
    {
      "cell_type": "code",
      "metadata": {
        "colab": {
          "base_uri": "https://localhost:8080/",
          "height": 431
        },
        "id": "-06sibr04mCo",
        "outputId": "a28420a8-541d-44ed-fee4-d587273a5fad"
      },
      "source": [
        "#plotting spread of Country column after replacing NaN values\n",
        "\n",
        "plt.figure(figsize=(15,5))\n",
        "s1=sns.countplot(leads.Country, hue=leads.Converted)\n",
        "s1.set_xticklabels(s1.get_xticklabels(),rotation=90)\n",
        "plt.show()"
      ],
      "execution_count": 18,
      "outputs": [
        {
          "output_type": "display_data",
          "data": {
            "image/png": "[encoded data removed]",
            "text/plain": [
              "<Figure size 1080x360 with 1 Axes>"
            ]
          },
          "metadata": {
            "tags": [],
            "needs_background": "light"
          }
        }
      ]
    },
    {
      "cell_type": "markdown",
      "metadata": {
        "id": "HlWQ-Df9sfG0"
      },
      "source": [
        "As we can clearly see the Number of Values for India are quite high (nearly 97% of the data),this column can be dropped."
      ]
    },
    {
      "cell_type": "code",
      "metadata": {
        "id": "6rM06Naj4mDy"
      },
      "source": [
        "#creating a list of columns to be dropped \n",
        "\n",
        "cols_to_drop=['Country']"
      ],
      "execution_count": 19,
      "outputs": []
    },
    {
      "cell_type": "code",
      "metadata": {
        "colab": {
          "base_uri": "https://localhost:8080/"
        },
        "id": "rdCpQ61m4mGW",
        "outputId": "e82b66ff-506b-41bb-c802-1800476b7898"
      },
      "source": [
        "#checking values counts of \"City\" column\n",
        "\n",
        "leads['City'].value_counts(dropna=False)"
      ],
      "execution_count": 20,
      "outputs": [
        {
          "output_type": "execute_result",
          "data": {
            "text/plain": [
              "NaN                            3669\n",
              "Mumbai                         3222\n",
              "Thane & Outskirts               752\n",
              "Other Cities                    686\n",
              "Other Cities of Maharashtra     457\n",
              "Other Metro Cities              380\n",
              "Tier II Cities                   74\n",
              "Name: City, dtype: int64"
            ]
          },
          "metadata": {
            "tags": []
          },
          "execution_count": 20
        }
      ]
    },
    {
      "cell_type": "code",
      "metadata": {
        "id": "6OzU1udp4mIM"
      },
      "source": [
        "leads['City'] = leads['City'].replace(np.nan,'Mumbai')"
      ],
      "execution_count": 21,
      "outputs": []
    },
    {
      "cell_type": "code",
      "metadata": {
        "colab": {
          "base_uri": "https://localhost:8080/",
          "height": 462
        },
        "id": "QsgdPyKf4mJr",
        "outputId": "c418b417-5d07-46e6-9d18-72ebaeeeac60"
      },
      "source": [
        "#plotting spread of city column after replacing NaN values \n",
        "\n",
        "plt.figure(figsize=(10,5))\n",
        "s1=sns.countplot(leads.City, hue=leads.Converted)\n",
        "s1.set_xticklabels(s1.get_xticklabels(),rotation=90)\n",
        "plt.show()"
      ],
      "execution_count": 22,
      "outputs": [
        {
          "output_type": "display_data",
          "data": {
            "image/png": "[encoded data removed]",
            "text/plain": [
              "<Figure size 720x360 with 1 Axes>"
            ]
          },
          "metadata": {
            "tags": [],
            "needs_background": "light"
          }
        }
      ]
    },
    {
      "cell_type": "code",
      "metadata": {
        "colab": {
          "base_uri": "https://localhost:8080/"
        },
        "id": "QgbOYp5T4mLd",
        "outputId": "956db6e8-da94-4a2f-af90-7893c09f5316"
      },
      "source": [
        "#checking value counts of specialization colunn\n",
        "\n",
        "leads['Specialization'].value_counts(dropna=False)"
      ],
      "execution_count": 23,
      "outputs": [
        {
          "output_type": "execute_result",
          "data": {
            "text/plain": [
              "NaN                                  3380\n",
              "Finance Management                    976\n",
              "Human Resource Management             848\n",
              "Marketing Management                  838\n",
              "Operations Management                 503\n",
              "Business Administration               403\n",
              "IT Projects Management                366\n",
              "Supply Chain Management               349\n",
              "Banking, Investment And Insurance     338\n",
              "Travel and Tourism                    203\n",
              "Media and Advertising                 203\n",
              "International Business                178\n",
              "Healthcare Management                 159\n",
              "Hospitality Management                114\n",
              "E-COMMERCE                            112\n",
              "Retail Management                     100\n",
              "Rural and Agribusiness                 73\n",
              "E-Business                             57\n",
              "Services Excellence                    40\n",
              "Name: Specialization, dtype: int64"
            ]
          },
          "metadata": {
            "tags": []
          },
          "execution_count": 23
        }
      ]
    },
    {
      "cell_type": "code",
      "metadata": {
        "id": "G_Xea2dN4mNb"
      },
      "source": [
        "#Lead may not have mentioned specialization because it was not in the list or maybe they are a students\n",
        "#and don't have a specializaion yet. So we will replace NaN values here with 'Not Specified' \n",
        "\n",
        "leads['Specialization'] = leads['Specialization'].replace(np.nan, 'Not Specified')"
      ],
      "execution_count": 24,
      "outputs": []
    },
    {
      "cell_type": "code",
      "metadata": {
        "colab": {
          "base_uri": "https://localhost:8080/",
          "height": 503
        },
        "id": "cNtsx_CY4mO0",
        "outputId": "3b6a64de-5273-4640-aa60-687c789ea758"
      },
      "source": [
        "#plotting spread of Specialization column\n",
        "\n",
        "plt.figure(figsize=(15,5))\n",
        "s1=sns.countplot(leads.Specialization, hue=leads.Converted)\n",
        "s1.set_xticklabels(s1.get_xticklabels(),rotation=90)\n",
        "plt.show()"
      ],
      "execution_count": 25,
      "outputs": [
        {
          "output_type": "display_data",
          "data": {
            "image/png": "[encoded data removed]",
            "text/plain": [
              "<Figure size 1080x360 with 1 Axes>"
            ]
          },
          "metadata": {
            "tags": [],
            "needs_background": "light"
          }
        }
      ]
    },
    {
      "cell_type": "markdown",
      "metadata": {
        "id": "7p8WxwlIw5kw"
      },
      "source": [
        "We see that Specialization with **Management** in them have higher number of leads as well as leads converted. So this is definitely a significant variables and should not be dropped. "
      ]
    },
    {
      "cell_type": "code",
      "metadata": {
        "id": "Bo1mRXQo4mQB"
      },
      "source": [
        "#combining Management Specialization beacuse they show similar trends\n",
        "\n",
        "leads['Specialization'] = leads['Specialization'].replace(['Finanace Management','Human Resource Management','Marketing Management','Operations Management','IT Projects Management','Supply Chain Management','Healthcare Management','Hospitality Management','Retail Management'],\"Management_Specializations\")"
      ],
      "execution_count": 26,
      "outputs": []
    },
    {
      "cell_type": "code",
      "metadata": {
        "colab": {
          "base_uri": "https://localhost:8080/",
          "height": 503
        },
        "id": "87auC8AQ4mRr",
        "outputId": "fcd77b0e-79a0-4d3c-ce26-64ba1373fd77"
      },
      "source": [
        "#visualizing count of Variable based on Converted value\n",
        "\n",
        "plt.figure(figsize=(15,5))\n",
        "s1=sns.countplot(leads.Specialization, hue=leads.Converted)\n",
        "s1.set_xticklabels(s1.get_xticklabels(),rotation=90)\n",
        "plt.show()"
      ],
      "execution_count": 27,
      "outputs": [
        {
          "output_type": "display_data",
          "data": {
            "image/png": "[encoded data removed]",
            "text/plain": [
              "<Figure size 1080x360 with 1 Axes>"
            ]
          },
          "metadata": {
            "tags": [],
            "needs_background": "light"
          }
        }
      ]
    },
    {
      "cell_type": "code",
      "metadata": {
        "colab": {
          "base_uri": "https://localhost:8080/"
        },
        "id": "sMpmi_VF4mTA",
        "outputId": "2d209b24-b7e9-48a1-ffcc-6979e7ab823e"
      },
      "source": [
        "#What is your current occupation\n",
        "\n",
        "leads['What is your current occupation'].value_counts(dropna=False)"
      ],
      "execution_count": 28,
      "outputs": [
        {
          "output_type": "execute_result",
          "data": {
            "text/plain": [
              "Unemployed              5600\n",
              "NaN                     2690\n",
              "Working Professional     706\n",
              "Student                  210\n",
              "Other                     16\n",
              "Housewife                 10\n",
              "Businessman                8\n",
              "Name: What is your current occupation, dtype: int64"
            ]
          },
          "metadata": {
            "tags": []
          },
          "execution_count": 28
        }
      ]
    },
    {
      "cell_type": "code",
      "metadata": {
        "id": "agiFmbXl4mYE"
      },
      "source": [
        "#imputing NaN values with mode \"Unemployed\"\n",
        "\n",
        "leads['What is your current occupation'] = leads['What is your current occupation'].replace(np.nan, 'Unemployed')"
      ],
      "execution_count": 29,
      "outputs": []
    },
    {
      "cell_type": "code",
      "metadata": {
        "colab": {
          "base_uri": "https://localhost:8080/"
        },
        "id": "RqtveBWZ4mZy",
        "outputId": "cb9aa6d7-c1ca-4deb-d538-f1749c6e63d2"
      },
      "source": [
        "#checking count of values\n",
        "\n",
        "leads['What is your current occupation'].value_counts(dropna=False)"
      ],
      "execution_count": 30,
      "outputs": [
        {
          "output_type": "execute_result",
          "data": {
            "text/plain": [
              "Unemployed              8290\n",
              "Working Professional     706\n",
              "Student                  210\n",
              "Other                     16\n",
              "Housewife                 10\n",
              "Businessman                8\n",
              "Name: What is your current occupation, dtype: int64"
            ]
          },
          "metadata": {
            "tags": []
          },
          "execution_count": 30
        }
      ]
    },
    {
      "cell_type": "code",
      "metadata": {
        "colab": {
          "base_uri": "https://localhost:8080/",
          "height": 373
        },
        "id": "j2JCaU2M4mbn",
        "outputId": "9134160a-0c0b-4741-b7a6-745d77c2dd2d"
      },
      "source": [
        "#visualization count of Variable based on Converted value \n",
        "\n",
        "s1=sns.countplot(leads['What is your current occupation'], hue=leads.Converted)\n",
        "s1.set_xticklabels(s1.get_xticklabels(),rotation=90)\n",
        "plt.show()"
      ],
      "execution_count": 31,
      "outputs": [
        {
          "output_type": "display_data",
          "data": {
            "image/png": "[encoded data removed]",
            "text/plain": [
              "<Figure size 432x288 with 1 Axes>"
            ]
          },
          "metadata": {
            "tags": [],
            "needs_background": "light"
          }
        }
      ]
    },
    {
      "cell_type": "markdown",
      "metadata": {
        "id": "ltfTZdXg8Jhx"
      },
      "source": [
        "\n",
        "\n",
        "*   Woking Professionals going for the course have high chances of joining it.\n",
        "*   Unemployed leads are the most in terms of Absolute numbers.\n",
        "\n"
      ]
    },
    {
      "cell_type": "code",
      "metadata": {
        "colab": {
          "base_uri": "https://localhost:8080/"
        },
        "id": "oihwL0fI4mdM",
        "outputId": "5aa01e0a-c600-4e2e-a747-ca75b6fe16a8"
      },
      "source": [
        "#checking value counts \n",
        "\n",
        "leads['What matters most to you in choosing a course'].value_counts(dropna=False)"
      ],
      "execution_count": 32,
      "outputs": [
        {
          "output_type": "execute_result",
          "data": {
            "text/plain": [
              "Better Career Prospects      6528\n",
              "NaN                          2709\n",
              "Flexibility & Convenience       2\n",
              "Other                           1\n",
              "Name: What matters most to you in choosing a course, dtype: int64"
            ]
          },
          "metadata": {
            "tags": []
          },
          "execution_count": 32
        }
      ]
    },
    {
      "cell_type": "code",
      "metadata": {
        "id": "bVNDQoCb4mee"
      },
      "source": [
        "#replacing NaN values with Mode \"Better Career Prospect\"\n",
        "\n",
        "leads['What matters most to you in choosing a course'] = leads['What matters most to you in choosing a course'].replace(np.nan,'Better Career Prospects')"
      ],
      "execution_count": 33,
      "outputs": []
    },
    {
      "cell_type": "code",
      "metadata": {
        "colab": {
          "base_uri": "https://localhost:8080/",
          "height": 395
        },
        "id": "dVzMDYG54mfo",
        "outputId": "c4cfac93-fe15-440d-88e8-1c2bc72a91c3"
      },
      "source": [
        "#visualizing count of Variable based on Converted Value\n",
        "\n",
        "s1=sns.countplot(leads['What matters most to you in choosing a course'], hue=leads.Converted)\n",
        "s1.set_xticklabels(s1.get_xticklabels(),rotation=90)\n",
        "plt.show()"
      ],
      "execution_count": 34,
      "outputs": [
        {
          "output_type": "display_data",
          "data": {
            "image/png": "[encoded data removed]",
            "text/plain": [
              "<Figure size 432x288 with 1 Axes>"
            ]
          },
          "metadata": {
            "tags": [],
            "needs_background": "light"
          }
        }
      ]
    },
    {
      "cell_type": "code",
      "metadata": {
        "colab": {
          "base_uri": "https://localhost:8080/"
        },
        "id": "huVJ837M4mg8",
        "outputId": "759b53e8-d246-4b14-d2e3-9becbcca607b"
      },
      "source": [
        "#checking value counts of variable\n",
        "\n",
        "leads['What matters most to you in choosing a course'].value_counts(dropna=False)"
      ],
      "execution_count": 35,
      "outputs": [
        {
          "output_type": "execute_result",
          "data": {
            "text/plain": [
              "Better Career Prospects      9237\n",
              "Flexibility & Convenience       2\n",
              "Other                           1\n",
              "Name: What matters most to you in choosing a course, dtype: int64"
            ]
          },
          "metadata": {
            "tags": []
          },
          "execution_count": 35
        }
      ]
    },
    {
      "cell_type": "code",
      "metadata": {
        "colab": {
          "base_uri": "https://localhost:8080/"
        },
        "id": "K04CfrW_4miY",
        "outputId": "316ead63-16ef-467a-8b9e-3cd5f35129d2"
      },
      "source": [
        "#Here again we have another column that is worth Dropping. So we Append to the cols_to_drop List\n",
        " \n",
        "cols_to_drop.append('What matters most to you in choosing a course')\n",
        "cols_to_drop"
      ],
      "execution_count": 36,
      "outputs": [
        {
          "output_type": "execute_result",
          "data": {
            "text/plain": [
              "['Country', 'What matters most to you in choosing a course']"
            ]
          },
          "metadata": {
            "tags": []
          },
          "execution_count": 36
        }
      ]
    },
    {
      "cell_type": "code",
      "metadata": {
        "colab": {
          "base_uri": "https://localhost:8080/"
        },
        "id": "lDhDGSeA4mjn",
        "outputId": "13c1053d-fd9e-4a8c-fee7-79f9fcee438a"
      },
      "source": [
        "#checking value counts of tag Variable\n",
        "\n",
        "leads['Tags'].value_counts(dropna=False)"
      ],
      "execution_count": 37,
      "outputs": [
        {
          "output_type": "execute_result",
          "data": {
            "text/plain": [
              "NaN                                                  3353\n",
              "Will revert after reading the email                  2072\n",
              "Ringing                                              1203\n",
              "Interested in other courses                           513\n",
              "Already a student                                     465\n",
              "Closed by Horizzon                                    358\n",
              "switched off                                          240\n",
              "Busy                                                  186\n",
              "Lost to EINS                                          175\n",
              "Not doing further education                           145\n",
              "Interested  in full time MBA                          117\n",
              "Graduation in progress                                111\n",
              "invalid number                                         83\n",
              "Diploma holder (Not Eligible)                          63\n",
              "wrong number given                                     47\n",
              "opp hangup                                             33\n",
              "number not provided                                    27\n",
              "in touch with EINS                                     12\n",
              "Lost to Others                                          7\n",
              "Still Thinking                                          6\n",
              "Want to take admission but has financial problems       6\n",
              "In confusion whether part time or DLP                   5\n",
              "Interested in Next batch                                5\n",
              "Lateral student                                         3\n",
              "University not recognized                               2\n",
              "Shall take in the next coming month                     2\n",
              "Recognition issue (DEC approval)                        1\n",
              "Name: Tags, dtype: int64"
            ]
          },
          "metadata": {
            "tags": []
          },
          "execution_count": 37
        }
      ]
    },
    {
      "cell_type": "code",
      "metadata": {
        "id": "KMBnkUXy_9PC"
      },
      "source": [
        "#replacing NaN values with \"Not Specified\"\n",
        "\n",
        "leads['Tags'] = leads['Tags'].replace(np.nan,'Not Specified')"
      ],
      "execution_count": 38,
      "outputs": []
    },
    {
      "cell_type": "code",
      "metadata": {
        "colab": {
          "base_uri": "https://localhost:8080/",
          "height": 576
        },
        "id": "AwnVutr4_9LD",
        "outputId": "76b4020f-96be-49be-e539-60d334a7f5a6"
      },
      "source": [
        "#visualizing count of variable based on Converted Value\n",
        "\n",
        "plt.figure(figsize=(15,5))\n",
        "s1=sns.countplot(leads['Tags'], hue=leads.Converted)\n",
        "s1.set_xticklabels(s1.get_xticklabels(),rotation=90)\n",
        "plt.show()"
      ],
      "execution_count": 39,
      "outputs": [
        {
          "output_type": "display_data",
          "data": {
            "image/png": "[encoded data removed]",
            "text/plain": [
              "<Figure size 1080x360 with 1 Axes>"
            ]
          },
          "metadata": {
            "tags": [],
            "needs_background": "light"
          }
        }
      ]
    },
    {
      "cell_type": "code",
      "metadata": {
        "id": "67WNR078_9Hr"
      },
      "source": [
        "#replacing tags with low frequency with \"Other Tags\"\n",
        "\n",
        "leads['Tags'] = leads['Tags'].replace(['In confusion whether part time or DLP','in touch with EINS','Diploma holder(Not Eligible)','Approached upfront','Graduation in progress','number not provided','opp hangup','Still Thinking','Lost to Others','Shall take in the next coming month','Lateral student','Interested in Next batch','Recognition issue (DEC approval)','Want to take admission but has financial problems','University not recognized'], 'Other_Tags')\n",
        "leads['Tags'] = leads['Tags'].replace(['switched off','Already a student','Not doing further education','invalid number','wrong number given','Interested in full time MBA'], 'Other_Tags')"
      ],
      "execution_count": 40,
      "outputs": []
    },
    {
      "cell_type": "code",
      "metadata": {
        "colab": {
          "base_uri": "https://localhost:8080/"
        },
        "id": "AtUSbs5t_9Er",
        "outputId": "99d56d30-80fe-451d-85db-1f70b7a6e35f"
      },
      "source": [
        "#checking percentage of missing values \n",
        "\n",
        "round(100*(leads.isnull().sum()/len(leads.index)), 2)"
      ],
      "execution_count": 41,
      "outputs": [
        {
          "output_type": "execute_result",
          "data": {
            "text/plain": [
              "Lead Origin                                      0.00\n",
              "Lead Source                                      0.39\n",
              "Do Not Email                                     0.00\n",
              "Do Not Call                                      0.00\n",
              "Converted                                        0.00\n",
              "TotalVisits                                      1.48\n",
              "Total Time Spent on Website                      0.00\n",
              "Page Views Per Visit                             1.48\n",
              "Last Activity                                    1.11\n",
              "Country                                          0.00\n",
              "Specialization                                   0.00\n",
              "What is your current occupation                  0.00\n",
              "What matters most to you in choosing a course    0.00\n",
              "Search                                           0.00\n",
              "Magazine                                         0.00\n",
              "Newspaper Article                                0.00\n",
              "X Education Forums                               0.00\n",
              "Newspaper                                        0.00\n",
              "Digital Advertisement                            0.00\n",
              "Through Recommendations                          0.00\n",
              "Receive More Updates About Our Courses           0.00\n",
              "Tags                                             0.00\n",
              "Update me on Supply Chain Content                0.00\n",
              "Get updates on DM Content                        0.00\n",
              "City                                             0.00\n",
              "I agree to pay the amount through cheque         0.00\n",
              "A free copy of Mastering The Interview           0.00\n",
              "Last Notable Activity                            0.00\n",
              "dtype: float64"
            ]
          },
          "metadata": {
            "tags": []
          },
          "execution_count": 41
        }
      ]
    },
    {
      "cell_type": "code",
      "metadata": {
        "colab": {
          "base_uri": "https://localhost:8080/"
        },
        "id": "DhSRrr6V_8dJ",
        "outputId": "3e6d34d1-477e-4586-948a-3075b360dcf1"
      },
      "source": [
        "#checking value counts of Lead Source column\n",
        "\n",
        "leads['Lead Source'].value_counts(dropna=False)"
      ],
      "execution_count": 42,
      "outputs": [
        {
          "output_type": "execute_result",
          "data": {
            "text/plain": [
              "Google               2868\n",
              "Direct Traffic       2543\n",
              "Olark Chat           1755\n",
              "Organic Search       1154\n",
              "Reference             534\n",
              "Welingak Website      142\n",
              "Referral Sites        125\n",
              "Facebook               55\n",
              "NaN                    36\n",
              "bing                    6\n",
              "google                  5\n",
              "Click2call              4\n",
              "Live Chat               2\n",
              "Social Media            2\n",
              "Press_Release           2\n",
              "youtubechannel          1\n",
              "NC_EDM                  1\n",
              "welearnblog_Home        1\n",
              "Pay per Click Ads       1\n",
              "WeLearn                 1\n",
              "testone                 1\n",
              "blog                    1\n",
              "Name: Lead Source, dtype: int64"
            ]
          },
          "metadata": {
            "tags": []
          },
          "execution_count": 42
        }
      ]
    },
    {
      "cell_type": "code",
      "metadata": {
        "id": "ayjYM2Ma_8Zz"
      },
      "source": [
        "#replacing NaN values and combining low frequency values\n",
        "\n",
        "leads['Lead Source'] = leads['Lead Source'].replace(np.nan,'Others')\n",
        "leads['Lead Source'] = leads['Lead Source'].replace('google','Google')\n",
        "leads['Lead Source'] = leads['Lead Source'].replace('Facebook','Social Media')\n",
        "leads['Lead Source'] = leads['Lead Source'].replace(['bing','Click2call','Press_Release','youtubechannel','welearnblog_Home','WeLearn','blog','Pay per Click Ads','testone','NC_EDM'] ,'Others')"
      ],
      "execution_count": 43,
      "outputs": []
    },
    {
      "cell_type": "markdown",
      "metadata": {
        "id": "pHFcK9ZNH5q2"
      },
      "source": [
        "We can group some of the lower frequency occuring labels under a common label 'Others'.\n"
      ]
    },
    {
      "cell_type": "code",
      "metadata": {
        "colab": {
          "base_uri": "https://localhost:8080/",
          "height": 412
        },
        "id": "lVBLh4lr_8WD",
        "outputId": "5b7d05a4-5e6e-4989-f238-d25903b1a598"
      },
      "source": [
        "#visualizing count of variable based on Converted values\n",
        "\n",
        "plt.figure(figsize=(15,5))\n",
        "s1=sns.countplot(leads['Lead Source'], hue=leads.Converted)\n",
        "s1.set_xticklabels(s1.get_xticklabels(),rotation=90)\n",
        "plt.show()"
      ],
      "execution_count": 44,
      "outputs": [
        {
          "output_type": "display_data",
          "data": {
            "image/png": "[encoded data removed]",
            "text/plain": [
              "<Figure size 1080x360 with 1 Axes>"
            ]
          },
          "metadata": {
            "tags": [],
            "needs_background": "light"
          }
        }
      ]
    },
    {
      "cell_type": "markdown",
      "metadata": {
        "id": "nhiMWsjPJLx0"
      },
      "source": [
        "**Inference**\n",
        "\n",
        "\n",
        "*   Maximum number of leads are generated by Google & Direct traffic.\n",
        "*   Conversion Rate of Inference leads and leads through welingak website is high.\n",
        "*   To improve overall lead conversion rate, focus should be on improving lead conversion of olark chat, organic search, direct traffic and google leads generate more leads from reference and welingak website.\n",
        "\n",
        "\n",
        "\n"
      ]
    },
    {
      "cell_type": "code",
      "metadata": {
        "colab": {
          "base_uri": "https://localhost:8080/"
        },
        "id": "mttEkuR9_8Su",
        "outputId": "2af564d2-f831-4cd3-be5b-d83fe3666e8c"
      },
      "source": [
        "#Last Activity\n",
        "\n",
        "leads['Last Activity'].value_counts(dropna=False)"
      ],
      "execution_count": 45,
      "outputs": [
        {
          "output_type": "execute_result",
          "data": {
            "text/plain": [
              "Email Opened                    3437\n",
              "SMS Sent                        2745\n",
              "Olark Chat Conversation          973\n",
              "Page Visited on Website          640\n",
              "Converted to Lead                428\n",
              "Email Bounced                    326\n",
              "Email Link Clicked               267\n",
              "Form Submitted on Website        116\n",
              "NaN                              103\n",
              "Unreachable                       93\n",
              "Unsubscribed                      61\n",
              "Had a Phone Conversation          30\n",
              "Approached upfront                 9\n",
              "View in browser link Clicked       6\n",
              "Email Received                     2\n",
              "Email Marked Spam                  2\n",
              "Resubscribed to emails             1\n",
              "Visited Booth in Tradeshow         1\n",
              "Name: Last Activity, dtype: int64"
            ]
          },
          "metadata": {
            "tags": []
          },
          "execution_count": 45
        }
      ]
    },
    {
      "cell_type": "code",
      "metadata": {
        "id": "uxXq4jcV_8PL"
      },
      "source": [
        "#replacing NaN values and Combining low frequency values\n",
        "\n",
        "leads['Last Activity'] = leads['Last Activity'].replace(np.nan,'Others')\n",
        "leads['Last Activity'] = leads['Last Activity'].replace(['Unreachable','Unsubscribed','Had a Phone Conversion','Approached upfront','View in browser link Clicked','Email Marked Spam','Email Received','Resubscribed to emails','Visited Booth in Tradeshow'],'Others')"
      ],
      "execution_count": 46,
      "outputs": []
    },
    {
      "cell_type": "code",
      "metadata": {
        "colab": {
          "base_uri": "https://localhost:8080/"
        },
        "id": "NMbrxWF9_8Lr",
        "outputId": "73d484b9-14ac-45a2-db8c-6cd4ce7f5c64"
      },
      "source": [
        "#Last Activity\n",
        "\n",
        "leads['Last Activity'].value_counts(dropna=False)"
      ],
      "execution_count": 47,
      "outputs": [
        {
          "output_type": "execute_result",
          "data": {
            "text/plain": [
              "Email Opened                 3437\n",
              "SMS Sent                     2745\n",
              "Olark Chat Conversation       973\n",
              "Page Visited on Website       640\n",
              "Converted to Lead             428\n",
              "Email Bounced                 326\n",
              "Others                        278\n",
              "Email Link Clicked            267\n",
              "Form Submitted on Website     116\n",
              "Had a Phone Conversation       30\n",
              "Name: Last Activity, dtype: int64"
            ]
          },
          "metadata": {
            "tags": []
          },
          "execution_count": 47
        }
      ]
    },
    {
      "cell_type": "code",
      "metadata": {
        "colab": {
          "base_uri": "https://localhost:8080/"
        },
        "id": "OK7TMJ-__8He",
        "outputId": "a47fd39c-028b-4cb3-c280-a56424349ce7"
      },
      "source": [
        "#Check the Null Values in All Columns:\n",
        "\n",
        "round(100*(leads.isnull().sum()/len(leads.index)), 2)"
      ],
      "execution_count": 48,
      "outputs": [
        {
          "output_type": "execute_result",
          "data": {
            "text/plain": [
              "Lead Origin                                      0.00\n",
              "Lead Source                                      0.00\n",
              "Do Not Email                                     0.00\n",
              "Do Not Call                                      0.00\n",
              "Converted                                        0.00\n",
              "TotalVisits                                      1.48\n",
              "Total Time Spent on Website                      0.00\n",
              "Page Views Per Visit                             1.48\n",
              "Last Activity                                    0.00\n",
              "Country                                          0.00\n",
              "Specialization                                   0.00\n",
              "What is your current occupation                  0.00\n",
              "What matters most to you in choosing a course    0.00\n",
              "Search                                           0.00\n",
              "Magazine                                         0.00\n",
              "Newspaper Article                                0.00\n",
              "X Education Forums                               0.00\n",
              "Newspaper                                        0.00\n",
              "Digital Advertisement                            0.00\n",
              "Through Recommendations                          0.00\n",
              "Receive More Updates About Our Courses           0.00\n",
              "Tags                                             0.00\n",
              "Update me on Supply Chain Content                0.00\n",
              "Get updates on DM Content                        0.00\n",
              "City                                             0.00\n",
              "I agree to pay the amount through cheque         0.00\n",
              "A free copy of Mastering The Interview           0.00\n",
              "Last Notable Activity                            0.00\n",
              "dtype: float64"
            ]
          },
          "metadata": {
            "tags": []
          },
          "execution_count": 48
        }
      ]
    },
    {
      "cell_type": "code",
      "metadata": {
        "id": "O_QtFq-F_8Ds"
      },
      "source": [
        "#Drop all rows which have NaN values. Since the number of dropped rows is less than 2%, it will not affect the model\n",
        "\n",
        "leads = leads.dropna()"
      ],
      "execution_count": 49,
      "outputs": []
    },
    {
      "cell_type": "code",
      "metadata": {
        "colab": {
          "base_uri": "https://localhost:8080/"
        },
        "id": "ZnThSH-S_7__",
        "outputId": "51747a45-0999-459f-af84-780aeacd74ed"
      },
      "source": [
        "#Checking percentage of Null Values in All columns:\n",
        "\n",
        "round(100*(leads.isnull().sum()/len(leads.index)), 2)"
      ],
      "execution_count": 50,
      "outputs": [
        {
          "output_type": "execute_result",
          "data": {
            "text/plain": [
              "Lead Origin                                      0.0\n",
              "Lead Source                                      0.0\n",
              "Do Not Email                                     0.0\n",
              "Do Not Call                                      0.0\n",
              "Converted                                        0.0\n",
              "TotalVisits                                      0.0\n",
              "Total Time Spent on Website                      0.0\n",
              "Page Views Per Visit                             0.0\n",
              "Last Activity                                    0.0\n",
              "Country                                          0.0\n",
              "Specialization                                   0.0\n",
              "What is your current occupation                  0.0\n",
              "What matters most to you in choosing a course    0.0\n",
              "Search                                           0.0\n",
              "Magazine                                         0.0\n",
              "Newspaper Article                                0.0\n",
              "X Education Forums                               0.0\n",
              "Newspaper                                        0.0\n",
              "Digital Advertisement                            0.0\n",
              "Through Recommendations                          0.0\n",
              "Receive More Updates About Our Courses           0.0\n",
              "Tags                                             0.0\n",
              "Update me on Supply Chain Content                0.0\n",
              "Get updates on DM Content                        0.0\n",
              "City                                             0.0\n",
              "I agree to pay the amount through cheque         0.0\n",
              "A free copy of Mastering The Interview           0.0\n",
              "Last Notable Activity                            0.0\n",
              "dtype: float64"
            ]
          },
          "metadata": {
            "tags": []
          },
          "execution_count": 50
        }
      ]
    },
    {
      "cell_type": "code",
      "metadata": {
        "colab": {
          "base_uri": "https://localhost:8080/"
        },
        "id": "7RWFQHRn_78R",
        "outputId": "d4dbfeb2-502e-427e-a515-6813d4474933"
      },
      "source": [
        "#Lead Origin\n",
        "\n",
        "leads['Lead Origin'].value_counts(dropna=False)"
      ],
      "execution_count": 51,
      "outputs": [
        {
          "output_type": "execute_result",
          "data": {
            "text/plain": [
              "Landing Page Submission    4886\n",
              "API                        3578\n",
              "Lead Add Form               608\n",
              "Lead Import                  31\n",
              "Name: Lead Origin, dtype: int64"
            ]
          },
          "metadata": {
            "tags": []
          },
          "execution_count": 51
        }
      ]
    },
    {
      "cell_type": "code",
      "metadata": {
        "colab": {
          "base_uri": "https://localhost:8080/",
          "height": 451
        },
        "id": "rrhByDXJ_75j",
        "outputId": "7d7cefba-9131-4f7c-f7d4-a32dade054ff"
      },
      "source": [
        "#visualizing count of variable based on Converted value\n",
        "\n",
        "plt.figure(figsize=(8,5))\n",
        "s1=sns.countplot(leads['Lead Origin'], hue=leads.Converted)\n",
        "s1.set_xticklabels(s1.get_xticklabels(),rotation=90)\n",
        "plt.show()"
      ],
      "execution_count": 52,
      "outputs": [
        {
          "output_type": "display_data",
          "data": {
            "image/png": "[encoded data removed]",
            "text/plain": [
              "<Figure size 576x360 with 1 Axes>"
            ]
          },
          "metadata": {
            "tags": [],
            "needs_background": "light"
          }
        }
      ]
    },
    {
      "cell_type": "markdown",
      "metadata": {
        "id": "DjhNiMUoP2sa"
      },
      "source": [
        "**Inference**\n",
        "\n",
        "\n",
        "\n",
        "*   API and Landing Page Submission bring higher number of leads as well as conversion.\n",
        "*   Lead Add Form has a very high conversion rate but count of leads are not very high. \n",
        "*   Lead Import and Quick Add Form get very few leads.\n",
        "*   In order to improve overall lead conversion rate, we have to improve lead conversion of API and Landing Page Submission origin and generate more leads from Lead Add Form. \n",
        "\n"
      ]
    },
    {
      "cell_type": "code",
      "metadata": {
        "colab": {
          "base_uri": "https://localhost:8080/",
          "height": 340
        },
        "id": "kMu6oU78_717",
        "outputId": "7d9713d6-7773-49ce-92ae-e1f9db5697a6"
      },
      "source": [
        "#Do Not Email & Do Not Call\n",
        "#visualizing count of variable based on Converted value\n",
        "\n",
        "plt.figure(figsize=(15,5))\n",
        "\n",
        "ax1=plt.subplot(1,2,1)\n",
        "ax1=sns.countplot(leads['Do Not Call'], hue=leads.Converted)\n",
        "ax1.set_xticklabels(ax1.get_xticklabels(),rotation=90)\n",
        "\n",
        "ax2=plt.subplot(1,2,2)\n",
        "ax2=sns.countplot(leads['Do Not Email'], hue=leads.Converted)\n",
        "ax2.set_xticklabels(ax2.get_xticklabels(),rotation=90)\n",
        "plt.show()"
      ],
      "execution_count": 53,
      "outputs": [
        {
          "output_type": "display_data",
          "data": {
            "image/png": "[encoded data removed]",
            "text/plain": [
              "<Figure size 1080x360 with 2 Axes>"
            ]
          },
          "metadata": {
            "tags": [],
            "needs_background": "light"
          }
        }
      ]
    },
    {
      "cell_type": "code",
      "metadata": {
        "colab": {
          "base_uri": "https://localhost:8080/"
        },
        "id": "pWH8CLfL_7yb",
        "outputId": "1bd1115e-18c1-41ab-8467-851ef28e5736"
      },
      "source": [
        "#checking value counts for Do Not Call\n",
        "\n",
        "leads['Do Not Call'].value_counts(dropna=False)"
      ],
      "execution_count": 54,
      "outputs": [
        {
          "output_type": "execute_result",
          "data": {
            "text/plain": [
              "No     9101\n",
              "Yes       2\n",
              "Name: Do Not Call, dtype: int64"
            ]
          },
          "metadata": {
            "tags": []
          },
          "execution_count": 54
        }
      ]
    },
    {
      "cell_type": "code",
      "metadata": {
        "colab": {
          "base_uri": "https://localhost:8080/"
        },
        "id": "BnJtb-dT_7vD",
        "outputId": "0cd0b304-bfc6-4a08-eafb-8fe67b3d029b"
      },
      "source": [
        "#checking value counts for Do Not Email\n",
        "\n",
        "leads['Do Not Email'].value_counts(dropna=False)"
      ],
      "execution_count": 55,
      "outputs": [
        {
          "output_type": "execute_result",
          "data": {
            "text/plain": [
              "No     8379\n",
              "Yes     724\n",
              "Name: Do Not Email, dtype: int64"
            ]
          },
          "metadata": {
            "tags": []
          },
          "execution_count": 55
        }
      ]
    },
    {
      "cell_type": "markdown",
      "metadata": {
        "id": "H0-ZOkbLTxqx"
      },
      "source": [
        "We can append the Do Not Call column to the list of column to be Dropped since>90% is of only one value."
      ]
    },
    {
      "cell_type": "code",
      "metadata": {
        "colab": {
          "base_uri": "https://localhost:8080/"
        },
        "id": "AQ42QwJV_7q2",
        "outputId": "01632382-534a-4559-df73-c3f5d5bb4161"
      },
      "source": [
        "cols_to_drop.append('Do Not Call')\n",
        "cols_to_drop"
      ],
      "execution_count": 56,
      "outputs": [
        {
          "output_type": "execute_result",
          "data": {
            "text/plain": [
              "['Country', 'What matters most to you in choosing a course', 'Do Not Call']"
            ]
          },
          "metadata": {
            "tags": []
          },
          "execution_count": 56
        }
      ]
    },
    {
      "cell_type": "code",
      "metadata": {
        "colab": {
          "base_uri": "https://localhost:8080/"
        },
        "id": "TsZuhYpI_7nn",
        "outputId": "b87cc4ff-5f35-4de6-a332-4e6822cbbfed"
      },
      "source": [
        "#IMBLANCED VARIABLES THAT CAN BE DROPPED\n",
        "\n",
        "leads.Search.value_counts(dropna=False)"
      ],
      "execution_count": 57,
      "outputs": [
        {
          "output_type": "execute_result",
          "data": {
            "text/plain": [
              "No     9089\n",
              "Yes      14\n",
              "Name: Search, dtype: int64"
            ]
          },
          "metadata": {
            "tags": []
          },
          "execution_count": 57
        }
      ]
    },
    {
      "cell_type": "code",
      "metadata": {
        "colab": {
          "base_uri": "https://localhost:8080/"
        },
        "id": "3nIYAoJl_7kO",
        "outputId": "c8642f1f-4eea-4c37-ecef-98cee5445d2d"
      },
      "source": [
        "leads.Magazine.value_counts(dropna=False)"
      ],
      "execution_count": 58,
      "outputs": [
        {
          "output_type": "execute_result",
          "data": {
            "text/plain": [
              "No    9103\n",
              "Name: Magazine, dtype: int64"
            ]
          },
          "metadata": {
            "tags": []
          },
          "execution_count": 58
        }
      ]
    },
    {
      "cell_type": "code",
      "metadata": {
        "colab": {
          "base_uri": "https://localhost:8080/"
        },
        "id": "nDv3jnL5_7eu",
        "outputId": "8503c168-2053-4001-a5e4-02862e45dac0"
      },
      "source": [
        "leads['Newspaper Article'].value_counts(dropna=False)"
      ],
      "execution_count": 59,
      "outputs": [
        {
          "output_type": "execute_result",
          "data": {
            "text/plain": [
              "No     9101\n",
              "Yes       2\n",
              "Name: Newspaper Article, dtype: int64"
            ]
          },
          "metadata": {
            "tags": []
          },
          "execution_count": 59
        }
      ]
    },
    {
      "cell_type": "code",
      "metadata": {
        "colab": {
          "base_uri": "https://localhost:8080/"
        },
        "id": "I2cs2OxK_7Z7",
        "outputId": "afb77023-7eac-41a9-ae83-6eccd332897e"
      },
      "source": [
        "leads['X Education Forums'].value_counts(dropna=False)"
      ],
      "execution_count": 60,
      "outputs": [
        {
          "output_type": "execute_result",
          "data": {
            "text/plain": [
              "No     9102\n",
              "Yes       1\n",
              "Name: X Education Forums, dtype: int64"
            ]
          },
          "metadata": {
            "tags": []
          },
          "execution_count": 60
        }
      ]
    },
    {
      "cell_type": "code",
      "metadata": {
        "colab": {
          "base_uri": "https://localhost:8080/"
        },
        "id": "zuDJBqxS_7Sv",
        "outputId": "e6cbf3e9-2364-4dba-eafa-35460300e6cb"
      },
      "source": [
        "leads['Newspaper'].value_counts(dropna=False)"
      ],
      "execution_count": 61,
      "outputs": [
        {
          "output_type": "execute_result",
          "data": {
            "text/plain": [
              "No     9102\n",
              "Yes       1\n",
              "Name: Newspaper, dtype: int64"
            ]
          },
          "metadata": {
            "tags": []
          },
          "execution_count": 61
        }
      ]
    },
    {
      "cell_type": "code",
      "metadata": {
        "colab": {
          "base_uri": "https://localhost:8080/"
        },
        "id": "_cDSWrJU_7Lj",
        "outputId": "95ab7bf7-2895-4dcb-8cca-ce0d4950079d"
      },
      "source": [
        "leads['Digital Advertisement'].value_counts(dropna=False)"
      ],
      "execution_count": 62,
      "outputs": [
        {
          "output_type": "execute_result",
          "data": {
            "text/plain": [
              "No     9099\n",
              "Yes       4\n",
              "Name: Digital Advertisement, dtype: int64"
            ]
          },
          "metadata": {
            "tags": []
          },
          "execution_count": 62
        }
      ]
    },
    {
      "cell_type": "code",
      "metadata": {
        "colab": {
          "base_uri": "https://localhost:8080/"
        },
        "id": "RnxkmuDA_7H3",
        "outputId": "ede496fd-9f9b-4fd2-f79f-ad88055a15b9"
      },
      "source": [
        "leads['Through Recommendations'].value_counts(dropna=False)"
      ],
      "execution_count": 63,
      "outputs": [
        {
          "output_type": "execute_result",
          "data": {
            "text/plain": [
              "No     9096\n",
              "Yes       7\n",
              "Name: Through Recommendations, dtype: int64"
            ]
          },
          "metadata": {
            "tags": []
          },
          "execution_count": 63
        }
      ]
    },
    {
      "cell_type": "code",
      "metadata": {
        "colab": {
          "base_uri": "https://localhost:8080/"
        },
        "id": "GKlPZZH-_7EG",
        "outputId": "31c51413-f7a3-47b8-d4f8-c9a5ef30fd63"
      },
      "source": [
        "leads['Receive More Updates About Our Courses'].value_counts(dropna=False)"
      ],
      "execution_count": 64,
      "outputs": [
        {
          "output_type": "execute_result",
          "data": {
            "text/plain": [
              "No    9103\n",
              "Name: Receive More Updates About Our Courses, dtype: int64"
            ]
          },
          "metadata": {
            "tags": []
          },
          "execution_count": 64
        }
      ]
    },
    {
      "cell_type": "code",
      "metadata": {
        "colab": {
          "base_uri": "https://localhost:8080/"
        },
        "id": "rxtFt9id_7AK",
        "outputId": "0cac1d49-267c-425e-bec7-83f983e58599"
      },
      "source": [
        "leads['Update me on Supply Chain Content'].value_counts(dropna=False)"
      ],
      "execution_count": 65,
      "outputs": [
        {
          "output_type": "execute_result",
          "data": {
            "text/plain": [
              "No    9103\n",
              "Name: Update me on Supply Chain Content, dtype: int64"
            ]
          },
          "metadata": {
            "tags": []
          },
          "execution_count": 65
        }
      ]
    },
    {
      "cell_type": "code",
      "metadata": {
        "colab": {
          "base_uri": "https://localhost:8080/"
        },
        "id": "LEL8yBan_68Z",
        "outputId": "939f85e7-815e-4aa0-ba6c-3710d7943bd8"
      },
      "source": [
        "leads['Get updates on DM Content'].value_counts(dropna=False)"
      ],
      "execution_count": 66,
      "outputs": [
        {
          "output_type": "execute_result",
          "data": {
            "text/plain": [
              "No    9103\n",
              "Name: Get updates on DM Content, dtype: int64"
            ]
          },
          "metadata": {
            "tags": []
          },
          "execution_count": 66
        }
      ]
    },
    {
      "cell_type": "code",
      "metadata": {
        "colab": {
          "base_uri": "https://localhost:8080/"
        },
        "id": "_5VHjF2W_63o",
        "outputId": "b18af4ef-c4b4-403d-b32f-58d477c60430"
      },
      "source": [
        "leads['I agree to pay the amount through cheque'].value_counts(dropna=False)"
      ],
      "execution_count": 67,
      "outputs": [
        {
          "output_type": "execute_result",
          "data": {
            "text/plain": [
              "No    9103\n",
              "Name: I agree to pay the amount through cheque, dtype: int64"
            ]
          },
          "metadata": {
            "tags": []
          },
          "execution_count": 67
        }
      ]
    },
    {
      "cell_type": "code",
      "metadata": {
        "colab": {
          "base_uri": "https://localhost:8080/"
        },
        "id": "7Q7SRA4Z_6xr",
        "outputId": "4a9605e4-8a6e-4fda-8ebf-6a7c3525abbb"
      },
      "source": [
        "leads['A free copy of Mastering The Interview'].value_counts(dropna=False)"
      ],
      "execution_count": 68,
      "outputs": [
        {
          "output_type": "execute_result",
          "data": {
            "text/plain": [
              "No     6215\n",
              "Yes    2888\n",
              "Name: A free copy of Mastering The Interview, dtype: int64"
            ]
          },
          "metadata": {
            "tags": []
          },
          "execution_count": 68
        }
      ]
    },
    {
      "cell_type": "code",
      "metadata": {
        "id": "xqqhk4SW_6oc"
      },
      "source": [
        "#adding imbalanced columns to the list of columns to be dropped\n",
        "\n",
        "cols_to_drop.extend(['Search','Magazine','Newspaper Article','X Education Forums','Newspaper','Digital Advertisement','Through Recommendations','Receive More Updates About Our Courses','Update me on Supply Chain Content','Get updates on DM Content','I agree to pay the amount through cheque'])"
      ],
      "execution_count": 69,
      "outputs": []
    },
    {
      "cell_type": "code",
      "metadata": {
        "colab": {
          "base_uri": "https://localhost:8080/"
        },
        "id": "aJ_r5YoB_3Nn",
        "outputId": "803f8bd3-f428-46f1-dac2-8605647bbddb"
      },
      "source": [
        "#checking value counts of last Notable Activity \n",
        "\n",
        "leads['Last Notable Activity'].value_counts()"
      ],
      "execution_count": 70,
      "outputs": [
        {
          "output_type": "execute_result",
          "data": {
            "text/plain": [
              "Modified                        3270\n",
              "Email Opened                    2827\n",
              "SMS Sent                        2172\n",
              "Page Visited on Website          318\n",
              "Olark Chat Conversation          183\n",
              "Email Link Clicked               173\n",
              "Email Bounced                     60\n",
              "Unsubscribed                      47\n",
              "Unreachable                       32\n",
              "Had a Phone Conversation          14\n",
              "Email Marked Spam                  2\n",
              "Resubscribed to emails             1\n",
              "Form Submitted on Website          1\n",
              "Email Received                     1\n",
              "View in browser link Clicked       1\n",
              "Approached upfront                 1\n",
              "Name: Last Notable Activity, dtype: int64"
            ]
          },
          "metadata": {
            "tags": []
          },
          "execution_count": 70
        }
      ]
    },
    {
      "cell_type": "code",
      "metadata": {
        "id": "4ATv0qhCmEbT"
      },
      "source": [
        "#clubbing lower frequency values\n",
        "\n",
        "leads['Last Notable Activity'] = leads['Last Notable Activity'].replace(['Had a Phone Conversation','Email Marked Spam','Unreachable','Unsubscribed','Email Bounced','Resubscribed to emails','View in browser link Clicked','Approached upfront','Form Submitted on Website','Email Received'],'Other_Notable_activity')"
      ],
      "execution_count": 71,
      "outputs": []
    },
    {
      "cell_type": "code",
      "metadata": {
        "colab": {
          "base_uri": "https://localhost:8080/",
          "height": 445
        },
        "id": "DyHOxa7UmDhM",
        "outputId": "a274fb51-af5a-49f3-b8b0-e11e89f16859"
      },
      "source": [
        "#visualizing count of Variable based on Converted value\n",
        "\n",
        "plt.figure(figsize=(14,5))\n",
        "ax1=sns.countplot(x=\"Last Notable Activity\", hue = \"Converted\",data = leads)\n",
        "ax1.set_xticklabels(ax1.get_xticklabels(),rotation=90)\n",
        "plt.show()"
      ],
      "execution_count": 72,
      "outputs": [
        {
          "output_type": "display_data",
          "data": {
            "image/png": "[encoded data removed]",
            "text/plain": [
              "<Figure size 1008x360 with 1 Axes>"
            ]
          },
          "metadata": {
            "tags": [],
            "needs_background": "light"
          }
        }
      ]
    },
    {
      "cell_type": "code",
      "metadata": {
        "colab": {
          "base_uri": "https://localhost:8080/"
        },
        "id": "spmY5yqtmDaw",
        "outputId": "2fc02610-7f4c-4def-d0b5-af68ac0641c0"
      },
      "source": [
        "#checking value counts for variable\n",
        "\n",
        "leads['Last Notable Activity'].value_counts()"
      ],
      "execution_count": 73,
      "outputs": [
        {
          "output_type": "execute_result",
          "data": {
            "text/plain": [
              "Modified                   3270\n",
              "Email Opened               2827\n",
              "SMS Sent                   2172\n",
              "Page Visited on Website     318\n",
              "Olark Chat Conversation     183\n",
              "Email Link Clicked          173\n",
              "Other_Notable_activity      160\n",
              "Name: Last Notable Activity, dtype: int64"
            ]
          },
          "metadata": {
            "tags": []
          },
          "execution_count": 73
        }
      ]
    },
    {
      "cell_type": "code",
      "metadata": {
        "colab": {
          "base_uri": "https://localhost:8080/"
        },
        "id": "hXwrskgwmDWQ",
        "outputId": "da47bd62-505b-4db1-a1b9-58acf0b4e0c5"
      },
      "source": [
        "#list of columns to be dropped\n",
        "\n",
        "cols_to_drop"
      ],
      "execution_count": 74,
      "outputs": [
        {
          "output_type": "execute_result",
          "data": {
            "text/plain": [
              "['Country',\n",
              " 'What matters most to you in choosing a course',\n",
              " 'Do Not Call',\n",
              " 'Search',\n",
              " 'Magazine',\n",
              " 'Newspaper Article',\n",
              " 'X Education Forums',\n",
              " 'Newspaper',\n",
              " 'Digital Advertisement',\n",
              " 'Through Recommendations',\n",
              " 'Receive More Updates About Our Courses',\n",
              " 'Update me on Supply Chain Content',\n",
              " 'Get updates on DM Content',\n",
              " 'I agree to pay the amount through cheque']"
            ]
          },
          "metadata": {
            "tags": []
          },
          "execution_count": 74
        }
      ]
    },
    {
      "cell_type": "code",
      "metadata": {
        "colab": {
          "base_uri": "https://localhost:8080/"
        },
        "id": "EYmF9tu8mDSF",
        "outputId": "15190d31-92bc-494e-bb31-b79ebf6df4ca"
      },
      "source": [
        "#dropping columns\n",
        "\n",
        "leads = leads.drop(cols_to_drop,1)\n",
        "leads.info()"
      ],
      "execution_count": 75,
      "outputs": [
        {
          "output_type": "stream",
          "text": [
            "<class 'pandas.core.frame.DataFrame'>\n",
            "Int64Index: 9103 entries, 0 to 9239\n",
            "Data columns (total 14 columns):\n",
            " #   Column                                  Non-Null Count  Dtype  \n",
            "---  ------                                  --------------  -----  \n",
            " 0   Lead Origin                             9103 non-null   object \n",
            " 1   Lead Source                             9103 non-null   object \n",
            " 2   Do Not Email                            9103 non-null   object \n",
            " 3   Converted                               9103 non-null   int64  \n",
            " 4   TotalVisits                             9103 non-null   float64\n",
            " 5   Total Time Spent on Website             9103 non-null   int64  \n",
            " 6   Page Views Per Visit                    9103 non-null   float64\n",
            " 7   Last Activity                           9103 non-null   object \n",
            " 8   Specialization                          9103 non-null   object \n",
            " 9   What is your current occupation         9103 non-null   object \n",
            " 10  Tags                                    9103 non-null   object \n",
            " 11  City                                    9103 non-null   object \n",
            " 12  A free copy of Mastering The Interview  9103 non-null   object \n",
            " 13  Last Notable Activity                   9103 non-null   object \n",
            "dtypes: float64(2), int64(2), object(10)\n",
            "memory usage: 1.4+ MB\n"
          ],
          "name": "stdout"
        }
      ]
    },
    {
      "cell_type": "markdown",
      "metadata": {
        "id": "hekDAIqZrtvW"
      },
      "source": [
        "**Numerical Attributes Analysis**"
      ]
    },
    {
      "cell_type": "code",
      "metadata": {
        "id": "GCzzYyeymDOA",
        "colab": {
          "base_uri": "https://localhost:8080/"
        },
        "outputId": "eb0c8306-6621-41a1-876b-b288e35a331f"
      },
      "source": [
        "#Check the % of Data that has Converted Values = 1:\n",
        "\n",
        "Converted = (sum(leads['Converted'])/len(leads['Converted'].index))*100\n",
        "Converted"
      ],
      "execution_count": 76,
      "outputs": [
        {
          "output_type": "execute_result",
          "data": {
            "text/plain": [
              "38.02043282434362"
            ]
          },
          "metadata": {
            "tags": []
          },
          "execution_count": 76
        }
      ]
    },
    {
      "cell_type": "code",
      "metadata": {
        "id": "jEk3REKgmDJP",
        "colab": {
          "base_uri": "https://localhost:8080/",
          "height": 617
        },
        "outputId": "a2058ac9-f99e-4165-9553-f0d5d7db96d2"
      },
      "source": [
        "#Checking correlations of numeric values\n",
        "#figure size\n",
        "\n",
        "plt.figure(figsize=(10,8))\n",
        "\n",
        "#Heatmap\n",
        "\n",
        "sns.heatmap(leads.corr(), cmap=\"YlGnBu\",annot=True)\n",
        "plt.show()"
      ],
      "execution_count": 77,
      "outputs": [
        {
          "output_type": "display_data",
          "data": {
            "image/png": "[encoded data removed]",
            "text/plain": [
              "<Figure size 720x576 with 2 Axes>"
            ]
          },
          "metadata": {
            "tags": [],
            "needs_background": "light"
          }
        }
      ]
    },
    {
      "cell_type": "code",
      "metadata": {
        "id": "kKJoJ7vmmDFL",
        "colab": {
          "base_uri": "https://localhost:8080/",
          "height": 252
        },
        "outputId": "606cba3e-bda7-479a-9f71-f7927ebf439e"
      },
      "source": [
        "#Total Visits\n",
        "#Visualizing spread of variable\n",
        "\n",
        "plt.figure(figsize=(6,4))\n",
        "sns.boxplot(y=leads['TotalVisits'])\n",
        "plt.show()"
      ],
      "execution_count": 78,
      "outputs": [
        {
          "output_type": "display_data",
          "data": {
            "image/png": "[encoded data removed]",
            "text/plain": [
              "<Figure size 432x288 with 1 Axes>"
            ]
          },
          "metadata": {
            "tags": [],
            "needs_background": "light"
          }
        }
      ]
    },
    {
      "cell_type": "markdown",
      "metadata": {
        "id": "S3JMQyuex85T"
      },
      "source": [
        "We can see the presence of outliers here."
      ]
    },
    {
      "cell_type": "code",
      "metadata": {
        "id": "r52L8p3_mDAu",
        "colab": {
          "base_uri": "https://localhost:8080/"
        },
        "outputId": "ff8b0f3a-edb9-4793-b3eb-fd439fa3392c"
      },
      "source": [
        "#checking percentile values for \"Total Visits\"\n",
        "\n",
        "leads['TotalVisits'].describe(percentiles=[0.05, .25, .5, .75, .90, .95, .99])"
      ],
      "execution_count": 79,
      "outputs": [
        {
          "output_type": "execute_result",
          "data": {
            "text/plain": [
              "count    9103.000000\n",
              "mean        3.445238\n",
              "std         4.854853\n",
              "min         0.000000\n",
              "5%          0.000000\n",
              "25%         1.000000\n",
              "50%         3.000000\n",
              "75%         5.000000\n",
              "90%         7.000000\n",
              "95%        10.000000\n",
              "99%        17.000000\n",
              "max       251.000000\n",
              "Name: TotalVisits, dtype: float64"
            ]
          },
          "metadata": {
            "tags": []
          },
          "execution_count": 79
        }
      ]
    },
    {
      "cell_type": "code",
      "metadata": {
        "id": "oOaNS2MJmC8c",
        "colab": {
          "base_uri": "https://localhost:8080/",
          "height": 252
        },
        "outputId": "3540f8ec-fa6a-4dd7-cc87-34181ded3d2f"
      },
      "source": [
        "#Outliers Treatment: Remove top & bottom 1% of the Column Outlier values\n",
        "\n",
        "Q3 = leads.TotalVisits.quantile(0.99)\n",
        "leads = leads[(leads.TotalVisits <= Q3)]\n",
        "Q1 = leads.TotalVisits.quantile(0.01)\n",
        "leads = leads[(leads.TotalVisits >= Q1)]\n",
        "sns.boxplot(y=leads['TotalVisits'])\n",
        "plt.show()"
      ],
      "execution_count": 80,
      "outputs": [
        {
          "output_type": "display_data",
          "data": {
            "image/png": "[encoded data removed]",
            "text/plain": [
              "<Figure size 432x288 with 1 Axes>"
            ]
          },
          "metadata": {
            "tags": [],
            "needs_background": "light"
          }
        }
      ]
    },
    {
      "cell_type": "code",
      "metadata": {
        "id": "yapK-5KtmC3d",
        "colab": {
          "base_uri": "https://localhost:8080/"
        },
        "outputId": "f0c742b0-ff69-461b-9326-4a4a67cd6fb9"
      },
      "source": [
        "leads.shape"
      ],
      "execution_count": 81,
      "outputs": [
        {
          "output_type": "execute_result",
          "data": {
            "text/plain": [
              "(9020, 14)"
            ]
          },
          "metadata": {
            "tags": []
          },
          "execution_count": 81
        }
      ]
    },
    {
      "cell_type": "markdown",
      "metadata": {
        "id": "97nEIkuz0BPE"
      },
      "source": [
        "Check for the Next Numerical Column:\n"
      ]
    },
    {
      "cell_type": "code",
      "metadata": {
        "id": "EyIzdCeHmCub",
        "colab": {
          "base_uri": "https://localhost:8080/"
        },
        "outputId": "ed190ed2-e101-4874-e90b-da13bf88e2df"
      },
      "source": [
        "#checking percentile for \"Total Time Spent on Website\"\n",
        "\n",
        "leads['Total Time Spent on Website'].describe(percentiles=[0.05, .25, .5, .75, .90, .95, .99])"
      ],
      "execution_count": 83,
      "outputs": [
        {
          "output_type": "execute_result",
          "data": {
            "text/plain": [
              "count    9020.000000\n",
              "mean      479.759534\n",
              "std       544.688157\n",
              "min         0.000000\n",
              "5%          0.000000\n",
              "25%         7.000000\n",
              "50%       243.000000\n",
              "75%       915.250000\n",
              "90%      1371.000000\n",
              "95%      1554.050000\n",
              "99%      1836.620000\n",
              "max      2272.000000\n",
              "Name: Total Time Spent on Website, dtype: float64"
            ]
          },
          "metadata": {
            "tags": []
          },
          "execution_count": 83
        }
      ]
    },
    {
      "cell_type": "code",
      "metadata": {
        "id": "gpitxO0smCn3",
        "colab": {
          "base_uri": "https://localhost:8080/",
          "height": 252
        },
        "outputId": "f9559278-8006-44f2-8446-4c20f187d619"
      },
      "source": [
        "plt.figure(figsize=(6,4))\n",
        "sns.boxplot(y=leads['Total Time Spent on Website'])\n",
        "plt.show()"
      ],
      "execution_count": 82,
      "outputs": [
        {
          "output_type": "display_data",
          "data": {
            "image/png": "[encoded data removed]",
            "text/plain": [
              "<Figure size 432x288 with 1 Axes>"
            ]
          },
          "metadata": {
            "tags": [],
            "needs_background": "light"
          }
        }
      ]
    },
    {
      "cell_type": "markdown",
      "metadata": {
        "id": "-cjkTFaU1FXw"
      },
      "source": [
        "Since there are no major Outliers for the above variable we don't do any Outlier Treatment for this above Column."
      ]
    },
    {
      "cell_type": "markdown",
      "metadata": {
        "id": "rBX02SBv1a0b"
      },
      "source": [
        "Check for Page Views Per Visit:\n"
      ]
    },
    {
      "cell_type": "code",
      "metadata": {
        "id": "tM1F0DzHmCdJ",
        "colab": {
          "base_uri": "https://localhost:8080/"
        },
        "outputId": "d9c263af-16db-4a9d-fe2e-48d8295579d7"
      },
      "source": [
        "#checking spread of \"Page Views Per Visit\"\n",
        "\n",
        "leads['Page Views Per Visit'].describe()"
      ],
      "execution_count": 83,
      "outputs": [
        {
          "output_type": "execute_result",
          "data": {
            "text/plain": [
              "count    9020.000000\n",
              "mean        2.337271\n",
              "std         2.062363\n",
              "min         0.000000\n",
              "25%         1.000000\n",
              "50%         2.000000\n",
              "75%         3.000000\n",
              "max        16.000000\n",
              "Name: Page Views Per Visit, dtype: float64"
            ]
          },
          "metadata": {
            "tags": []
          },
          "execution_count": 83
        }
      ]
    },
    {
      "cell_type": "code",
      "metadata": {
        "id": "DvRVwV9smCPp",
        "colab": {
          "base_uri": "https://localhost:8080/",
          "height": 252
        },
        "outputId": "1c7a23f9-2b12-42b3-cd7f-a4a8058ff16f"
      },
      "source": [
        "#visualizing  spread of numeric variable\n",
        "\n",
        "plt.figure(figsize=(6,4))\n",
        "sns.boxplot(y=leads['Page Views Per Visit'])\n",
        "plt.show()"
      ],
      "execution_count": 84,
      "outputs": [
        {
          "output_type": "display_data",
          "data": {
            "image/png": "[encoded data removed]",
            "text/plain": [
              "<Figure size 432x288 with 1 Axes>"
            ]
          },
          "metadata": {
            "tags": [],
            "needs_background": "light"
          }
        }
      ]
    },
    {
      "cell_type": "code",
      "metadata": {
        "colab": {
          "base_uri": "https://localhost:8080/",
          "height": 252
        },
        "id": "V9TeRAhjVwWx",
        "outputId": "9fc2948f-c667-4ff2-de28-cfc85bd8858f"
      },
      "source": [
        "#Outlier Treatment: Remove top & bottom 1%\n",
        "\n",
        "Q3 = leads['Page Views Per Visit'].quantile(0.99)\n",
        "leads = leads[leads['Page Views Per Visit'] <= Q3]\n",
        "Q1 = leads['Page Views Per Visit'].quantile(0.01)\n",
        "leads = leads[leads['Page Views Per Visit'] >= Q1]\n",
        "sns.boxplot(y=leads['Page Views Per Visit'])\n",
        "plt.show()"
      ],
      "execution_count": 85,
      "outputs": [
        {
          "output_type": "display_data",
          "data": {
            "image/png": "[encoded data removed]",
            "text/plain": [
              "<Figure size 432x288 with 1 Axes>"
            ]
          },
          "metadata": {
            "tags": [],
            "needs_background": "light"
          }
        }
      ]
    },
    {
      "cell_type": "code",
      "metadata": {
        "colab": {
          "base_uri": "https://localhost:8080/"
        },
        "id": "mEtMbZ1KVwR2",
        "outputId": "f8c5e4f4-838f-4b6b-fb43-e7a240bd90b9"
      },
      "source": [
        "leads.shape"
      ],
      "execution_count": 86,
      "outputs": [
        {
          "output_type": "execute_result",
          "data": {
            "text/plain": [
              "(8953, 14)"
            ]
          },
          "metadata": {
            "tags": []
          },
          "execution_count": 86
        }
      ]
    },
    {
      "cell_type": "code",
      "metadata": {
        "colab": {
          "base_uri": "https://localhost:8080/",
          "height": 278
        },
        "id": "tIrbPFZpVwNa",
        "outputId": "6180a350-6354-497f-aa4d-98c519953be4"
      },
      "source": [
        "#checking Spread of \"Total Visits\" vs Converted Variable\n",
        "\n",
        "sns.boxplot(y = 'TotalVisits', x = 'Converted', data = leads)\n",
        "plt.show()"
      ],
      "execution_count": 87,
      "outputs": [
        {
          "output_type": "display_data",
          "data": {
            "image/png": "[encoded data removed]",
            "text/plain": [
              "<Figure size 432x288 with 1 Axes>"
            ]
          },
          "metadata": {
            "tags": [],
            "needs_background": "light"
          }
        }
      ]
    },
    {
      "cell_type": "markdown",
      "metadata": {
        "id": "Rwj8-KqvFk2M"
      },
      "source": [
        "**Inference**\n",
        "\n",
        "\n",
        "\n",
        "\n",
        "*   Median for converted and not converted leads are the close.\n",
        "*   Nothing conclusive can be said on the basis of Total Visits.\n",
        "\n"
      ]
    },
    {
      "cell_type": "code",
      "metadata": {
        "colab": {
          "base_uri": "https://localhost:8080/",
          "height": 278
        },
        "id": "0yPQBPwwVwJA",
        "outputId": "022328f3-b464-48d4-d222-fc2d83fbb6dd"
      },
      "source": [
        "#checking Spread of \"Total Time Spent on Website\" vs Converted variable\n",
        "\n",
        "sns.boxplot(x=leads.Converted, y=leads['Total Time Spent on Website'])\n",
        "plt.show()"
      ],
      "execution_count": 88,
      "outputs": [
        {
          "output_type": "display_data",
          "data": {
            "image/png": "[encoded data removed]",
            "text/plain": [
              "<Figure size 432x288 with 1 Axes>"
            ]
          },
          "metadata": {
            "tags": [],
            "needs_background": "light"
          }
        }
      ]
    },
    {
      "cell_type": "markdown",
      "metadata": {
        "id": "AmKaBSDdGrjg"
      },
      "source": [
        "**Inference**\n",
        "\n",
        "\n",
        "\n",
        "*   Leads spending more time on the website are more likely to be converted.\n",
        "*   Website should be made more engaging to make leads spend more time.\n",
        "\n"
      ]
    },
    {
      "cell_type": "code",
      "metadata": {
        "colab": {
          "base_uri": "https://localhost:8080/",
          "height": 278
        },
        "id": "81NmkA4tVwDk",
        "outputId": "45299e91-f81f-49fe-fee4-cca9ce952a42"
      },
      "source": [
        "#checking Spread of \"Page Views Per Visit\" vs Converted variable\n",
        "\n",
        "sns.boxplot(x=leads.Converted,y=leads['Page Views Per Visit'])\n",
        "plt.show()"
      ],
      "execution_count": 89,
      "outputs": [
        {
          "output_type": "display_data",
          "data": {
            "image/png": "[encoded data removed]",
            "text/plain": [
              "<Figure size 432x288 with 1 Axes>"
            ]
          },
          "metadata": {
            "tags": [],
            "needs_background": "light"
          }
        }
      ]
    },
    {
      "cell_type": "markdown",
      "metadata": {
        "id": "-WgBzh6XHuBk"
      },
      "source": [
        "**Inference**\n",
        "\n",
        "\n",
        "\n",
        "*   Median for converted and unconverted leads is the same.\n",
        "*   Nothing can be said specifically for lead conversion from Page Views Per Visit.\n",
        "\n"
      ]
    },
    {
      "cell_type": "code",
      "metadata": {
        "colab": {
          "base_uri": "https://localhost:8080/"
        },
        "id": "LjezH3kWVv88",
        "outputId": "d7bceb1a-c42d-4017-abc4-3a2005dc6d3c"
      },
      "source": [
        "#checking missing values in leftover columns/\n",
        "\n",
        "round(100*(leads.isnull().sum()/len(leads.index)),2)"
      ],
      "execution_count": 90,
      "outputs": [
        {
          "output_type": "execute_result",
          "data": {
            "text/plain": [
              "Lead Origin                               0.0\n",
              "Lead Source                               0.0\n",
              "Do Not Email                              0.0\n",
              "Converted                                 0.0\n",
              "TotalVisits                               0.0\n",
              "Total Time Spent on Website               0.0\n",
              "Page Views Per Visit                      0.0\n",
              "Last Activity                             0.0\n",
              "Specialization                            0.0\n",
              "What is your current occupation           0.0\n",
              "Tags                                      0.0\n",
              "City                                      0.0\n",
              "A free copy of Mastering The Interview    0.0\n",
              "Last Notable Activity                     0.0\n",
              "dtype: float64"
            ]
          },
          "metadata": {
            "tags": []
          },
          "execution_count": 90
        }
      ]
    },
    {
      "cell_type": "markdown",
      "metadata": {
        "id": "JXFpiZWcI0IB"
      },
      "source": [
        "There are no missing values in the columns to be analyzed further."
      ]
    },
    {
      "cell_type": "markdown",
      "metadata": {
        "id": "VoUaAlJEJBCp"
      },
      "source": [
        "**Dummy Variable Creation:**"
      ]
    },
    {
      "cell_type": "code",
      "metadata": {
        "colab": {
          "base_uri": "https://localhost:8080/"
        },
        "id": "-QfwUNRoVv1l",
        "outputId": "82704827-6000-4731-d5bc-60dee417120a"
      },
      "source": [
        "#getting a list of categorical columns\n",
        "\n",
        "cat_cols= leads.select_dtypes(include=['object']).columns\n",
        "cat_cols"
      ],
      "execution_count": 91,
      "outputs": [
        {
          "output_type": "execute_result",
          "data": {
            "text/plain": [
              "Index(['Lead Origin', 'Lead Source', 'Do Not Email', 'Last Activity',\n",
              "       'Specialization', 'What is your current occupation', 'Tags', 'City',\n",
              "       'A free copy of Mastering The Interview', 'Last Notable Activity'],\n",
              "      dtype='object')"
            ]
          },
          "metadata": {
            "tags": []
          },
          "execution_count": 91
        }
      ]
    },
    {
      "cell_type": "code",
      "metadata": {
        "id": "zeO-1lS6VvvH"
      },
      "source": [
        "#List of variable to map\n",
        "\n",
        "varlist = ['A free copy of Mastering The Interview','Do Not Email']\n",
        "\n",
        "#Defining the map function\n",
        "\n",
        "def binary_map(x):\n",
        "    return x.map({'Yes': 1,\"No\": 0})\n",
        "\n",
        "#Applying the function to the housing list\n",
        "\n",
        "leads[varlist] = leads[varlist].apply(binary_map)"
      ],
      "execution_count": 92,
      "outputs": []
    },
    {
      "cell_type": "code",
      "metadata": {
        "id": "F8ugldKOVvnv"
      },
      "source": [
        "#getting dummies and dropping the first column and adding the results to the master dataframe\n",
        "\n",
        "dummy = pd.get_dummies(leads[['Lead Origin','What is your current occupation','City']], drop_first=True)\n",
        "\n",
        "leads = pd.concat([leads,dummy],1)"
      ],
      "execution_count": 93,
      "outputs": []
    },
    {
      "cell_type": "code",
      "metadata": {
        "id": "A5IucA_cVvjT"
      },
      "source": [
        "dummy = pd.get_dummies(leads['Specialization'], prefix='Specialization')\n",
        "dummy = dummy.drop(['Specialization_Not Specified'], 1)\n",
        "leads = pd.concat([leads, dummy], axis = 1)"
      ],
      "execution_count": 94,
      "outputs": []
    },
    {
      "cell_type": "code",
      "metadata": {
        "id": "Aw4bWcDOVvZU"
      },
      "source": [
        "dummy = pd.get_dummies(leads['Lead Source'], prefix = 'Lead Source')\n",
        "dummy = dummy.drop(['Lead Source_Others'], 1)\n",
        "leads = pd.concat([leads, dummy], axis = 1)"
      ],
      "execution_count": 95,
      "outputs": []
    },
    {
      "cell_type": "code",
      "metadata": {
        "id": "2t9-lIwxVvOL"
      },
      "source": [
        "dummy = pd.get_dummies(leads['Last Activity'], prefix = 'Last Activity')\n",
        "dummy = dummy.drop(['Last Activity_Others'], 1)\n",
        "leads = pd.concat([leads, dummy], axis = 1)"
      ],
      "execution_count": 96,
      "outputs": []
    },
    {
      "cell_type": "code",
      "metadata": {
        "id": "c_uzm4qKmCHn"
      },
      "source": [
        "dummy = pd.get_dummies(leads['Last Notable Activity'], prefix = 'Last Notable Activity')\n",
        "dummy = dummy.drop(['Last Notable Activity_Other_Notable_activity'], 1)\n",
        "leads = pd.concat([leads, dummy], axis = 1)"
      ],
      "execution_count": 97,
      "outputs": []
    },
    {
      "cell_type": "code",
      "metadata": {
        "id": "Ygo1xiGbRf6K"
      },
      "source": [
        "dummy = pd.get_dummies(leads['Tags'], prefix = 'Tags')\n",
        "dummy = dummy.drop(['Tags_Not Specified'], 1)\n",
        "leads = pd.concat([leads, dummy], axis = 1)"
      ],
      "execution_count": 98,
      "outputs": []
    },
    {
      "cell_type": "code",
      "metadata": {
        "id": "F9jEfQA4Rf2W"
      },
      "source": [
        "#dropping the original columns after dummy variable creation\n",
        "\n",
        "leads.drop(cat_cols,1,inplace=True)"
      ],
      "execution_count": 99,
      "outputs": []
    },
    {
      "cell_type": "code",
      "metadata": {
        "colab": {
          "base_uri": "https://localhost:8080/",
          "height": 288
        },
        "id": "iwJnG5SBRfyR",
        "outputId": "4ca19969-6607-4727-acb1-54d0b79591a2"
      },
      "source": [
        "leads.head()"
      ],
      "execution_count": 100,
      "outputs": [
        {
          "output_type": "execute_result",
          "data": {
            "text/html": [
              "<div>\n",
              "<style scoped>\n",
              "    .dataframe tbody tr th:only-of-type {\n",
              "        vertical-align: middle;\n",
              "    }\n",
              "\n",
              "    .dataframe tbody tr th {\n",
              "        vertical-align: top;\n",
              "    }\n",
              "\n",
              "    .dataframe thead th {\n",
              "        text-align: right;\n",
              "    }\n",
              "</style>\n",
              "<table border=\"1\" class=\"dataframe\">\n",
              "  <thead>\n",
              "    <tr style=\"text-align: right;\">\n",
              "      <th></th>\n",
              "      <th>Converted</th>\n",
              "      <th>TotalVisits</th>\n",
              "      <th>Total Time Spent on Website</th>\n",
              "      <th>Page Views Per Visit</th>\n",
              "      <th>Lead Origin_Landing Page Submission</th>\n",
              "      <th>Lead Origin_Lead Add Form</th>\n",
              "      <th>Lead Origin_Lead Import</th>\n",
              "      <th>What is your current occupation_Housewife</th>\n",
              "      <th>What is your current occupation_Other</th>\n",
              "      <th>What is your current occupation_Student</th>\n",
              "      <th>What is your current occupation_Unemployed</th>\n",
              "      <th>What is your current occupation_Working Professional</th>\n",
              "      <th>City_Other Cities</th>\n",
              "      <th>City_Other Cities of Maharashtra</th>\n",
              "      <th>City_Other Metro Cities</th>\n",
              "      <th>City_Thane &amp; Outskirts</th>\n",
              "      <th>City_Tier II Cities</th>\n",
              "      <th>Specialization_Banking, Investment And Insurance</th>\n",
              "      <th>Specialization_Business Administration</th>\n",
              "      <th>Specialization_E-Business</th>\n",
              "      <th>Specialization_E-COMMERCE</th>\n",
              "      <th>Specialization_Finance Management</th>\n",
              "      <th>Specialization_International Business</th>\n",
              "      <th>Specialization_Management_Specializations</th>\n",
              "      <th>Specialization_Media and Advertising</th>\n",
              "      <th>Specialization_Rural and Agribusiness</th>\n",
              "      <th>Specialization_Services Excellence</th>\n",
              "      <th>Specialization_Travel and Tourism</th>\n",
              "      <th>Lead Source_Direct Traffic</th>\n",
              "      <th>Lead Source_Google</th>\n",
              "      <th>Lead Source_Live Chat</th>\n",
              "      <th>Lead Source_Olark Chat</th>\n",
              "      <th>Lead Source_Organic Search</th>\n",
              "      <th>Lead Source_Reference</th>\n",
              "      <th>Lead Source_Referral Sites</th>\n",
              "      <th>Lead Source_Social Media</th>\n",
              "      <th>Lead Source_Welingak Website</th>\n",
              "      <th>Last Activity_Converted to Lead</th>\n",
              "      <th>Last Activity_Email Bounced</th>\n",
              "      <th>Last Activity_Email Link Clicked</th>\n",
              "      <th>Last Activity_Email Opened</th>\n",
              "      <th>Last Activity_Form Submitted on Website</th>\n",
              "      <th>Last Activity_Had a Phone Conversation</th>\n",
              "      <th>Last Activity_Olark Chat Conversation</th>\n",
              "      <th>Last Activity_Page Visited on Website</th>\n",
              "      <th>Last Activity_SMS Sent</th>\n",
              "      <th>Last Notable Activity_Email Link Clicked</th>\n",
              "      <th>Last Notable Activity_Email Opened</th>\n",
              "      <th>Last Notable Activity_Modified</th>\n",
              "      <th>Last Notable Activity_Olark Chat Conversation</th>\n",
              "      <th>Last Notable Activity_Page Visited on Website</th>\n",
              "      <th>Last Notable Activity_SMS Sent</th>\n",
              "      <th>Tags_Busy</th>\n",
              "      <th>Tags_Closed by Horizzon</th>\n",
              "      <th>Tags_Diploma holder (Not Eligible)</th>\n",
              "      <th>Tags_Interested  in full time MBA</th>\n",
              "      <th>Tags_Interested in other courses</th>\n",
              "      <th>Tags_Lost to EINS</th>\n",
              "      <th>Tags_Other_Tags</th>\n",
              "      <th>Tags_Ringing</th>\n",
              "      <th>Tags_Will revert after reading the email</th>\n",
              "    </tr>\n",
              "  </thead>\n",
              "  <tbody>\n",
              "    <tr>\n",
              "      <th>0</th>\n",
              "      <td>0</td>\n",
              "      <td>0.0</td>\n",
              "      <td>0</td>\n",
              "      <td>0.0</td>\n",
              "      <td>0</td>\n",
              "      <td>0</td>\n",
              "      <td>0</td>\n",
              "      <td>0</td>\n",
              "      <td>0</td>\n",
              "      <td>0</td>\n",
              "      <td>1</td>\n",
              "      <td>0</td>\n",
              "      <td>0</td>\n",
              "      <td>0</td>\n",
              "      <td>0</td>\n",
              "      <td>0</td>\n",
              "      <td>0</td>\n",
              "      <td>0</td>\n",
              "      <td>0</td>\n",
              "      <td>0</td>\n",
              "      <td>0</td>\n",
              "      <td>0</td>\n",
              "      <td>0</td>\n",
              "      <td>0</td>\n",
              "      <td>0</td>\n",
              "      <td>0</td>\n",
              "      <td>0</td>\n",
              "      <td>0</td>\n",
              "      <td>0</td>\n",
              "      <td>0</td>\n",
              "      <td>0</td>\n",
              "      <td>1</td>\n",
              "      <td>0</td>\n",
              "      <td>0</td>\n",
              "      <td>0</td>\n",
              "      <td>0</td>\n",
              "      <td>0</td>\n",
              "      <td>0</td>\n",
              "      <td>0</td>\n",
              "      <td>0</td>\n",
              "      <td>0</td>\n",
              "      <td>0</td>\n",
              "      <td>0</td>\n",
              "      <td>0</td>\n",
              "      <td>1</td>\n",
              "      <td>0</td>\n",
              "      <td>0</td>\n",
              "      <td>0</td>\n",
              "      <td>1</td>\n",
              "      <td>0</td>\n",
              "      <td>0</td>\n",
              "      <td>0</td>\n",
              "      <td>0</td>\n",
              "      <td>0</td>\n",
              "      <td>0</td>\n",
              "      <td>0</td>\n",
              "      <td>1</td>\n",
              "      <td>0</td>\n",
              "      <td>0</td>\n",
              "      <td>0</td>\n",
              "      <td>0</td>\n",
              "    </tr>\n",
              "    <tr>\n",
              "      <th>1</th>\n",
              "      <td>0</td>\n",
              "      <td>5.0</td>\n",
              "      <td>674</td>\n",
              "      <td>2.5</td>\n",
              "      <td>0</td>\n",
              "      <td>0</td>\n",
              "      <td>0</td>\n",
              "      <td>0</td>\n",
              "      <td>0</td>\n",
              "      <td>0</td>\n",
              "      <td>1</td>\n",
              "      <td>0</td>\n",
              "      <td>0</td>\n",
              "      <td>0</td>\n",
              "      <td>0</td>\n",
              "      <td>0</td>\n",
              "      <td>0</td>\n",
              "      <td>0</td>\n",
              "      <td>0</td>\n",
              "      <td>0</td>\n",
              "      <td>0</td>\n",
              "      <td>0</td>\n",
              "      <td>0</td>\n",
              "      <td>0</td>\n",
              "      <td>0</td>\n",
              "      <td>0</td>\n",
              "      <td>0</td>\n",
              "      <td>0</td>\n",
              "      <td>0</td>\n",
              "      <td>0</td>\n",
              "      <td>0</td>\n",
              "      <td>0</td>\n",
              "      <td>1</td>\n",
              "      <td>0</td>\n",
              "      <td>0</td>\n",
              "      <td>0</td>\n",
              "      <td>0</td>\n",
              "      <td>0</td>\n",
              "      <td>0</td>\n",
              "      <td>0</td>\n",
              "      <td>1</td>\n",
              "      <td>0</td>\n",
              "      <td>0</td>\n",
              "      <td>0</td>\n",
              "      <td>0</td>\n",
              "      <td>0</td>\n",
              "      <td>0</td>\n",
              "      <td>1</td>\n",
              "      <td>0</td>\n",
              "      <td>0</td>\n",
              "      <td>0</td>\n",
              "      <td>0</td>\n",
              "      <td>0</td>\n",
              "      <td>0</td>\n",
              "      <td>0</td>\n",
              "      <td>0</td>\n",
              "      <td>0</td>\n",
              "      <td>0</td>\n",
              "      <td>0</td>\n",
              "      <td>1</td>\n",
              "      <td>0</td>\n",
              "    </tr>\n",
              "    <tr>\n",
              "      <th>2</th>\n",
              "      <td>1</td>\n",
              "      <td>2.0</td>\n",
              "      <td>1532</td>\n",
              "      <td>2.0</td>\n",
              "      <td>1</td>\n",
              "      <td>0</td>\n",
              "      <td>0</td>\n",
              "      <td>0</td>\n",
              "      <td>0</td>\n",
              "      <td>1</td>\n",
              "      <td>0</td>\n",
              "      <td>0</td>\n",
              "      <td>0</td>\n",
              "      <td>0</td>\n",
              "      <td>0</td>\n",
              "      <td>0</td>\n",
              "      <td>0</td>\n",
              "      <td>0</td>\n",
              "      <td>1</td>\n",
              "      <td>0</td>\n",
              "      <td>0</td>\n",
              "      <td>0</td>\n",
              "      <td>0</td>\n",
              "      <td>0</td>\n",
              "      <td>0</td>\n",
              "      <td>0</td>\n",
              "      <td>0</td>\n",
              "      <td>0</td>\n",
              "      <td>1</td>\n",
              "      <td>0</td>\n",
              "      <td>0</td>\n",
              "      <td>0</td>\n",
              "      <td>0</td>\n",
              "      <td>0</td>\n",
              "      <td>0</td>\n",
              "      <td>0</td>\n",
              "      <td>0</td>\n",
              "      <td>0</td>\n",
              "      <td>0</td>\n",
              "      <td>0</td>\n",
              "      <td>1</td>\n",
              "      <td>0</td>\n",
              "      <td>0</td>\n",
              "      <td>0</td>\n",
              "      <td>0</td>\n",
              "      <td>0</td>\n",
              "      <td>0</td>\n",
              "      <td>1</td>\n",
              "      <td>0</td>\n",
              "      <td>0</td>\n",
              "      <td>0</td>\n",
              "      <td>0</td>\n",
              "      <td>0</td>\n",
              "      <td>0</td>\n",
              "      <td>0</td>\n",
              "      <td>0</td>\n",
              "      <td>0</td>\n",
              "      <td>0</td>\n",
              "      <td>0</td>\n",
              "      <td>0</td>\n",
              "      <td>1</td>\n",
              "    </tr>\n",
              "    <tr>\n",
              "      <th>3</th>\n",
              "      <td>0</td>\n",
              "      <td>1.0</td>\n",
              "      <td>305</td>\n",
              "      <td>1.0</td>\n",
              "      <td>1</td>\n",
              "      <td>0</td>\n",
              "      <td>0</td>\n",
              "      <td>0</td>\n",
              "      <td>0</td>\n",
              "      <td>0</td>\n",
              "      <td>1</td>\n",
              "      <td>0</td>\n",
              "      <td>0</td>\n",
              "      <td>0</td>\n",
              "      <td>0</td>\n",
              "      <td>0</td>\n",
              "      <td>0</td>\n",
              "      <td>0</td>\n",
              "      <td>0</td>\n",
              "      <td>0</td>\n",
              "      <td>0</td>\n",
              "      <td>0</td>\n",
              "      <td>0</td>\n",
              "      <td>0</td>\n",
              "      <td>1</td>\n",
              "      <td>0</td>\n",
              "      <td>0</td>\n",
              "      <td>0</td>\n",
              "      <td>1</td>\n",
              "      <td>0</td>\n",
              "      <td>0</td>\n",
              "      <td>0</td>\n",
              "      <td>0</td>\n",
              "      <td>0</td>\n",
              "      <td>0</td>\n",
              "      <td>0</td>\n",
              "      <td>0</td>\n",
              "      <td>0</td>\n",
              "      <td>0</td>\n",
              "      <td>0</td>\n",
              "      <td>0</td>\n",
              "      <td>0</td>\n",
              "      <td>0</td>\n",
              "      <td>0</td>\n",
              "      <td>0</td>\n",
              "      <td>0</td>\n",
              "      <td>0</td>\n",
              "      <td>0</td>\n",
              "      <td>1</td>\n",
              "      <td>0</td>\n",
              "      <td>0</td>\n",
              "      <td>0</td>\n",
              "      <td>0</td>\n",
              "      <td>0</td>\n",
              "      <td>0</td>\n",
              "      <td>0</td>\n",
              "      <td>0</td>\n",
              "      <td>0</td>\n",
              "      <td>0</td>\n",
              "      <td>1</td>\n",
              "      <td>0</td>\n",
              "    </tr>\n",
              "    <tr>\n",
              "      <th>4</th>\n",
              "      <td>1</td>\n",
              "      <td>2.0</td>\n",
              "      <td>1428</td>\n",
              "      <td>1.0</td>\n",
              "      <td>1</td>\n",
              "      <td>0</td>\n",
              "      <td>0</td>\n",
              "      <td>0</td>\n",
              "      <td>0</td>\n",
              "      <td>0</td>\n",
              "      <td>1</td>\n",
              "      <td>0</td>\n",
              "      <td>0</td>\n",
              "      <td>0</td>\n",
              "      <td>0</td>\n",
              "      <td>0</td>\n",
              "      <td>0</td>\n",
              "      <td>0</td>\n",
              "      <td>0</td>\n",
              "      <td>0</td>\n",
              "      <td>0</td>\n",
              "      <td>0</td>\n",
              "      <td>0</td>\n",
              "      <td>0</td>\n",
              "      <td>0</td>\n",
              "      <td>0</td>\n",
              "      <td>0</td>\n",
              "      <td>0</td>\n",
              "      <td>0</td>\n",
              "      <td>1</td>\n",
              "      <td>0</td>\n",
              "      <td>0</td>\n",
              "      <td>0</td>\n",
              "      <td>0</td>\n",
              "      <td>0</td>\n",
              "      <td>0</td>\n",
              "      <td>0</td>\n",
              "      <td>1</td>\n",
              "      <td>0</td>\n",
              "      <td>0</td>\n",
              "      <td>0</td>\n",
              "      <td>0</td>\n",
              "      <td>0</td>\n",
              "      <td>0</td>\n",
              "      <td>0</td>\n",
              "      <td>0</td>\n",
              "      <td>0</td>\n",
              "      <td>0</td>\n",
              "      <td>1</td>\n",
              "      <td>0</td>\n",
              "      <td>0</td>\n",
              "      <td>0</td>\n",
              "      <td>0</td>\n",
              "      <td>0</td>\n",
              "      <td>0</td>\n",
              "      <td>0</td>\n",
              "      <td>0</td>\n",
              "      <td>0</td>\n",
              "      <td>0</td>\n",
              "      <td>0</td>\n",
              "      <td>1</td>\n",
              "    </tr>\n",
              "  </tbody>\n",
              "</table>\n",
              "</div>"
            ],
            "text/plain": [
              "   Converted  ...  Tags_Will revert after reading the email\n",
              "0          0  ...                                         0\n",
              "1          0  ...                                         0\n",
              "2          1  ...                                         1\n",
              "3          0  ...                                         0\n",
              "4          1  ...                                         1\n",
              "\n",
              "[5 rows x 61 columns]"
            ]
          },
          "metadata": {
            "tags": []
          },
          "execution_count": 100
        }
      ]
    },
    {
      "cell_type": "markdown",
      "metadata": {
        "id": "hqdbmT4uSptw"
      },
      "source": [
        "**Train-Test Split & Logistic Regression Model Building:**"
      ]
    },
    {
      "cell_type": "code",
      "metadata": {
        "id": "3i8Qh_PTRfr8"
      },
      "source": [
        "from sklearn.model_selection import train_test_split\n",
        "\n",
        "#Putting response variable to y\n",
        "\n",
        "y = leads['Converted']\n",
        "\n",
        "y.head()\n",
        "\n",
        "X=leads.drop('Converted', axis=1)"
      ],
      "execution_count": 101,
      "outputs": []
    },
    {
      "cell_type": "code",
      "metadata": {
        "id": "SaQm3EknRfoH"
      },
      "source": [
        "#Splitting the data into train and test\n",
        "\n",
        "X_train, X_test, y_train, y_test = train_test_split(X, y, train_size=0.7, test_size=0.3, random_state=100)"
      ],
      "execution_count": 102,
      "outputs": []
    },
    {
      "cell_type": "code",
      "metadata": {
        "colab": {
          "base_uri": "https://localhost:8080/"
        },
        "id": "B_KnGUSMRfj3",
        "outputId": "71abd299-6b06-471a-e975-f13435867534"
      },
      "source": [
        "X_train.info()"
      ],
      "execution_count": 103,
      "outputs": [
        {
          "output_type": "stream",
          "text": [
            "<class 'pandas.core.frame.DataFrame'>\n",
            "Int64Index: 6267 entries, 9196 to 5825\n",
            "Data columns (total 60 columns):\n",
            " #   Column                                                Non-Null Count  Dtype  \n",
            "---  ------                                                --------------  -----  \n",
            " 0   TotalVisits                                           6267 non-null   float64\n",
            " 1   Total Time Spent on Website                           6267 non-null   int64  \n",
            " 2   Page Views Per Visit                                  6267 non-null   float64\n",
            " 3   Lead Origin_Landing Page Submission                   6267 non-null   uint8  \n",
            " 4   Lead Origin_Lead Add Form                             6267 non-null   uint8  \n",
            " 5   Lead Origin_Lead Import                               6267 non-null   uint8  \n",
            " 6   What is your current occupation_Housewife             6267 non-null   uint8  \n",
            " 7   What is your current occupation_Other                 6267 non-null   uint8  \n",
            " 8   What is your current occupation_Student               6267 non-null   uint8  \n",
            " 9   What is your current occupation_Unemployed            6267 non-null   uint8  \n",
            " 10  What is your current occupation_Working Professional  6267 non-null   uint8  \n",
            " 11  City_Other Cities                                     6267 non-null   uint8  \n",
            " 12  City_Other Cities of Maharashtra                      6267 non-null   uint8  \n",
            " 13  City_Other Metro Cities                               6267 non-null   uint8  \n",
            " 14  City_Thane & Outskirts                                6267 non-null   uint8  \n",
            " 15  City_Tier II Cities                                   6267 non-null   uint8  \n",
            " 16  Specialization_Banking, Investment And Insurance      6267 non-null   uint8  \n",
            " 17  Specialization_Business Administration                6267 non-null   uint8  \n",
            " 18  Specialization_E-Business                             6267 non-null   uint8  \n",
            " 19  Specialization_E-COMMERCE                             6267 non-null   uint8  \n",
            " 20  Specialization_Finance Management                     6267 non-null   uint8  \n",
            " 21  Specialization_International Business                 6267 non-null   uint8  \n",
            " 22  Specialization_Management_Specializations             6267 non-null   uint8  \n",
            " 23  Specialization_Media and Advertising                  6267 non-null   uint8  \n",
            " 24  Specialization_Rural and Agribusiness                 6267 non-null   uint8  \n",
            " 25  Specialization_Services Excellence                    6267 non-null   uint8  \n",
            " 26  Specialization_Travel and Tourism                     6267 non-null   uint8  \n",
            " 27  Lead Source_Direct Traffic                            6267 non-null   uint8  \n",
            " 28  Lead Source_Google                                    6267 non-null   uint8  \n",
            " 29  Lead Source_Live Chat                                 6267 non-null   uint8  \n",
            " 30  Lead Source_Olark Chat                                6267 non-null   uint8  \n",
            " 31  Lead Source_Organic Search                            6267 non-null   uint8  \n",
            " 32  Lead Source_Reference                                 6267 non-null   uint8  \n",
            " 33  Lead Source_Referral Sites                            6267 non-null   uint8  \n",
            " 34  Lead Source_Social Media                              6267 non-null   uint8  \n",
            " 35  Lead Source_Welingak Website                          6267 non-null   uint8  \n",
            " 36  Last Activity_Converted to Lead                       6267 non-null   uint8  \n",
            " 37  Last Activity_Email Bounced                           6267 non-null   uint8  \n",
            " 38  Last Activity_Email Link Clicked                      6267 non-null   uint8  \n",
            " 39  Last Activity_Email Opened                            6267 non-null   uint8  \n",
            " 40  Last Activity_Form Submitted on Website               6267 non-null   uint8  \n",
            " 41  Last Activity_Had a Phone Conversation                6267 non-null   uint8  \n",
            " 42  Last Activity_Olark Chat Conversation                 6267 non-null   uint8  \n",
            " 43  Last Activity_Page Visited on Website                 6267 non-null   uint8  \n",
            " 44  Last Activity_SMS Sent                                6267 non-null   uint8  \n",
            " 45  Last Notable Activity_Email Link Clicked              6267 non-null   uint8  \n",
            " 46  Last Notable Activity_Email Opened                    6267 non-null   uint8  \n",
            " 47  Last Notable Activity_Modified                        6267 non-null   uint8  \n",
            " 48  Last Notable Activity_Olark Chat Conversation         6267 non-null   uint8  \n",
            " 49  Last Notable Activity_Page Visited on Website         6267 non-null   uint8  \n",
            " 50  Last Notable Activity_SMS Sent                        6267 non-null   uint8  \n",
            " 51  Tags_Busy                                             6267 non-null   uint8  \n",
            " 52  Tags_Closed by Horizzon                               6267 non-null   uint8  \n",
            " 53  Tags_Diploma holder (Not Eligible)                    6267 non-null   uint8  \n",
            " 54  Tags_Interested  in full time MBA                     6267 non-null   uint8  \n",
            " 55  Tags_Interested in other courses                      6267 non-null   uint8  \n",
            " 56  Tags_Lost to EINS                                     6267 non-null   uint8  \n",
            " 57  Tags_Other_Tags                                       6267 non-null   uint8  \n",
            " 58  Tags_Ringing                                          6267 non-null   uint8  \n",
            " 59  Tags_Will revert after reading the email              6267 non-null   uint8  \n",
            "dtypes: float64(2), int64(1), uint8(57)\n",
            "memory usage: 544.7 KB\n"
          ],
          "name": "stdout"
        }
      ]
    },
    {
      "cell_type": "markdown",
      "metadata": {
        "id": "9u90Iw_tU6HC"
      },
      "source": [
        "**Scaling of Data:**"
      ]
    },
    {
      "cell_type": "code",
      "metadata": {
        "colab": {
          "base_uri": "https://localhost:8080/",
          "height": 288
        },
        "id": "LygI_86URffl",
        "outputId": "5051fa6b-8112-4044-e96f-254b2ea3524f"
      },
      "source": [
        "#scaling numeric columns\n",
        "\n",
        "from sklearn.preprocessing import StandardScaler\n",
        "\n",
        "scaler = StandardScaler()\n",
        "\n",
        "num_cols=X_train.select_dtypes(include=['float64', 'int64']).columns\n",
        "\n",
        "X_train[num_cols] = scaler.fit_transform(X_train[num_cols])\n",
        "\n",
        "X_train.head()"
      ],
      "execution_count": 104,
      "outputs": [
        {
          "output_type": "execute_result",
          "data": {
            "text/html": [
              "<div>\n",
              "<style scoped>\n",
              "    .dataframe tbody tr th:only-of-type {\n",
              "        vertical-align: middle;\n",
              "    }\n",
              "\n",
              "    .dataframe tbody tr th {\n",
              "        vertical-align: top;\n",
              "    }\n",
              "\n",
              "    .dataframe thead th {\n",
              "        text-align: right;\n",
              "    }\n",
              "</style>\n",
              "<table border=\"1\" class=\"dataframe\">\n",
              "  <thead>\n",
              "    <tr style=\"text-align: right;\">\n",
              "      <th></th>\n",
              "      <th>TotalVisits</th>\n",
              "      <th>Total Time Spent on Website</th>\n",
              "      <th>Page Views Per Visit</th>\n",
              "      <th>Lead Origin_Landing Page Submission</th>\n",
              "      <th>Lead Origin_Lead Add Form</th>\n",
              "      <th>Lead Origin_Lead Import</th>\n",
              "      <th>What is your current occupation_Housewife</th>\n",
              "      <th>What is your current occupation_Other</th>\n",
              "      <th>What is your current occupation_Student</th>\n",
              "      <th>What is your current occupation_Unemployed</th>\n",
              "      <th>What is your current occupation_Working Professional</th>\n",
              "      <th>City_Other Cities</th>\n",
              "      <th>City_Other Cities of Maharashtra</th>\n",
              "      <th>City_Other Metro Cities</th>\n",
              "      <th>City_Thane &amp; Outskirts</th>\n",
              "      <th>City_Tier II Cities</th>\n",
              "      <th>Specialization_Banking, Investment And Insurance</th>\n",
              "      <th>Specialization_Business Administration</th>\n",
              "      <th>Specialization_E-Business</th>\n",
              "      <th>Specialization_E-COMMERCE</th>\n",
              "      <th>Specialization_Finance Management</th>\n",
              "      <th>Specialization_International Business</th>\n",
              "      <th>Specialization_Management_Specializations</th>\n",
              "      <th>Specialization_Media and Advertising</th>\n",
              "      <th>Specialization_Rural and Agribusiness</th>\n",
              "      <th>Specialization_Services Excellence</th>\n",
              "      <th>Specialization_Travel and Tourism</th>\n",
              "      <th>Lead Source_Direct Traffic</th>\n",
              "      <th>Lead Source_Google</th>\n",
              "      <th>Lead Source_Live Chat</th>\n",
              "      <th>Lead Source_Olark Chat</th>\n",
              "      <th>Lead Source_Organic Search</th>\n",
              "      <th>Lead Source_Reference</th>\n",
              "      <th>Lead Source_Referral Sites</th>\n",
              "      <th>Lead Source_Social Media</th>\n",
              "      <th>Lead Source_Welingak Website</th>\n",
              "      <th>Last Activity_Converted to Lead</th>\n",
              "      <th>Last Activity_Email Bounced</th>\n",
              "      <th>Last Activity_Email Link Clicked</th>\n",
              "      <th>Last Activity_Email Opened</th>\n",
              "      <th>Last Activity_Form Submitted on Website</th>\n",
              "      <th>Last Activity_Had a Phone Conversation</th>\n",
              "      <th>Last Activity_Olark Chat Conversation</th>\n",
              "      <th>Last Activity_Page Visited on Website</th>\n",
              "      <th>Last Activity_SMS Sent</th>\n",
              "      <th>Last Notable Activity_Email Link Clicked</th>\n",
              "      <th>Last Notable Activity_Email Opened</th>\n",
              "      <th>Last Notable Activity_Modified</th>\n",
              "      <th>Last Notable Activity_Olark Chat Conversation</th>\n",
              "      <th>Last Notable Activity_Page Visited on Website</th>\n",
              "      <th>Last Notable Activity_SMS Sent</th>\n",
              "      <th>Tags_Busy</th>\n",
              "      <th>Tags_Closed by Horizzon</th>\n",
              "      <th>Tags_Diploma holder (Not Eligible)</th>\n",
              "      <th>Tags_Interested  in full time MBA</th>\n",
              "      <th>Tags_Interested in other courses</th>\n",
              "      <th>Tags_Lost to EINS</th>\n",
              "      <th>Tags_Other_Tags</th>\n",
              "      <th>Tags_Ringing</th>\n",
              "      <th>Tags_Will revert after reading the email</th>\n",
              "    </tr>\n",
              "  </thead>\n",
              "  <tbody>\n",
              "    <tr>\n",
              "      <th>9196</th>\n",
              "      <td>0.668862</td>\n",
              "      <td>1.848117</td>\n",
              "      <td>1.455819</td>\n",
              "      <td>1</td>\n",
              "      <td>0</td>\n",
              "      <td>0</td>\n",
              "      <td>0</td>\n",
              "      <td>0</td>\n",
              "      <td>0</td>\n",
              "      <td>1</td>\n",
              "      <td>0</td>\n",
              "      <td>0</td>\n",
              "      <td>1</td>\n",
              "      <td>0</td>\n",
              "      <td>0</td>\n",
              "      <td>0</td>\n",
              "      <td>0</td>\n",
              "      <td>0</td>\n",
              "      <td>0</td>\n",
              "      <td>0</td>\n",
              "      <td>1</td>\n",
              "      <td>0</td>\n",
              "      <td>0</td>\n",
              "      <td>0</td>\n",
              "      <td>0</td>\n",
              "      <td>0</td>\n",
              "      <td>0</td>\n",
              "      <td>0</td>\n",
              "      <td>1</td>\n",
              "      <td>0</td>\n",
              "      <td>0</td>\n",
              "      <td>0</td>\n",
              "      <td>0</td>\n",
              "      <td>0</td>\n",
              "      <td>0</td>\n",
              "      <td>0</td>\n",
              "      <td>0</td>\n",
              "      <td>0</td>\n",
              "      <td>0</td>\n",
              "      <td>0</td>\n",
              "      <td>0</td>\n",
              "      <td>0</td>\n",
              "      <td>0</td>\n",
              "      <td>0</td>\n",
              "      <td>1</td>\n",
              "      <td>0</td>\n",
              "      <td>0</td>\n",
              "      <td>0</td>\n",
              "      <td>0</td>\n",
              "      <td>0</td>\n",
              "      <td>1</td>\n",
              "      <td>0</td>\n",
              "      <td>0</td>\n",
              "      <td>0</td>\n",
              "      <td>0</td>\n",
              "      <td>0</td>\n",
              "      <td>0</td>\n",
              "      <td>0</td>\n",
              "      <td>1</td>\n",
              "      <td>0</td>\n",
              "    </tr>\n",
              "    <tr>\n",
              "      <th>4696</th>\n",
              "      <td>-0.030697</td>\n",
              "      <td>-0.037832</td>\n",
              "      <td>0.399961</td>\n",
              "      <td>1</td>\n",
              "      <td>0</td>\n",
              "      <td>0</td>\n",
              "      <td>0</td>\n",
              "      <td>0</td>\n",
              "      <td>0</td>\n",
              "      <td>1</td>\n",
              "      <td>0</td>\n",
              "      <td>0</td>\n",
              "      <td>0</td>\n",
              "      <td>0</td>\n",
              "      <td>0</td>\n",
              "      <td>0</td>\n",
              "      <td>0</td>\n",
              "      <td>0</td>\n",
              "      <td>0</td>\n",
              "      <td>0</td>\n",
              "      <td>0</td>\n",
              "      <td>0</td>\n",
              "      <td>0</td>\n",
              "      <td>1</td>\n",
              "      <td>0</td>\n",
              "      <td>0</td>\n",
              "      <td>0</td>\n",
              "      <td>1</td>\n",
              "      <td>0</td>\n",
              "      <td>0</td>\n",
              "      <td>0</td>\n",
              "      <td>0</td>\n",
              "      <td>0</td>\n",
              "      <td>0</td>\n",
              "      <td>0</td>\n",
              "      <td>0</td>\n",
              "      <td>0</td>\n",
              "      <td>0</td>\n",
              "      <td>0</td>\n",
              "      <td>0</td>\n",
              "      <td>0</td>\n",
              "      <td>0</td>\n",
              "      <td>0</td>\n",
              "      <td>0</td>\n",
              "      <td>1</td>\n",
              "      <td>0</td>\n",
              "      <td>0</td>\n",
              "      <td>0</td>\n",
              "      <td>0</td>\n",
              "      <td>0</td>\n",
              "      <td>1</td>\n",
              "      <td>0</td>\n",
              "      <td>0</td>\n",
              "      <td>0</td>\n",
              "      <td>0</td>\n",
              "      <td>0</td>\n",
              "      <td>0</td>\n",
              "      <td>0</td>\n",
              "      <td>1</td>\n",
              "      <td>0</td>\n",
              "    </tr>\n",
              "    <tr>\n",
              "      <th>3274</th>\n",
              "      <td>0.319082</td>\n",
              "      <td>-0.642138</td>\n",
              "      <td>-0.127967</td>\n",
              "      <td>1</td>\n",
              "      <td>0</td>\n",
              "      <td>0</td>\n",
              "      <td>0</td>\n",
              "      <td>0</td>\n",
              "      <td>0</td>\n",
              "      <td>1</td>\n",
              "      <td>0</td>\n",
              "      <td>0</td>\n",
              "      <td>0</td>\n",
              "      <td>1</td>\n",
              "      <td>0</td>\n",
              "      <td>0</td>\n",
              "      <td>0</td>\n",
              "      <td>0</td>\n",
              "      <td>0</td>\n",
              "      <td>0</td>\n",
              "      <td>0</td>\n",
              "      <td>0</td>\n",
              "      <td>1</td>\n",
              "      <td>0</td>\n",
              "      <td>0</td>\n",
              "      <td>0</td>\n",
              "      <td>0</td>\n",
              "      <td>0</td>\n",
              "      <td>1</td>\n",
              "      <td>0</td>\n",
              "      <td>0</td>\n",
              "      <td>0</td>\n",
              "      <td>0</td>\n",
              "      <td>0</td>\n",
              "      <td>0</td>\n",
              "      <td>0</td>\n",
              "      <td>0</td>\n",
              "      <td>0</td>\n",
              "      <td>0</td>\n",
              "      <td>0</td>\n",
              "      <td>0</td>\n",
              "      <td>0</td>\n",
              "      <td>0</td>\n",
              "      <td>0</td>\n",
              "      <td>1</td>\n",
              "      <td>0</td>\n",
              "      <td>0</td>\n",
              "      <td>0</td>\n",
              "      <td>0</td>\n",
              "      <td>0</td>\n",
              "      <td>1</td>\n",
              "      <td>0</td>\n",
              "      <td>0</td>\n",
              "      <td>0</td>\n",
              "      <td>0</td>\n",
              "      <td>0</td>\n",
              "      <td>0</td>\n",
              "      <td>0</td>\n",
              "      <td>0</td>\n",
              "      <td>0</td>\n",
              "    </tr>\n",
              "    <tr>\n",
              "      <th>2164</th>\n",
              "      <td>-0.380477</td>\n",
              "      <td>-0.154676</td>\n",
              "      <td>-0.127967</td>\n",
              "      <td>0</td>\n",
              "      <td>0</td>\n",
              "      <td>0</td>\n",
              "      <td>0</td>\n",
              "      <td>0</td>\n",
              "      <td>0</td>\n",
              "      <td>1</td>\n",
              "      <td>0</td>\n",
              "      <td>0</td>\n",
              "      <td>0</td>\n",
              "      <td>0</td>\n",
              "      <td>0</td>\n",
              "      <td>0</td>\n",
              "      <td>0</td>\n",
              "      <td>0</td>\n",
              "      <td>0</td>\n",
              "      <td>0</td>\n",
              "      <td>0</td>\n",
              "      <td>0</td>\n",
              "      <td>0</td>\n",
              "      <td>0</td>\n",
              "      <td>0</td>\n",
              "      <td>0</td>\n",
              "      <td>0</td>\n",
              "      <td>0</td>\n",
              "      <td>1</td>\n",
              "      <td>0</td>\n",
              "      <td>0</td>\n",
              "      <td>0</td>\n",
              "      <td>0</td>\n",
              "      <td>0</td>\n",
              "      <td>0</td>\n",
              "      <td>0</td>\n",
              "      <td>0</td>\n",
              "      <td>0</td>\n",
              "      <td>0</td>\n",
              "      <td>0</td>\n",
              "      <td>0</td>\n",
              "      <td>0</td>\n",
              "      <td>1</td>\n",
              "      <td>0</td>\n",
              "      <td>0</td>\n",
              "      <td>0</td>\n",
              "      <td>0</td>\n",
              "      <td>1</td>\n",
              "      <td>0</td>\n",
              "      <td>0</td>\n",
              "      <td>0</td>\n",
              "      <td>0</td>\n",
              "      <td>0</td>\n",
              "      <td>0</td>\n",
              "      <td>0</td>\n",
              "      <td>1</td>\n",
              "      <td>0</td>\n",
              "      <td>0</td>\n",
              "      <td>0</td>\n",
              "      <td>0</td>\n",
              "    </tr>\n",
              "    <tr>\n",
              "      <th>1667</th>\n",
              "      <td>0.319082</td>\n",
              "      <td>1.258415</td>\n",
              "      <td>-0.481679</td>\n",
              "      <td>0</td>\n",
              "      <td>0</td>\n",
              "      <td>0</td>\n",
              "      <td>0</td>\n",
              "      <td>0</td>\n",
              "      <td>0</td>\n",
              "      <td>1</td>\n",
              "      <td>0</td>\n",
              "      <td>0</td>\n",
              "      <td>0</td>\n",
              "      <td>0</td>\n",
              "      <td>1</td>\n",
              "      <td>0</td>\n",
              "      <td>0</td>\n",
              "      <td>0</td>\n",
              "      <td>0</td>\n",
              "      <td>0</td>\n",
              "      <td>0</td>\n",
              "      <td>0</td>\n",
              "      <td>1</td>\n",
              "      <td>0</td>\n",
              "      <td>0</td>\n",
              "      <td>0</td>\n",
              "      <td>0</td>\n",
              "      <td>0</td>\n",
              "      <td>1</td>\n",
              "      <td>0</td>\n",
              "      <td>0</td>\n",
              "      <td>0</td>\n",
              "      <td>0</td>\n",
              "      <td>0</td>\n",
              "      <td>0</td>\n",
              "      <td>0</td>\n",
              "      <td>0</td>\n",
              "      <td>0</td>\n",
              "      <td>0</td>\n",
              "      <td>1</td>\n",
              "      <td>0</td>\n",
              "      <td>0</td>\n",
              "      <td>0</td>\n",
              "      <td>0</td>\n",
              "      <td>0</td>\n",
              "      <td>0</td>\n",
              "      <td>1</td>\n",
              "      <td>0</td>\n",
              "      <td>0</td>\n",
              "      <td>0</td>\n",
              "      <td>0</td>\n",
              "      <td>0</td>\n",
              "      <td>0</td>\n",
              "      <td>0</td>\n",
              "      <td>0</td>\n",
              "      <td>0</td>\n",
              "      <td>0</td>\n",
              "      <td>0</td>\n",
              "      <td>0</td>\n",
              "      <td>1</td>\n",
              "    </tr>\n",
              "  </tbody>\n",
              "</table>\n",
              "</div>"
            ],
            "text/plain": [
              "      TotalVisits  ...  Tags_Will revert after reading the email\n",
              "9196     0.668862  ...                                         0\n",
              "4696    -0.030697  ...                                         0\n",
              "3274     0.319082  ...                                         0\n",
              "2164    -0.380477  ...                                         0\n",
              "1667     0.319082  ...                                         1\n",
              "\n",
              "[5 rows x 60 columns]"
            ]
          },
          "metadata": {
            "tags": []
          },
          "execution_count": 104
        }
      ]
    },
    {
      "cell_type": "markdown",
      "metadata": {
        "id": "PpVoFacwWBb7"
      },
      "source": [
        "**Model Building using Stats Model & RFE:**"
      ]
    },
    {
      "cell_type": "code",
      "metadata": {
        "id": "4b3SE4WQRfbY"
      },
      "source": [
        "import statsmodels.api as sm"
      ],
      "execution_count": 105,
      "outputs": []
    },
    {
      "cell_type": "code",
      "metadata": {
        "id": "lJnw5fbORfW-"
      },
      "source": [
        "from sklearn.linear_model import LogisticRegression\n",
        "logreg = LogisticRegression()\n",
        "\n",
        "from sklearn.feature_selection import RFE\n",
        "rfe = RFE(logreg, 15)  #running RFE with 15 variables as output\n",
        "rfe = rfe.fit(X_train, y_train)"
      ],
      "execution_count": 106,
      "outputs": []
    },
    {
      "cell_type": "code",
      "metadata": {
        "colab": {
          "base_uri": "https://localhost:8080/"
        },
        "id": "mwPCpY_IRfST",
        "outputId": "06a2d228-8ddc-462d-f078-9bc03ac34a9c"
      },
      "source": [
        "rfe.support_"
      ],
      "execution_count": 107,
      "outputs": [
        {
          "output_type": "execute_result",
          "data": {
            "text/plain": [
              "array([False,  True, False, False,  True, False, False, False, False,\n",
              "       False, False, False, False, False, False, False, False, False,\n",
              "       False, False, False, False, False, False, False, False, False,\n",
              "       False, False, False, False, False, False, False, False,  True,\n",
              "       False, False, False, False, False, False, False, False,  True,\n",
              "       False, False,  True,  True, False,  True, False,  True,  True,\n",
              "        True,  True,  True,  True,  True,  True])"
            ]
          },
          "metadata": {
            "tags": []
          },
          "execution_count": 107
        }
      ]
    },
    {
      "cell_type": "code",
      "metadata": {
        "colab": {
          "base_uri": "https://localhost:8080/"
        },
        "id": "3_nKp1qeRfOI",
        "outputId": "d87bb235-316a-4774-c5f9-a710c487de35"
      },
      "source": [
        "list(zip(X_train.columns, rfe.support_,rfe.ranking_))"
      ],
      "execution_count": 108,
      "outputs": [
        {
          "output_type": "execute_result",
          "data": {
            "text/plain": [
              "[('TotalVisits', False, 29),\n",
              " ('Total Time Spent on Website', True, 1),\n",
              " ('Page Views Per Visit', False, 27),\n",
              " ('Lead Origin_Landing Page Submission', False, 12),\n",
              " ('Lead Origin_Lead Add Form', True, 1),\n",
              " ('Lead Origin_Lead Import', False, 18),\n",
              " ('What is your current occupation_Housewife', False, 32),\n",
              " ('What is your current occupation_Other', False, 39),\n",
              " ('What is your current occupation_Student', False, 25),\n",
              " ('What is your current occupation_Unemployed', False, 24),\n",
              " ('What is your current occupation_Working Professional', False, 10),\n",
              " ('City_Other Cities', False, 26),\n",
              " ('City_Other Cities of Maharashtra', False, 40),\n",
              " ('City_Other Metro Cities', False, 44),\n",
              " ('City_Thane & Outskirts', False, 41),\n",
              " ('City_Tier II Cities', False, 31),\n",
              " ('Specialization_Banking, Investment And Insurance', False, 16),\n",
              " ('Specialization_Business Administration', False, 45),\n",
              " ('Specialization_E-Business', False, 37),\n",
              " ('Specialization_E-COMMERCE', False, 23),\n",
              " ('Specialization_Finance Management', False, 43),\n",
              " ('Specialization_International Business', False, 42),\n",
              " ('Specialization_Management_Specializations', False, 36),\n",
              " ('Specialization_Media and Advertising', False, 35),\n",
              " ('Specialization_Rural and Agribusiness', False, 38),\n",
              " ('Specialization_Services Excellence', False, 34),\n",
              " ('Specialization_Travel and Tourism', False, 7),\n",
              " ('Lead Source_Direct Traffic', False, 2),\n",
              " ('Lead Source_Google', False, 5),\n",
              " ('Lead Source_Live Chat', False, 46),\n",
              " ('Lead Source_Olark Chat', False, 33),\n",
              " ('Lead Source_Organic Search', False, 4),\n",
              " ('Lead Source_Reference', False, 15),\n",
              " ('Lead Source_Referral Sites', False, 3),\n",
              " ('Lead Source_Social Media', False, 17),\n",
              " ('Lead Source_Welingak Website', True, 1),\n",
              " ('Last Activity_Converted to Lead', False, 13),\n",
              " ('Last Activity_Email Bounced', False, 8),\n",
              " ('Last Activity_Email Link Clicked', False, 30),\n",
              " ('Last Activity_Email Opened', False, 21),\n",
              " ('Last Activity_Form Submitted on Website', False, 20),\n",
              " ('Last Activity_Had a Phone Conversation', False, 19),\n",
              " ('Last Activity_Olark Chat Conversation', False, 9),\n",
              " ('Last Activity_Page Visited on Website', False, 14),\n",
              " ('Last Activity_SMS Sent', True, 1),\n",
              " ('Last Notable Activity_Email Link Clicked', False, 6),\n",
              " ('Last Notable Activity_Email Opened', False, 22),\n",
              " ('Last Notable Activity_Modified', True, 1),\n",
              " ('Last Notable Activity_Olark Chat Conversation', True, 1),\n",
              " ('Last Notable Activity_Page Visited on Website', False, 28),\n",
              " ('Last Notable Activity_SMS Sent', True, 1),\n",
              " ('Tags_Busy', False, 11),\n",
              " ('Tags_Closed by Horizzon', True, 1),\n",
              " ('Tags_Diploma holder (Not Eligible)', True, 1),\n",
              " ('Tags_Interested  in full time MBA', True, 1),\n",
              " ('Tags_Interested in other courses', True, 1),\n",
              " ('Tags_Lost to EINS', True, 1),\n",
              " ('Tags_Other_Tags', True, 1),\n",
              " ('Tags_Ringing', True, 1),\n",
              " ('Tags_Will revert after reading the email', True, 1)]"
            ]
          },
          "metadata": {
            "tags": []
          },
          "execution_count": 108
        }
      ]
    },
    {
      "cell_type": "code",
      "metadata": {
        "colab": {
          "base_uri": "https://localhost:8080/"
        },
        "id": "u0IFPvTSRfJq",
        "outputId": "2ffc1f5d-7acf-47d6-febc-849fca899862"
      },
      "source": [
        "#list of RFE supported columns\n",
        "\n",
        "col = X_train.columns[rfe.support_]\n",
        "col"
      ],
      "execution_count": 109,
      "outputs": [
        {
          "output_type": "execute_result",
          "data": {
            "text/plain": [
              "Index(['Total Time Spent on Website', 'Lead Origin_Lead Add Form',\n",
              "       'Lead Source_Welingak Website', 'Last Activity_SMS Sent',\n",
              "       'Last Notable Activity_Modified',\n",
              "       'Last Notable Activity_Olark Chat Conversation',\n",
              "       'Last Notable Activity_SMS Sent', 'Tags_Closed by Horizzon',\n",
              "       'Tags_Diploma holder (Not Eligible)',\n",
              "       'Tags_Interested  in full time MBA', 'Tags_Interested in other courses',\n",
              "       'Tags_Lost to EINS', 'Tags_Other_Tags', 'Tags_Ringing',\n",
              "       'Tags_Will revert after reading the email'],\n",
              "      dtype='object')"
            ]
          },
          "metadata": {
            "tags": []
          },
          "execution_count": 109
        }
      ]
    },
    {
      "cell_type": "code",
      "metadata": {
        "colab": {
          "base_uri": "https://localhost:8080/"
        },
        "id": "vCAYp76BRfEc",
        "outputId": "49ebc3d8-7fca-4be2-95a5-ed2601ca0888"
      },
      "source": [
        "X_train.columns[~rfe.support_]"
      ],
      "execution_count": 110,
      "outputs": [
        {
          "output_type": "execute_result",
          "data": {
            "text/plain": [
              "Index(['TotalVisits', 'Page Views Per Visit',\n",
              "       'Lead Origin_Landing Page Submission', 'Lead Origin_Lead Import',\n",
              "       'What is your current occupation_Housewife',\n",
              "       'What is your current occupation_Other',\n",
              "       'What is your current occupation_Student',\n",
              "       'What is your current occupation_Unemployed',\n",
              "       'What is your current occupation_Working Professional',\n",
              "       'City_Other Cities', 'City_Other Cities of Maharashtra',\n",
              "       'City_Other Metro Cities', 'City_Thane & Outskirts',\n",
              "       'City_Tier II Cities',\n",
              "       'Specialization_Banking, Investment And Insurance',\n",
              "       'Specialization_Business Administration', 'Specialization_E-Business',\n",
              "       'Specialization_E-COMMERCE', 'Specialization_Finance Management',\n",
              "       'Specialization_International Business',\n",
              "       'Specialization_Management_Specializations',\n",
              "       'Specialization_Media and Advertising',\n",
              "       'Specialization_Rural and Agribusiness',\n",
              "       'Specialization_Services Excellence',\n",
              "       'Specialization_Travel and Tourism', 'Lead Source_Direct Traffic',\n",
              "       'Lead Source_Google', 'Lead Source_Live Chat', 'Lead Source_Olark Chat',\n",
              "       'Lead Source_Organic Search', 'Lead Source_Reference',\n",
              "       'Lead Source_Referral Sites', 'Lead Source_Social Media',\n",
              "       'Last Activity_Converted to Lead', 'Last Activity_Email Bounced',\n",
              "       'Last Activity_Email Link Clicked', 'Last Activity_Email Opened',\n",
              "       'Last Activity_Form Submitted on Website',\n",
              "       'Last Activity_Had a Phone Conversation',\n",
              "       'Last Activity_Olark Chat Conversation',\n",
              "       'Last Activity_Page Visited on Website',\n",
              "       'Last Notable Activity_Email Link Clicked',\n",
              "       'Last Notable Activity_Email Opened',\n",
              "       'Last Notable Activity_Page Visited on Website', 'Tags_Busy'],\n",
              "      dtype='object')"
            ]
          },
          "metadata": {
            "tags": []
          },
          "execution_count": 110
        }
      ]
    },
    {
      "cell_type": "code",
      "metadata": {
        "colab": {
          "base_uri": "https://localhost:8080/",
          "height": 550
        },
        "id": "1psgMmCiRe5t",
        "outputId": "7de1a4e0-6f91-4656-fbd1-3bf101d1b5f5"
      },
      "source": [
        "# BUILDING MODEL 1\n",
        "\n",
        "X_train_sm = sm.add_constant(X_train[col])\n",
        "logm1 = sm.GLM(y_train,X_train_sm, family= sm.families.Binomial())\n",
        "res = logm1.fit()\n",
        "res.summary()"
      ],
      "execution_count": 111,
      "outputs": [
        {
          "output_type": "execute_result",
          "data": {
            "text/html": [
              "<table class=\"simpletable\">\n",
              "<caption>Generalized Linear Model Regression Results</caption>\n",
              "<tr>\n",
              "  <th>Dep. Variable:</th>       <td>Converted</td>    <th>  No. Observations:  </th>  <td>  6267</td> \n",
              "</tr>\n",
              "<tr>\n",
              "  <th>Model:</th>                  <td>GLM</td>       <th>  Df Residuals:      </th>  <td>  6251</td> \n",
              "</tr>\n",
              "<tr>\n",
              "  <th>Model Family:</th>        <td>Binomial</td>     <th>  Df Model:          </th>  <td>    15</td> \n",
              "</tr>\n",
              "<tr>\n",
              "  <th>Link Function:</th>         <td>logit</td>      <th>  Scale:             </th> <td>  1.0000</td>\n",
              "</tr>\n",
              "<tr>\n",
              "  <th>Method:</th>                <td>IRLS</td>       <th>  Log-Likelihood:    </th> <td> -1276.1</td>\n",
              "</tr>\n",
              "<tr>\n",
              "  <th>Date:</th>            <td>Mon, 14 Jun 2021</td> <th>  Deviance:          </th> <td>  2552.2</td>\n",
              "</tr>\n",
              "<tr>\n",
              "  <th>Time:</th>                <td>09:57:43</td>     <th>  Pearson chi2:      </th> <td>7.76e+03</td>\n",
              "</tr>\n",
              "<tr>\n",
              "  <th>No. Iterations:</th>          <td>8</td>        <th>                     </th>     <td> </td>   \n",
              "</tr>\n",
              "<tr>\n",
              "  <th>Covariance Type:</th>     <td>nonrobust</td>    <th>                     </th>     <td> </td>   \n",
              "</tr>\n",
              "</table>\n",
              "<table class=\"simpletable\">\n",
              "<tr>\n",
              "                        <td></td>                           <th>coef</th>     <th>std err</th>      <th>z</th>      <th>P>|z|</th>  <th>[0.025</th>    <th>0.975]</th>  \n",
              "</tr>\n",
              "<tr>\n",
              "  <th>const</th>                                         <td>   -1.3828</td> <td>    0.084</td> <td>  -16.510</td> <td> 0.000</td> <td>   -1.547</td> <td>   -1.219</td>\n",
              "</tr>\n",
              "<tr>\n",
              "  <th>Total Time Spent on Website</th>                   <td>    0.8547</td> <td>    0.052</td> <td>   16.472</td> <td> 0.000</td> <td>    0.753</td> <td>    0.956</td>\n",
              "</tr>\n",
              "<tr>\n",
              "  <th>Lead Origin_Lead Add Form</th>                     <td>    1.9028</td> <td>    0.448</td> <td>    4.249</td> <td> 0.000</td> <td>    1.025</td> <td>    2.781</td>\n",
              "</tr>\n",
              "<tr>\n",
              "  <th>Lead Source_Welingak Website</th>                  <td>    3.8325</td> <td>    1.109</td> <td>    3.455</td> <td> 0.001</td> <td>    1.658</td> <td>    6.007</td>\n",
              "</tr>\n",
              "<tr>\n",
              "  <th>Last Activity_SMS Sent</th>                        <td>    1.2055</td> <td>    0.221</td> <td>    5.455</td> <td> 0.000</td> <td>    0.772</td> <td>    1.639</td>\n",
              "</tr>\n",
              "<tr>\n",
              "  <th>Last Notable Activity_Modified</th>                <td>   -1.2756</td> <td>    0.150</td> <td>   -8.507</td> <td> 0.000</td> <td>   -1.569</td> <td>   -0.982</td>\n",
              "</tr>\n",
              "<tr>\n",
              "  <th>Last Notable Activity_Olark Chat Conversation</th> <td>   -1.5193</td> <td>    0.481</td> <td>   -3.160</td> <td> 0.002</td> <td>   -2.462</td> <td>   -0.577</td>\n",
              "</tr>\n",
              "<tr>\n",
              "  <th>Last Notable Activity_SMS Sent</th>                <td>    1.0497</td> <td>    0.256</td> <td>    4.101</td> <td> 0.000</td> <td>    0.548</td> <td>    1.551</td>\n",
              "</tr>\n",
              "<tr>\n",
              "  <th>Tags_Closed by Horizzon</th>                       <td>    6.9064</td> <td>    1.018</td> <td>    6.784</td> <td> 0.000</td> <td>    4.911</td> <td>    8.902</td>\n",
              "</tr>\n",
              "<tr>\n",
              "  <th>Tags_Diploma holder (Not Eligible)</th>            <td>   -2.4391</td> <td>    1.167</td> <td>   -2.091</td> <td> 0.037</td> <td>   -4.726</td> <td>   -0.152</td>\n",
              "</tr>\n",
              "<tr>\n",
              "  <th>Tags_Interested  in full time MBA</th>             <td>   -1.6275</td> <td>    0.618</td> <td>   -2.635</td> <td> 0.008</td> <td>   -2.838</td> <td>   -0.417</td>\n",
              "</tr>\n",
              "<tr>\n",
              "  <th>Tags_Interested in other courses</th>              <td>   -2.1082</td> <td>    0.402</td> <td>   -5.244</td> <td> 0.000</td> <td>   -2.896</td> <td>   -1.320</td>\n",
              "</tr>\n",
              "<tr>\n",
              "  <th>Tags_Lost to EINS</th>                             <td>    5.5438</td> <td>    0.608</td> <td>    9.120</td> <td> 0.000</td> <td>    4.352</td> <td>    6.735</td>\n",
              "</tr>\n",
              "<tr>\n",
              "  <th>Tags_Other_Tags</th>                               <td>   -2.6637</td> <td>    0.221</td> <td>  -12.051</td> <td> 0.000</td> <td>   -3.097</td> <td>   -2.231</td>\n",
              "</tr>\n",
              "<tr>\n",
              "  <th>Tags_Ringing</th>                                  <td>   -3.6489</td> <td>    0.241</td> <td>  -15.110</td> <td> 0.000</td> <td>   -4.122</td> <td>   -3.176</td>\n",
              "</tr>\n",
              "<tr>\n",
              "  <th>Tags_Will revert after reading the email</th>      <td>    4.3271</td> <td>    0.181</td> <td>   23.910</td> <td> 0.000</td> <td>    3.972</td> <td>    4.682</td>\n",
              "</tr>\n",
              "</table>"
            ],
            "text/plain": [
              "<class 'statsmodels.iolib.summary.Summary'>\n",
              "\"\"\"\n",
              "                 Generalized Linear Model Regression Results                  \n",
              "==============================================================================\n",
              "Dep. Variable:              Converted   No. Observations:                 6267\n",
              "Model:                            GLM   Df Residuals:                     6251\n",
              "Model Family:                Binomial   Df Model:                           15\n",
              "Link Function:                  logit   Scale:                          1.0000\n",
              "Method:                          IRLS   Log-Likelihood:                -1276.1\n",
              "Date:                Mon, 14 Jun 2021   Deviance:                       2552.2\n",
              "Time:                        09:57:43   Pearson chi2:                 7.76e+03\n",
              "No. Iterations:                     8                                         \n",
              "Covariance Type:            nonrobust                                         \n",
              "=================================================================================================================\n",
              "                                                    coef    std err          z      P>|z|      [0.025      0.975]\n",
              "-----------------------------------------------------------------------------------------------------------------\n",
              "const                                            -1.3828      0.084    -16.510      0.000      -1.547      -1.219\n",
              "Total Time Spent on Website                       0.8547      0.052     16.472      0.000       0.753       0.956\n",
              "Lead Origin_Lead Add Form                         1.9028      0.448      4.249      0.000       1.025       2.781\n",
              "Lead Source_Welingak Website                      3.8325      1.109      3.455      0.001       1.658       6.007\n",
              "Last Activity_SMS Sent                            1.2055      0.221      5.455      0.000       0.772       1.639\n",
              "Last Notable Activity_Modified                   -1.2756      0.150     -8.507      0.000      -1.569      -0.982\n",
              "Last Notable Activity_Olark Chat Conversation    -1.5193      0.481     -3.160      0.002      -2.462      -0.577\n",
              "Last Notable Activity_SMS Sent                    1.0497      0.256      4.101      0.000       0.548       1.551\n",
              "Tags_Closed by Horizzon                           6.9064      1.018      6.784      0.000       4.911       8.902\n",
              "Tags_Diploma holder (Not Eligible)               -2.4391      1.167     -2.091      0.037      -4.726      -0.152\n",
              "Tags_Interested  in full time MBA                -1.6275      0.618     -2.635      0.008      -2.838      -0.417\n",
              "Tags_Interested in other courses                 -2.1082      0.402     -5.244      0.000      -2.896      -1.320\n",
              "Tags_Lost to EINS                                 5.5438      0.608      9.120      0.000       4.352       6.735\n",
              "Tags_Other_Tags                                  -2.6637      0.221    -12.051      0.000      -3.097      -2.231\n",
              "Tags_Ringing                                     -3.6489      0.241    -15.110      0.000      -4.122      -3.176\n",
              "Tags_Will revert after reading the email          4.3271      0.181     23.910      0.000       3.972       4.682\n",
              "=================================================================================================================\n",
              "\"\"\""
            ]
          },
          "metadata": {
            "tags": []
          },
          "execution_count": 111
        }
      ]
    },
    {
      "cell_type": "markdown",
      "metadata": {
        "id": "_Zze-mD0aUaX"
      },
      "source": [
        "Since \"All\" the p-values are less than 0.05, we can check the Variance Inflation Factor to see  if there is any correlation between the variables."
      ]
    },
    {
      "cell_type": "code",
      "metadata": {
        "id": "33LWtyAyReyK"
      },
      "source": [
        "#Check for the VIF values of the feature variables.\n",
        "\n",
        "from statsmodels.stats.outliers_influence import variance_inflation_factor"
      ],
      "execution_count": 112,
      "outputs": []
    },
    {
      "cell_type": "code",
      "metadata": {
        "colab": {
          "base_uri": "https://localhost:8080/",
          "height": 508
        },
        "id": "v3imkmLbRemY",
        "outputId": "6a39542b-db0f-4b6f-c898-bfc0811456e4"
      },
      "source": [
        "#Create a dataframe that will contain the names of all the feature variables and their respective VIFs\n",
        "\n",
        "vif = pd.DataFrame()\n",
        "vif['Features'] = X_train[col].columns\n",
        "vif['VIF'] = [variance_inflation_factor(X_train[col].values, i)for i in range(X_train[col].shape[1])]\n",
        "vif['VIF'] = round(vif['VIF'], 2)\n",
        "vif = vif.sort_values(by = \"VIF\", ascending = False)\n",
        "vif"
      ],
      "execution_count": 113,
      "outputs": [
        {
          "output_type": "execute_result",
          "data": {
            "text/html": [
              "<div>\n",
              "<style scoped>\n",
              "    .dataframe tbody tr th:only-of-type {\n",
              "        vertical-align: middle;\n",
              "    }\n",
              "\n",
              "    .dataframe tbody tr th {\n",
              "        vertical-align: top;\n",
              "    }\n",
              "\n",
              "    .dataframe thead th {\n",
              "        text-align: right;\n",
              "    }\n",
              "</style>\n",
              "<table border=\"1\" class=\"dataframe\">\n",
              "  <thead>\n",
              "    <tr style=\"text-align: right;\">\n",
              "      <th></th>\n",
              "      <th>Features</th>\n",
              "      <th>VIF</th>\n",
              "    </tr>\n",
              "  </thead>\n",
              "  <tbody>\n",
              "    <tr>\n",
              "      <th>6</th>\n",
              "      <td>Last Notable Activity_SMS Sent</td>\n",
              "      <td>6.21</td>\n",
              "    </tr>\n",
              "    <tr>\n",
              "      <th>3</th>\n",
              "      <td>Last Activity_SMS Sent</td>\n",
              "      <td>6.12</td>\n",
              "    </tr>\n",
              "    <tr>\n",
              "      <th>1</th>\n",
              "      <td>Lead Origin_Lead Add Form</td>\n",
              "      <td>1.80</td>\n",
              "    </tr>\n",
              "    <tr>\n",
              "      <th>4</th>\n",
              "      <td>Last Notable Activity_Modified</td>\n",
              "      <td>1.67</td>\n",
              "    </tr>\n",
              "    <tr>\n",
              "      <th>14</th>\n",
              "      <td>Tags_Will revert after reading the email</td>\n",
              "      <td>1.57</td>\n",
              "    </tr>\n",
              "    <tr>\n",
              "      <th>2</th>\n",
              "      <td>Lead Source_Welingak Website</td>\n",
              "      <td>1.34</td>\n",
              "    </tr>\n",
              "    <tr>\n",
              "      <th>0</th>\n",
              "      <td>Total Time Spent on Website</td>\n",
              "      <td>1.22</td>\n",
              "    </tr>\n",
              "    <tr>\n",
              "      <th>7</th>\n",
              "      <td>Tags_Closed by Horizzon</td>\n",
              "      <td>1.21</td>\n",
              "    </tr>\n",
              "    <tr>\n",
              "      <th>12</th>\n",
              "      <td>Tags_Other_Tags</td>\n",
              "      <td>1.14</td>\n",
              "    </tr>\n",
              "    <tr>\n",
              "      <th>10</th>\n",
              "      <td>Tags_Interested in other courses</td>\n",
              "      <td>1.13</td>\n",
              "    </tr>\n",
              "    <tr>\n",
              "      <th>13</th>\n",
              "      <td>Tags_Ringing</td>\n",
              "      <td>1.12</td>\n",
              "    </tr>\n",
              "    <tr>\n",
              "      <th>11</th>\n",
              "      <td>Tags_Lost to EINS</td>\n",
              "      <td>1.05</td>\n",
              "    </tr>\n",
              "    <tr>\n",
              "      <th>9</th>\n",
              "      <td>Tags_Interested  in full time MBA</td>\n",
              "      <td>1.02</td>\n",
              "    </tr>\n",
              "    <tr>\n",
              "      <th>5</th>\n",
              "      <td>Last Notable Activity_Olark Chat Conversation</td>\n",
              "      <td>1.01</td>\n",
              "    </tr>\n",
              "    <tr>\n",
              "      <th>8</th>\n",
              "      <td>Tags_Diploma holder (Not Eligible)</td>\n",
              "      <td>1.01</td>\n",
              "    </tr>\n",
              "  </tbody>\n",
              "</table>\n",
              "</div>"
            ],
            "text/plain": [
              "                                         Features   VIF\n",
              "6                  Last Notable Activity_SMS Sent  6.21\n",
              "3                          Last Activity_SMS Sent  6.12\n",
              "1                       Lead Origin_Lead Add Form  1.80\n",
              "4                  Last Notable Activity_Modified  1.67\n",
              "14       Tags_Will revert after reading the email  1.57\n",
              "2                    Lead Source_Welingak Website  1.34\n",
              "0                     Total Time Spent on Website  1.22\n",
              "7                         Tags_Closed by Horizzon  1.21\n",
              "12                                Tags_Other_Tags  1.14\n",
              "10               Tags_Interested in other courses  1.13\n",
              "13                                   Tags_Ringing  1.12\n",
              "11                              Tags_Lost to EINS  1.05\n",
              "9               Tags_Interested  in full time MBA  1.02\n",
              "5   Last Notable Activity_Olark Chat Conversation  1.01\n",
              "8              Tags_Diploma holder (Not Eligible)  1.01"
            ]
          },
          "metadata": {
            "tags": []
          },
          "execution_count": 113
        }
      ]
    },
    {
      "cell_type": "markdown",
      "metadata": {
        "id": "ol6ew-pkgQWE"
      },
      "source": [
        "There is high correlation between two variables so we drop the variable with the higher valued VIF value."
      ]
    },
    {
      "cell_type": "code",
      "metadata": {
        "id": "wIxN3u8VReTe"
      },
      "source": [
        "#dropping variable with high VIF\n",
        "\n",
        "col = col.drop('Last Notable Activity_SMS Sent', 1)"
      ],
      "execution_count": 114,
      "outputs": []
    },
    {
      "cell_type": "code",
      "metadata": {
        "colab": {
          "base_uri": "https://localhost:8080/",
          "height": 530
        },
        "id": "hILs9X7HReEL",
        "outputId": "cbc63b03-d3f0-48f8-d3f1-bd52411e22a6"
      },
      "source": [
        "# BUILDING MODEL 2\n",
        "\n",
        "X_train_sm = sm.add_constant(X_train[col])\n",
        "logm2 = sm.GLM(y_train,X_train_sm, family = sm.families.Binomial())\n",
        "res = logm2.fit()\n",
        "res.summary()"
      ],
      "execution_count": 115,
      "outputs": [
        {
          "output_type": "execute_result",
          "data": {
            "text/html": [
              "<table class=\"simpletable\">\n",
              "<caption>Generalized Linear Model Regression Results</caption>\n",
              "<tr>\n",
              "  <th>Dep. Variable:</th>       <td>Converted</td>    <th>  No. Observations:  </th>  <td>  6267</td> \n",
              "</tr>\n",
              "<tr>\n",
              "  <th>Model:</th>                  <td>GLM</td>       <th>  Df Residuals:      </th>  <td>  6252</td> \n",
              "</tr>\n",
              "<tr>\n",
              "  <th>Model Family:</th>        <td>Binomial</td>     <th>  Df Model:          </th>  <td>    14</td> \n",
              "</tr>\n",
              "<tr>\n",
              "  <th>Link Function:</th>         <td>logit</td>      <th>  Scale:             </th> <td>  1.0000</td>\n",
              "</tr>\n",
              "<tr>\n",
              "  <th>Method:</th>                <td>IRLS</td>       <th>  Log-Likelihood:    </th> <td> -1284.7</td>\n",
              "</tr>\n",
              "<tr>\n",
              "  <th>Date:</th>            <td>Mon, 14 Jun 2021</td> <th>  Deviance:          </th> <td>  2569.4</td>\n",
              "</tr>\n",
              "<tr>\n",
              "  <th>Time:</th>                <td>09:58:17</td>     <th>  Pearson chi2:      </th> <td>7.96e+03</td>\n",
              "</tr>\n",
              "<tr>\n",
              "  <th>No. Iterations:</th>          <td>8</td>        <th>                     </th>     <td> </td>   \n",
              "</tr>\n",
              "<tr>\n",
              "  <th>Covariance Type:</th>     <td>nonrobust</td>    <th>                     </th>     <td> </td>   \n",
              "</tr>\n",
              "</table>\n",
              "<table class=\"simpletable\">\n",
              "<tr>\n",
              "                        <td></td>                           <th>coef</th>     <th>std err</th>      <th>z</th>      <th>P>|z|</th>  <th>[0.025</th>    <th>0.975]</th>  \n",
              "</tr>\n",
              "<tr>\n",
              "  <th>const</th>                                         <td>   -1.2951</td> <td>    0.079</td> <td>  -16.297</td> <td> 0.000</td> <td>   -1.451</td> <td>   -1.139</td>\n",
              "</tr>\n",
              "<tr>\n",
              "  <th>Total Time Spent on Website</th>                   <td>    0.8467</td> <td>    0.052</td> <td>   16.391</td> <td> 0.000</td> <td>    0.745</td> <td>    0.948</td>\n",
              "</tr>\n",
              "<tr>\n",
              "  <th>Lead Origin_Lead Add Form</th>                     <td>    1.8820</td> <td>    0.454</td> <td>    4.148</td> <td> 0.000</td> <td>    0.993</td> <td>    2.771</td>\n",
              "</tr>\n",
              "<tr>\n",
              "  <th>Lead Source_Welingak Website</th>                  <td>    3.8140</td> <td>    1.114</td> <td>    3.424</td> <td> 0.001</td> <td>    1.631</td> <td>    5.997</td>\n",
              "</tr>\n",
              "<tr>\n",
              "  <th>Last Activity_SMS Sent</th>                        <td>    1.9844</td> <td>    0.112</td> <td>   17.728</td> <td> 0.000</td> <td>    1.765</td> <td>    2.204</td>\n",
              "</tr>\n",
              "<tr>\n",
              "  <th>Last Notable Activity_Modified</th>                <td>   -1.6640</td> <td>    0.124</td> <td>  -13.397</td> <td> 0.000</td> <td>   -1.907</td> <td>   -1.421</td>\n",
              "</tr>\n",
              "<tr>\n",
              "  <th>Last Notable Activity_Olark Chat Conversation</th> <td>   -1.6172</td> <td>    0.483</td> <td>   -3.348</td> <td> 0.001</td> <td>   -2.564</td> <td>   -0.670</td>\n",
              "</tr>\n",
              "<tr>\n",
              "  <th>Tags_Closed by Horizzon</th>                       <td>    7.1323</td> <td>    1.019</td> <td>    6.997</td> <td> 0.000</td> <td>    5.135</td> <td>    9.130</td>\n",
              "</tr>\n",
              "<tr>\n",
              "  <th>Tags_Diploma holder (Not Eligible)</th>            <td>   -2.4033</td> <td>    1.143</td> <td>   -2.103</td> <td> 0.035</td> <td>   -4.643</td> <td>   -0.164</td>\n",
              "</tr>\n",
              "<tr>\n",
              "  <th>Tags_Interested  in full time MBA</th>             <td>   -1.6728</td> <td>    0.624</td> <td>   -2.679</td> <td> 0.007</td> <td>   -2.896</td> <td>   -0.449</td>\n",
              "</tr>\n",
              "<tr>\n",
              "  <th>Tags_Interested in other courses</th>              <td>   -2.0392</td> <td>    0.400</td> <td>   -5.104</td> <td> 0.000</td> <td>   -2.822</td> <td>   -1.256</td>\n",
              "</tr>\n",
              "<tr>\n",
              "  <th>Tags_Lost to EINS</th>                             <td>    5.7459</td> <td>    0.610</td> <td>    9.413</td> <td> 0.000</td> <td>    4.549</td> <td>    6.942</td>\n",
              "</tr>\n",
              "<tr>\n",
              "  <th>Tags_Other_Tags</th>                               <td>   -2.5817</td> <td>    0.217</td> <td>  -11.901</td> <td> 0.000</td> <td>   -3.007</td> <td>   -2.157</td>\n",
              "</tr>\n",
              "<tr>\n",
              "  <th>Tags_Ringing</th>                                  <td>   -3.5120</td> <td>    0.236</td> <td>  -14.888</td> <td> 0.000</td> <td>   -3.974</td> <td>   -3.050</td>\n",
              "</tr>\n",
              "<tr>\n",
              "  <th>Tags_Will revert after reading the email</th>      <td>    4.4118</td> <td>    0.185</td> <td>   23.910</td> <td> 0.000</td> <td>    4.050</td> <td>    4.773</td>\n",
              "</tr>\n",
              "</table>"
            ],
            "text/plain": [
              "<class 'statsmodels.iolib.summary.Summary'>\n",
              "\"\"\"\n",
              "                 Generalized Linear Model Regression Results                  \n",
              "==============================================================================\n",
              "Dep. Variable:              Converted   No. Observations:                 6267\n",
              "Model:                            GLM   Df Residuals:                     6252\n",
              "Model Family:                Binomial   Df Model:                           14\n",
              "Link Function:                  logit   Scale:                          1.0000\n",
              "Method:                          IRLS   Log-Likelihood:                -1284.7\n",
              "Date:                Mon, 14 Jun 2021   Deviance:                       2569.4\n",
              "Time:                        09:58:17   Pearson chi2:                 7.96e+03\n",
              "No. Iterations:                     8                                         \n",
              "Covariance Type:            nonrobust                                         \n",
              "=================================================================================================================\n",
              "                                                    coef    std err          z      P>|z|      [0.025      0.975]\n",
              "-----------------------------------------------------------------------------------------------------------------\n",
              "const                                            -1.2951      0.079    -16.297      0.000      -1.451      -1.139\n",
              "Total Time Spent on Website                       0.8467      0.052     16.391      0.000       0.745       0.948\n",
              "Lead Origin_Lead Add Form                         1.8820      0.454      4.148      0.000       0.993       2.771\n",
              "Lead Source_Welingak Website                      3.8140      1.114      3.424      0.001       1.631       5.997\n",
              "Last Activity_SMS Sent                            1.9844      0.112     17.728      0.000       1.765       2.204\n",
              "Last Notable Activity_Modified                   -1.6640      0.124    -13.397      0.000      -1.907      -1.421\n",
              "Last Notable Activity_Olark Chat Conversation    -1.6172      0.483     -3.348      0.001      -2.564      -0.670\n",
              "Tags_Closed by Horizzon                           7.1323      1.019      6.997      0.000       5.135       9.130\n",
              "Tags_Diploma holder (Not Eligible)               -2.4033      1.143     -2.103      0.035      -4.643      -0.164\n",
              "Tags_Interested  in full time MBA                -1.6728      0.624     -2.679      0.007      -2.896      -0.449\n",
              "Tags_Interested in other courses                 -2.0392      0.400     -5.104      0.000      -2.822      -1.256\n",
              "Tags_Lost to EINS                                 5.7459      0.610      9.413      0.000       4.549       6.942\n",
              "Tags_Other_Tags                                  -2.5817      0.217    -11.901      0.000      -3.007      -2.157\n",
              "Tags_Ringing                                     -3.5120      0.236    -14.888      0.000      -3.974      -3.050\n",
              "Tags_Will revert after reading the email          4.4118      0.185     23.910      0.000       4.050       4.773\n",
              "=================================================================================================================\n",
              "\"\"\""
            ]
          },
          "metadata": {
            "tags": []
          },
          "execution_count": 115
        }
      ]
    },
    {
      "cell_type": "code",
      "metadata": {
        "colab": {
          "base_uri": "https://localhost:8080/",
          "height": 477
        },
        "id": "l4h8FyN2uQSi",
        "outputId": "65976143-b92c-41a4-c9f8-228ca9cc6c01"
      },
      "source": [
        "#Create a dataframe that will contain the names of all the feature variables and their respective VIFs\n",
        "\n",
        "vif = pd.DataFrame()\n",
        "vif['Features'] = X_train[col].columns\n",
        "vif['VIF'] = [variance_inflation_factor(X_train[col].values, i) for i in range(X_train[col].shape[1])]\n",
        "vif['VIF'] = round(vif['VIF'], 2)\n",
        "vif = vif.sort_values(by =  \"VIF\", ascending = False)\n",
        "vif"
      ],
      "execution_count": 116,
      "outputs": [
        {
          "output_type": "execute_result",
          "data": {
            "text/html": [
              "<div>\n",
              "<style scoped>\n",
              "    .dataframe tbody tr th:only-of-type {\n",
              "        vertical-align: middle;\n",
              "    }\n",
              "\n",
              "    .dataframe tbody tr th {\n",
              "        vertical-align: top;\n",
              "    }\n",
              "\n",
              "    .dataframe thead th {\n",
              "        text-align: right;\n",
              "    }\n",
              "</style>\n",
              "<table border=\"1\" class=\"dataframe\">\n",
              "  <thead>\n",
              "    <tr style=\"text-align: right;\">\n",
              "      <th></th>\n",
              "      <th>Features</th>\n",
              "      <th>VIF</th>\n",
              "    </tr>\n",
              "  </thead>\n",
              "  <tbody>\n",
              "    <tr>\n",
              "      <th>1</th>\n",
              "      <td>Lead Origin_Lead Add Form</td>\n",
              "      <td>1.80</td>\n",
              "    </tr>\n",
              "    <tr>\n",
              "      <th>13</th>\n",
              "      <td>Tags_Will revert after reading the email</td>\n",
              "      <td>1.51</td>\n",
              "    </tr>\n",
              "    <tr>\n",
              "      <th>3</th>\n",
              "      <td>Last Activity_SMS Sent</td>\n",
              "      <td>1.44</td>\n",
              "    </tr>\n",
              "    <tr>\n",
              "      <th>4</th>\n",
              "      <td>Last Notable Activity_Modified</td>\n",
              "      <td>1.39</td>\n",
              "    </tr>\n",
              "    <tr>\n",
              "      <th>2</th>\n",
              "      <td>Lead Source_Welingak Website</td>\n",
              "      <td>1.34</td>\n",
              "    </tr>\n",
              "    <tr>\n",
              "      <th>0</th>\n",
              "      <td>Total Time Spent on Website</td>\n",
              "      <td>1.22</td>\n",
              "    </tr>\n",
              "    <tr>\n",
              "      <th>6</th>\n",
              "      <td>Tags_Closed by Horizzon</td>\n",
              "      <td>1.20</td>\n",
              "    </tr>\n",
              "    <tr>\n",
              "      <th>9</th>\n",
              "      <td>Tags_Interested in other courses</td>\n",
              "      <td>1.12</td>\n",
              "    </tr>\n",
              "    <tr>\n",
              "      <th>11</th>\n",
              "      <td>Tags_Other_Tags</td>\n",
              "      <td>1.12</td>\n",
              "    </tr>\n",
              "    <tr>\n",
              "      <th>12</th>\n",
              "      <td>Tags_Ringing</td>\n",
              "      <td>1.10</td>\n",
              "    </tr>\n",
              "    <tr>\n",
              "      <th>10</th>\n",
              "      <td>Tags_Lost to EINS</td>\n",
              "      <td>1.05</td>\n",
              "    </tr>\n",
              "    <tr>\n",
              "      <th>8</th>\n",
              "      <td>Tags_Interested  in full time MBA</td>\n",
              "      <td>1.02</td>\n",
              "    </tr>\n",
              "    <tr>\n",
              "      <th>5</th>\n",
              "      <td>Last Notable Activity_Olark Chat Conversation</td>\n",
              "      <td>1.01</td>\n",
              "    </tr>\n",
              "    <tr>\n",
              "      <th>7</th>\n",
              "      <td>Tags_Diploma holder (Not Eligible)</td>\n",
              "      <td>1.01</td>\n",
              "    </tr>\n",
              "  </tbody>\n",
              "</table>\n",
              "</div>"
            ],
            "text/plain": [
              "                                         Features   VIF\n",
              "1                       Lead Origin_Lead Add Form  1.80\n",
              "13       Tags_Will revert after reading the email  1.51\n",
              "3                          Last Activity_SMS Sent  1.44\n",
              "4                  Last Notable Activity_Modified  1.39\n",
              "2                    Lead Source_Welingak Website  1.34\n",
              "0                     Total Time Spent on Website  1.22\n",
              "6                         Tags_Closed by Horizzon  1.20\n",
              "9                Tags_Interested in other courses  1.12\n",
              "11                                Tags_Other_Tags  1.12\n",
              "12                                   Tags_Ringing  1.10\n",
              "10                              Tags_Lost to EINS  1.05\n",
              "8               Tags_Interested  in full time MBA  1.02\n",
              "5   Last Notable Activity_Olark Chat Conversation  1.01\n",
              "7              Tags_Diploma holder (Not Eligible)  1.01"
            ]
          },
          "metadata": {
            "tags": []
          },
          "execution_count": 116
        }
      ]
    },
    {
      "cell_type": "markdown",
      "metadata": {
        "id": "zkjmfR1TwSdG"
      },
      "source": [
        "So all the values seems to be in order so now, Moving on to derive the Probabilities, Lead Score, Predictions on Train Data:"
      ]
    },
    {
      "cell_type": "code",
      "metadata": {
        "colab": {
          "base_uri": "https://localhost:8080/"
        },
        "id": "ZeZfjxOuuQIS",
        "outputId": "427490fd-1d17-409a-fdfe-acb1cdf59b0e"
      },
      "source": [
        "#Getting the Predicted values on the train set\n",
        "\n",
        "y_train_pred = res.predict(X_train_sm)\n",
        "y_train_pred[:10]"
      ],
      "execution_count": 117,
      "outputs": [
        {
          "output_type": "execute_result",
          "data": {
            "text/plain": [
              "9196    0.221337\n",
              "4696    0.054440\n",
              "3274    0.536349\n",
              "2164    0.005886\n",
              "1667    0.984964\n",
              "7024    0.115725\n",
              "8018    0.025314\n",
              "778     0.178564\n",
              "6942    0.004631\n",
              "4440    0.171363\n",
              "dtype: float64"
            ]
          },
          "metadata": {
            "tags": []
          },
          "execution_count": 117
        }
      ]
    },
    {
      "cell_type": "code",
      "metadata": {
        "colab": {
          "base_uri": "https://localhost:8080/"
        },
        "id": "52mP9yYmuP8n",
        "outputId": "25ca2def-1596-47de-99d1-58aa1fb11b72"
      },
      "source": [
        "y_train_pred = y_train_pred.values.reshape(-1)\n",
        "y_train_pred[:10]"
      ],
      "execution_count": 118,
      "outputs": [
        {
          "output_type": "execute_result",
          "data": {
            "text/plain": [
              "array([0.22133657, 0.05444004, 0.53634882, 0.00588592, 0.98496377,\n",
              "       0.11572513, 0.0253136 , 0.17856392, 0.00463064, 0.17136252])"
            ]
          },
          "metadata": {
            "tags": []
          },
          "execution_count": 118
        }
      ]
    },
    {
      "cell_type": "code",
      "metadata": {
        "colab": {
          "base_uri": "https://localhost:8080/",
          "height": 202
        },
        "id": "_I3EI4g2uPLY",
        "outputId": "da7e97e2-c42f-404f-972a-b63c9b43174e"
      },
      "source": [
        "y_train_pred_final = pd.DataFrame({'Converted':y_train.values, 'Converted_prob':y_train_pred})\n",
        "y_train_pred_final['Prospect ID'] = y_train.index\n",
        "y_train_pred_final.head()"
      ],
      "execution_count": 119,
      "outputs": [
        {
          "output_type": "execute_result",
          "data": {
            "text/html": [
              "<div>\n",
              "<style scoped>\n",
              "    .dataframe tbody tr th:only-of-type {\n",
              "        vertical-align: middle;\n",
              "    }\n",
              "\n",
              "    .dataframe tbody tr th {\n",
              "        vertical-align: top;\n",
              "    }\n",
              "\n",
              "    .dataframe thead th {\n",
              "        text-align: right;\n",
              "    }\n",
              "</style>\n",
              "<table border=\"1\" class=\"dataframe\">\n",
              "  <thead>\n",
              "    <tr style=\"text-align: right;\">\n",
              "      <th></th>\n",
              "      <th>Converted</th>\n",
              "      <th>Converted_prob</th>\n",
              "      <th>Prospect ID</th>\n",
              "    </tr>\n",
              "  </thead>\n",
              "  <tbody>\n",
              "    <tr>\n",
              "      <th>0</th>\n",
              "      <td>1</td>\n",
              "      <td>0.221337</td>\n",
              "      <td>9196</td>\n",
              "    </tr>\n",
              "    <tr>\n",
              "      <th>1</th>\n",
              "      <td>0</td>\n",
              "      <td>0.054440</td>\n",
              "      <td>4696</td>\n",
              "    </tr>\n",
              "    <tr>\n",
              "      <th>2</th>\n",
              "      <td>0</td>\n",
              "      <td>0.536349</td>\n",
              "      <td>3274</td>\n",
              "    </tr>\n",
              "    <tr>\n",
              "      <th>3</th>\n",
              "      <td>0</td>\n",
              "      <td>0.005886</td>\n",
              "      <td>2164</td>\n",
              "    </tr>\n",
              "    <tr>\n",
              "      <th>4</th>\n",
              "      <td>1</td>\n",
              "      <td>0.984964</td>\n",
              "      <td>1667</td>\n",
              "    </tr>\n",
              "  </tbody>\n",
              "</table>\n",
              "</div>"
            ],
            "text/plain": [
              "   Converted  Converted_prob  Prospect ID\n",
              "0          1        0.221337         9196\n",
              "1          0        0.054440         4696\n",
              "2          0        0.536349         3274\n",
              "3          0        0.005886         2164\n",
              "4          1        0.984964         1667"
            ]
          },
          "metadata": {
            "tags": []
          },
          "execution_count": 119
        }
      ]
    },
    {
      "cell_type": "code",
      "metadata": {
        "colab": {
          "base_uri": "https://localhost:8080/",
          "height": 202
        },
        "id": "izxx5yA2uPB9",
        "outputId": "63e1d3de-9fb1-435c-f79a-0bd99139d0b0"
      },
      "source": [
        "y_train_pred_final['Predicted'] = y_train_pred_final.Converted_prob.map(lambda x: 1 if x > 0.5 else 0)\n",
        "\n",
        "#Let's see the head \n",
        "\n",
        "y_train_pred_final.head()"
      ],
      "execution_count": 120,
      "outputs": [
        {
          "output_type": "execute_result",
          "data": {
            "text/html": [
              "<div>\n",
              "<style scoped>\n",
              "    .dataframe tbody tr th:only-of-type {\n",
              "        vertical-align: middle;\n",
              "    }\n",
              "\n",
              "    .dataframe tbody tr th {\n",
              "        vertical-align: top;\n",
              "    }\n",
              "\n",
              "    .dataframe thead th {\n",
              "        text-align: right;\n",
              "    }\n",
              "</style>\n",
              "<table border=\"1\" class=\"dataframe\">\n",
              "  <thead>\n",
              "    <tr style=\"text-align: right;\">\n",
              "      <th></th>\n",
              "      <th>Converted</th>\n",
              "      <th>Converted_prob</th>\n",
              "      <th>Prospect ID</th>\n",
              "      <th>Predicted</th>\n",
              "    </tr>\n",
              "  </thead>\n",
              "  <tbody>\n",
              "    <tr>\n",
              "      <th>0</th>\n",
              "      <td>1</td>\n",
              "      <td>0.221337</td>\n",
              "      <td>9196</td>\n",
              "      <td>0</td>\n",
              "    </tr>\n",
              "    <tr>\n",
              "      <th>1</th>\n",
              "      <td>0</td>\n",
              "      <td>0.054440</td>\n",
              "      <td>4696</td>\n",
              "      <td>0</td>\n",
              "    </tr>\n",
              "    <tr>\n",
              "      <th>2</th>\n",
              "      <td>0</td>\n",
              "      <td>0.536349</td>\n",
              "      <td>3274</td>\n",
              "      <td>1</td>\n",
              "    </tr>\n",
              "    <tr>\n",
              "      <th>3</th>\n",
              "      <td>0</td>\n",
              "      <td>0.005886</td>\n",
              "      <td>2164</td>\n",
              "      <td>0</td>\n",
              "    </tr>\n",
              "    <tr>\n",
              "      <th>4</th>\n",
              "      <td>1</td>\n",
              "      <td>0.984964</td>\n",
              "      <td>1667</td>\n",
              "      <td>1</td>\n",
              "    </tr>\n",
              "  </tbody>\n",
              "</table>\n",
              "</div>"
            ],
            "text/plain": [
              "   Converted  Converted_prob  Prospect ID  Predicted\n",
              "0          1        0.221337         9196          0\n",
              "1          0        0.054440         4696          0\n",
              "2          0        0.536349         3274          1\n",
              "3          0        0.005886         2164          0\n",
              "4          1        0.984964         1667          1"
            ]
          },
          "metadata": {
            "tags": []
          },
          "execution_count": 120
        }
      ]
    },
    {
      "cell_type": "code",
      "metadata": {
        "colab": {
          "base_uri": "https://localhost:8080/"
        },
        "id": "KkcitRAPuO7k",
        "outputId": "094527e3-1b6e-499a-e174-7390d23c20e3"
      },
      "source": [
        "from sklearn import metrics\n",
        "\n",
        "# Confusion matrix\n",
        "\n",
        "confusion = metrics.confusion_matrix(y_train_pred_final.Converted, y_train_pred_final.Predicted)\n",
        "print(confusion)"
      ],
      "execution_count": 121,
      "outputs": [
        {
          "output_type": "stream",
          "text": [
            "[[3697  185]\n",
            " [ 349 2036]]\n"
          ],
          "name": "stdout"
        }
      ]
    },
    {
      "cell_type": "code",
      "metadata": {
        "colab": {
          "base_uri": "https://localhost:8080/"
        },
        "id": "cgNYZP3nuO1p",
        "outputId": "55872f92-82cd-4617-d978-74489d02604b"
      },
      "source": [
        "#Let's check the overall accuracy\n",
        "\n",
        "print(metrics.accuracy_score(y_train_pred_final.Converted, y_train_pred_final.Predicted))"
      ],
      "execution_count": 122,
      "outputs": [
        {
          "output_type": "stream",
          "text": [
            "0.9147917663954045\n"
          ],
          "name": "stdout"
        }
      ]
    },
    {
      "cell_type": "code",
      "metadata": {
        "id": "rf3uB0nTuOvv"
      },
      "source": [
        "TP = confusion[1,1] #true positive\n",
        "TN = confusion[0,0] #true negatives\n",
        "FP = confusion[0,1] #false positives\n",
        "FN = confusion[1,0] #false negatives"
      ],
      "execution_count": 123,
      "outputs": []
    },
    {
      "cell_type": "code",
      "metadata": {
        "colab": {
          "base_uri": "https://localhost:8080/"
        },
        "id": "lljncPz7uOph",
        "outputId": "2a7da57d-251f-4b20-8626-1471f16b13e5"
      },
      "source": [
        "#Let's see the sensitivity of our logistic regression model\n",
        "\n",
        "TP / float(TP+FN)"
      ],
      "execution_count": 124,
      "outputs": [
        {
          "output_type": "execute_result",
          "data": {
            "text/plain": [
              "0.8536687631027253"
            ]
          },
          "metadata": {
            "tags": []
          },
          "execution_count": 124
        }
      ]
    },
    {
      "cell_type": "code",
      "metadata": {
        "colab": {
          "base_uri": "https://localhost:8080/"
        },
        "id": "Kwq6PLkduOjE",
        "outputId": "cc5f80ba-2eaf-4f75-8ad8-df9a07a66431"
      },
      "source": [
        "#Let us calculate specificity\n",
        "\n",
        "TN / float(TN+FP)"
      ],
      "execution_count": 125,
      "outputs": [
        {
          "output_type": "execute_result",
          "data": {
            "text/plain": [
              "0.952344152498712"
            ]
          },
          "metadata": {
            "tags": []
          },
          "execution_count": 125
        }
      ]
    },
    {
      "cell_type": "code",
      "metadata": {
        "colab": {
          "base_uri": "https://localhost:8080/"
        },
        "id": "S0sH-bs2uOdN",
        "outputId": "e0367e97-9e05-4a63-a7d5-e17d94a2c661"
      },
      "source": [
        "#Calculate False Postive Rate - predicting conversion when customer does not have convert\n",
        "\n",
        "print(FP/ float(TN+FP))"
      ],
      "execution_count": 126,
      "outputs": [
        {
          "output_type": "stream",
          "text": [
            "0.047655847501288\n"
          ],
          "name": "stdout"
        }
      ]
    },
    {
      "cell_type": "code",
      "metadata": {
        "colab": {
          "base_uri": "https://localhost:8080/"
        },
        "id": "YtYF3al4uOXO",
        "outputId": "af338f48-9016-41a0-c622-11cd0ec72712"
      },
      "source": [
        "#positive predictive value\n",
        "\n",
        "print (TP / float(TP+FP))"
      ],
      "execution_count": 127,
      "outputs": [
        {
          "output_type": "stream",
          "text": [
            "0.9167041873030166\n"
          ],
          "name": "stdout"
        }
      ]
    },
    {
      "cell_type": "code",
      "metadata": {
        "colab": {
          "base_uri": "https://localhost:8080/"
        },
        "id": "CSZutBfZuORO",
        "outputId": "5cf577bb-65dd-43d4-a977-8fbf14d42da3"
      },
      "source": [
        "#Negative predictive value\n",
        "\n",
        "print(TN / float(TN+FN))"
      ],
      "execution_count": 128,
      "outputs": [
        {
          "output_type": "stream",
          "text": [
            "0.9137419673751853\n"
          ],
          "name": "stdout"
        }
      ]
    },
    {
      "cell_type": "markdown",
      "metadata": {
        "id": "8rLVwrap6l-3"
      },
      "source": [
        "**PLOTTING ROC CURVE**"
      ]
    },
    {
      "cell_type": "code",
      "metadata": {
        "id": "7oX4dV4ZuOKz"
      },
      "source": [
        "def draw_roc( actual, probs ):\n",
        "    fpr, tpr, thresholds = metrics.roc_curve( actual, probs, drop_intermediate=False )\n",
        "    auc_score = metrics.roc_auc_score( actual, probs )\n",
        "    plt.figure(figsize=(5, 5))\n",
        "    plt.plot( fpr, tpr, label='ROC curve (area = %0.2f)' % auc_score)\n",
        "    plt.plot([0, 1], [0, 1], 'k--')\n",
        "    plt.xlim([0.0, 1.0])\n",
        "    plt.ylim([0.0, 1.05])\n",
        "    plt.xlabel('False Positive Rate or [1 - True Negative Rate]')\n",
        "    plt.ylabel('True Positive Rate')\n",
        "    plt.title('Receiver operating characteristic example')\n",
        "    plt.legend(loc=\"lower right\")\n",
        "    plt.show()\n",
        "\n",
        "    return None"
      ],
      "execution_count": 129,
      "outputs": []
    },
    {
      "cell_type": "code",
      "metadata": {
        "id": "XOPRZLvSuOFQ"
      },
      "source": [
        "fpr, tpr, thresholds = metrics.roc_curve( y_train_pred_final.Converted, y_train_pred_final.Converted_prob, drop_intermediate=False)"
      ],
      "execution_count": 130,
      "outputs": []
    },
    {
      "cell_type": "code",
      "metadata": {
        "colab": {
          "base_uri": "https://localhost:8080/",
          "height": 350
        },
        "id": "9upGeHVZuN-v",
        "outputId": "fdc1e877-c2a6-46b5-8c6f-d449c633e2df"
      },
      "source": [
        "draw_roc(y_train_pred_final.Converted, y_train_pred_final.Converted_prob)"
      ],
      "execution_count": 131,
      "outputs": [
        {
          "output_type": "display_data",
          "data": {
            "image/png": "[encoded data removed]",
            "text/plain": [
              "<Figure size 360x360 with 1 Axes>"
            ]
          },
          "metadata": {
            "tags": [],
            "needs_background": "light"
          }
        }
      ]
    },
    {
      "cell_type": "markdown",
      "metadata": {
        "id": "zs2OyMgcHHx2"
      },
      "source": [
        "The ROC Curve should be a value close to 1. We are getting a good value of 0.97 indicating a good predictive model."
      ]
    },
    {
      "cell_type": "markdown",
      "metadata": {
        "id": "0QhAZtX-HHNE"
      },
      "source": [
        "**Finding Optimal Cutoff Point**"
      ]
    },
    {
      "cell_type": "markdown",
      "metadata": {
        "id": "xUSMMTN5HGrO"
      },
      "source": [
        "Above we had chosen an arbitrary cut-off value of 0.5. We need to determine the best cut-off value and the below section deals with that:  "
      ]
    },
    {
      "cell_type": "code",
      "metadata": {
        "colab": {
          "base_uri": "https://localhost:8080/",
          "height": 202
        },
        "id": "Z1ZGGmOduN4-",
        "outputId": "6fbadd3f-7bf7-47f1-e1c2-fb0ea5fbc6af"
      },
      "source": [
        "#Let's create columns with different probability cutoffs\n",
        "\n",
        "numbers = [float(x)/10 for x in range (10)]\n",
        "for i in numbers:\n",
        "    y_train_pred_final[i]= y_train_pred_final.Converted_prob.map(lambda x: 1 if x > i else 0)\n",
        "y_train_pred_final.head()"
      ],
      "execution_count": 132,
      "outputs": [
        {
          "output_type": "execute_result",
          "data": {
            "text/html": [
              "<div>\n",
              "<style scoped>\n",
              "    .dataframe tbody tr th:only-of-type {\n",
              "        vertical-align: middle;\n",
              "    }\n",
              "\n",
              "    .dataframe tbody tr th {\n",
              "        vertical-align: top;\n",
              "    }\n",
              "\n",
              "    .dataframe thead th {\n",
              "        text-align: right;\n",
              "    }\n",
              "</style>\n",
              "<table border=\"1\" class=\"dataframe\">\n",
              "  <thead>\n",
              "    <tr style=\"text-align: right;\">\n",
              "      <th></th>\n",
              "      <th>Converted</th>\n",
              "      <th>Converted_prob</th>\n",
              "      <th>Prospect ID</th>\n",
              "      <th>Predicted</th>\n",
              "      <th>0.0</th>\n",
              "      <th>0.1</th>\n",
              "      <th>0.2</th>\n",
              "      <th>0.3</th>\n",
              "      <th>0.4</th>\n",
              "      <th>0.5</th>\n",
              "      <th>0.6</th>\n",
              "      <th>0.7</th>\n",
              "      <th>0.8</th>\n",
              "      <th>0.9</th>\n",
              "    </tr>\n",
              "  </thead>\n",
              "  <tbody>\n",
              "    <tr>\n",
              "      <th>0</th>\n",
              "      <td>1</td>\n",
              "      <td>0.221337</td>\n",
              "      <td>9196</td>\n",
              "      <td>0</td>\n",
              "      <td>1</td>\n",
              "      <td>1</td>\n",
              "      <td>1</td>\n",
              "      <td>0</td>\n",
              "      <td>0</td>\n",
              "      <td>0</td>\n",
              "      <td>0</td>\n",
              "      <td>0</td>\n",
              "      <td>0</td>\n",
              "      <td>0</td>\n",
              "    </tr>\n",
              "    <tr>\n",
              "      <th>1</th>\n",
              "      <td>0</td>\n",
              "      <td>0.054440</td>\n",
              "      <td>4696</td>\n",
              "      <td>0</td>\n",
              "      <td>1</td>\n",
              "      <td>0</td>\n",
              "      <td>0</td>\n",
              "      <td>0</td>\n",
              "      <td>0</td>\n",
              "      <td>0</td>\n",
              "      <td>0</td>\n",
              "      <td>0</td>\n",
              "      <td>0</td>\n",
              "      <td>0</td>\n",
              "    </tr>\n",
              "    <tr>\n",
              "      <th>2</th>\n",
              "      <td>0</td>\n",
              "      <td>0.536349</td>\n",
              "      <td>3274</td>\n",
              "      <td>1</td>\n",
              "      <td>1</td>\n",
              "      <td>1</td>\n",
              "      <td>1</td>\n",
              "      <td>1</td>\n",
              "      <td>1</td>\n",
              "      <td>1</td>\n",
              "      <td>0</td>\n",
              "      <td>0</td>\n",
              "      <td>0</td>\n",
              "      <td>0</td>\n",
              "    </tr>\n",
              "    <tr>\n",
              "      <th>3</th>\n",
              "      <td>0</td>\n",
              "      <td>0.005886</td>\n",
              "      <td>2164</td>\n",
              "      <td>0</td>\n",
              "      <td>1</td>\n",
              "      <td>0</td>\n",
              "      <td>0</td>\n",
              "      <td>0</td>\n",
              "      <td>0</td>\n",
              "      <td>0</td>\n",
              "      <td>0</td>\n",
              "      <td>0</td>\n",
              "      <td>0</td>\n",
              "      <td>0</td>\n",
              "    </tr>\n",
              "    <tr>\n",
              "      <th>4</th>\n",
              "      <td>1</td>\n",
              "      <td>0.984964</td>\n",
              "      <td>1667</td>\n",
              "      <td>1</td>\n",
              "      <td>1</td>\n",
              "      <td>1</td>\n",
              "      <td>1</td>\n",
              "      <td>1</td>\n",
              "      <td>1</td>\n",
              "      <td>1</td>\n",
              "      <td>1</td>\n",
              "      <td>1</td>\n",
              "      <td>1</td>\n",
              "      <td>1</td>\n",
              "    </tr>\n",
              "  </tbody>\n",
              "</table>\n",
              "</div>"
            ],
            "text/plain": [
              "   Converted  Converted_prob  Prospect ID  Predicted  ...  0.6  0.7  0.8  0.9\n",
              "0          1        0.221337         9196          0  ...    0    0    0    0\n",
              "1          0        0.054440         4696          0  ...    0    0    0    0\n",
              "2          0        0.536349         3274          1  ...    0    0    0    0\n",
              "3          0        0.005886         2164          0  ...    0    0    0    0\n",
              "4          1        0.984964         1667          1  ...    1    1    1    1\n",
              "\n",
              "[5 rows x 14 columns]"
            ]
          },
          "metadata": {
            "tags": []
          },
          "execution_count": 132
        }
      ]
    },
    {
      "cell_type": "code",
      "metadata": {
        "colab": {
          "base_uri": "https://localhost:8080/"
        },
        "id": "z4WEq9MauNzG",
        "outputId": "254cdead-fd8e-44c0-ce78-8c829d9f3718"
      },
      "source": [
        "#Now let's calculate accuracy sensitivity and specificity for various probability cutoffs.\n",
        "\n",
        "cutoff_df = pd.DataFrame( columns=['prob','accuracy','sensi','speci'])\n",
        "from sklearn.metrics import confusion_matrix\n",
        "\n",
        "#TP=confusion[1,1] #true positive\n",
        "#TN=confusion[0,0] #true negatives\n",
        "#FP=confusion[0,1] #false positives \n",
        "#FN=confusion[1,0] #false negatives\n",
        "\n",
        "num = [0.0,0.1,0.2,0.3,0.4,0.5,0.6,0.7,0.8,0.9]\n",
        "for i in num:\n",
        "    cm1 = metrics.confusion_matrix(y_train_pred_final.Converted, y_train_pred_final[i] )\n",
        "    total1=sum(sum(cm1))\n",
        "    accuracy = (cm1[0,0]+cm1[1,1])/total1\n",
        "    speci = cm1[0,0]/(cm1[0,0]+cm1[0,1])\n",
        "    sensi = cm1[1,1]/(cm1[1,0]+cm1[1,1])\n",
        "    cutoff_df.loc[i] = [i, accuracy, sensi, speci]\n",
        "print(cutoff_df)"
      ],
      "execution_count": 133,
      "outputs": [
        {
          "output_type": "stream",
          "text": [
            "     prob  accuracy     sensi     speci\n",
            "0.0   0.0  0.380565  1.000000  0.000000\n",
            "0.1   0.1  0.796234  0.975681  0.685987\n",
            "0.2   0.2  0.904580  0.928721  0.889748\n",
            "0.3   0.3  0.923249  0.917820  0.926584\n",
            "0.4   0.4  0.922930  0.901048  0.936373\n",
            "0.5   0.5  0.914792  0.853669  0.952344\n",
            "0.6   0.6  0.916228  0.826415  0.971406\n",
            "0.7   0.7  0.913356  0.802935  0.981195\n",
            "0.8   0.8  0.906335  0.775262  0.986862\n",
            "0.9   0.9  0.886070  0.715723  0.990726\n"
          ],
          "name": "stdout"
        }
      ]
    },
    {
      "cell_type": "code",
      "metadata": {
        "colab": {
          "base_uri": "https://localhost:8080/",
          "height": 278
        },
        "id": "eTbxfq1juNtk",
        "outputId": "47a1bda4-f3e7-4be4-9a73-3a01b6a77390"
      },
      "source": [
        "# Let's plot accuracy sensitivity and specificity for various probabilities\n",
        "\n",
        "cutoff_df.plot.line(x='prob', y=['accuracy','sensi','speci'])\n",
        "plt.show()"
      ],
      "execution_count": 134,
      "outputs": [
        {
          "output_type": "display_data",
          "data": {
            "image/png": "[encoded data removed]",
            "text/plain": [
              "<Figure size 432x288 with 1 Axes>"
            ]
          },
          "metadata": {
            "tags": [],
            "needs_background": "light"
          }
        }
      ]
    },
    {
      "cell_type": "code",
      "metadata": {
        "colab": {
          "base_uri": "https://localhost:8080/",
          "height": 202
        },
        "id": "zoCDyL4TuNnu",
        "outputId": "5b1e5d02-453d-4291-9d48-13e9864f4161"
      },
      "source": [
        "### From the above curve, 0.3 is the optimum point to take it as  a cutoff probability\n",
        "\n",
        "y_train_pred_final['final_Predicted'] = y_train_pred_final.Converted_prob.map(lambda x: 1 if x > 0.3 else 0)\n",
        "y_train_pred_final.head()"
      ],
      "execution_count": 135,
      "outputs": [
        {
          "output_type": "execute_result",
          "data": {
            "text/html": [
              "<div>\n",
              "<style scoped>\n",
              "    .dataframe tbody tr th:only-of-type {\n",
              "        vertical-align: middle;\n",
              "    }\n",
              "\n",
              "    .dataframe tbody tr th {\n",
              "        vertical-align: top;\n",
              "    }\n",
              "\n",
              "    .dataframe thead th {\n",
              "        text-align: right;\n",
              "    }\n",
              "</style>\n",
              "<table border=\"1\" class=\"dataframe\">\n",
              "  <thead>\n",
              "    <tr style=\"text-align: right;\">\n",
              "      <th></th>\n",
              "      <th>Converted</th>\n",
              "      <th>Converted_prob</th>\n",
              "      <th>Prospect ID</th>\n",
              "      <th>Predicted</th>\n",
              "      <th>0.0</th>\n",
              "      <th>0.1</th>\n",
              "      <th>0.2</th>\n",
              "      <th>0.3</th>\n",
              "      <th>0.4</th>\n",
              "      <th>0.5</th>\n",
              "      <th>0.6</th>\n",
              "      <th>0.7</th>\n",
              "      <th>0.8</th>\n",
              "      <th>0.9</th>\n",
              "      <th>final_Predicted</th>\n",
              "    </tr>\n",
              "  </thead>\n",
              "  <tbody>\n",
              "    <tr>\n",
              "      <th>0</th>\n",
              "      <td>1</td>\n",
              "      <td>0.221337</td>\n",
              "      <td>9196</td>\n",
              "      <td>0</td>\n",
              "      <td>1</td>\n",
              "      <td>1</td>\n",
              "      <td>1</td>\n",
              "      <td>0</td>\n",
              "      <td>0</td>\n",
              "      <td>0</td>\n",
              "      <td>0</td>\n",
              "      <td>0</td>\n",
              "      <td>0</td>\n",
              "      <td>0</td>\n",
              "      <td>0</td>\n",
              "    </tr>\n",
              "    <tr>\n",
              "      <th>1</th>\n",
              "      <td>0</td>\n",
              "      <td>0.054440</td>\n",
              "      <td>4696</td>\n",
              "      <td>0</td>\n",
              "      <td>1</td>\n",
              "      <td>0</td>\n",
              "      <td>0</td>\n",
              "      <td>0</td>\n",
              "      <td>0</td>\n",
              "      <td>0</td>\n",
              "      <td>0</td>\n",
              "      <td>0</td>\n",
              "      <td>0</td>\n",
              "      <td>0</td>\n",
              "      <td>0</td>\n",
              "    </tr>\n",
              "    <tr>\n",
              "      <th>2</th>\n",
              "      <td>0</td>\n",
              "      <td>0.536349</td>\n",
              "      <td>3274</td>\n",
              "      <td>1</td>\n",
              "      <td>1</td>\n",
              "      <td>1</td>\n",
              "      <td>1</td>\n",
              "      <td>1</td>\n",
              "      <td>1</td>\n",
              "      <td>1</td>\n",
              "      <td>0</td>\n",
              "      <td>0</td>\n",
              "      <td>0</td>\n",
              "      <td>0</td>\n",
              "      <td>1</td>\n",
              "    </tr>\n",
              "    <tr>\n",
              "      <th>3</th>\n",
              "      <td>0</td>\n",
              "      <td>0.005886</td>\n",
              "      <td>2164</td>\n",
              "      <td>0</td>\n",
              "      <td>1</td>\n",
              "      <td>0</td>\n",
              "      <td>0</td>\n",
              "      <td>0</td>\n",
              "      <td>0</td>\n",
              "      <td>0</td>\n",
              "      <td>0</td>\n",
              "      <td>0</td>\n",
              "      <td>0</td>\n",
              "      <td>0</td>\n",
              "      <td>0</td>\n",
              "    </tr>\n",
              "    <tr>\n",
              "      <th>4</th>\n",
              "      <td>1</td>\n",
              "      <td>0.984964</td>\n",
              "      <td>1667</td>\n",
              "      <td>1</td>\n",
              "      <td>1</td>\n",
              "      <td>1</td>\n",
              "      <td>1</td>\n",
              "      <td>1</td>\n",
              "      <td>1</td>\n",
              "      <td>1</td>\n",
              "      <td>1</td>\n",
              "      <td>1</td>\n",
              "      <td>1</td>\n",
              "      <td>1</td>\n",
              "      <td>1</td>\n",
              "    </tr>\n",
              "  </tbody>\n",
              "</table>\n",
              "</div>"
            ],
            "text/plain": [
              "   Converted  Converted_prob  Prospect ID  ...  0.8  0.9  final_Predicted\n",
              "0          1        0.221337         9196  ...    0    0                0\n",
              "1          0        0.054440         4696  ...    0    0                0\n",
              "2          0        0.536349         3274  ...    0    0                1\n",
              "3          0        0.005886         2164  ...    0    0                0\n",
              "4          1        0.984964         1667  ...    1    1                1\n",
              "\n",
              "[5 rows x 15 columns]"
            ]
          },
          "metadata": {
            "tags": []
          },
          "execution_count": 135
        }
      ]
    },
    {
      "cell_type": "code",
      "metadata": {
        "colab": {
          "base_uri": "https://localhost:8080/",
          "height": 202
        },
        "id": "aLkIrEvruNie",
        "outputId": "b4f1d946-7900-4dc0-a774-d93103d5586a"
      },
      "source": [
        "y_train_pred_final['Lead_Score'] = y_train_pred_final.Converted_prob.map(lambda x: round(x*100))\n",
        "\n",
        "y_train_pred_final[['Converted','Converted_prob','Prospect ID','final_Predicted','Lead_Score']].head()"
      ],
      "execution_count": 136,
      "outputs": [
        {
          "output_type": "execute_result",
          "data": {
            "text/html": [
              "<div>\n",
              "<style scoped>\n",
              "    .dataframe tbody tr th:only-of-type {\n",
              "        vertical-align: middle;\n",
              "    }\n",
              "\n",
              "    .dataframe tbody tr th {\n",
              "        vertical-align: top;\n",
              "    }\n",
              "\n",
              "    .dataframe thead th {\n",
              "        text-align: right;\n",
              "    }\n",
              "</style>\n",
              "<table border=\"1\" class=\"dataframe\">\n",
              "  <thead>\n",
              "    <tr style=\"text-align: right;\">\n",
              "      <th></th>\n",
              "      <th>Converted</th>\n",
              "      <th>Converted_prob</th>\n",
              "      <th>Prospect ID</th>\n",
              "      <th>final_Predicted</th>\n",
              "      <th>Lead_Score</th>\n",
              "    </tr>\n",
              "  </thead>\n",
              "  <tbody>\n",
              "    <tr>\n",
              "      <th>0</th>\n",
              "      <td>1</td>\n",
              "      <td>0.221337</td>\n",
              "      <td>9196</td>\n",
              "      <td>0</td>\n",
              "      <td>22</td>\n",
              "    </tr>\n",
              "    <tr>\n",
              "      <th>1</th>\n",
              "      <td>0</td>\n",
              "      <td>0.054440</td>\n",
              "      <td>4696</td>\n",
              "      <td>0</td>\n",
              "      <td>5</td>\n",
              "    </tr>\n",
              "    <tr>\n",
              "      <th>2</th>\n",
              "      <td>0</td>\n",
              "      <td>0.536349</td>\n",
              "      <td>3274</td>\n",
              "      <td>1</td>\n",
              "      <td>54</td>\n",
              "    </tr>\n",
              "    <tr>\n",
              "      <th>3</th>\n",
              "      <td>0</td>\n",
              "      <td>0.005886</td>\n",
              "      <td>2164</td>\n",
              "      <td>0</td>\n",
              "      <td>1</td>\n",
              "    </tr>\n",
              "    <tr>\n",
              "      <th>4</th>\n",
              "      <td>1</td>\n",
              "      <td>0.984964</td>\n",
              "      <td>1667</td>\n",
              "      <td>1</td>\n",
              "      <td>98</td>\n",
              "    </tr>\n",
              "  </tbody>\n",
              "</table>\n",
              "</div>"
            ],
            "text/plain": [
              "   Converted  Converted_prob  Prospect ID  final_Predicted  Lead_Score\n",
              "0          1        0.221337         9196                0          22\n",
              "1          0        0.054440         4696                0           5\n",
              "2          0        0.536349         3274                1          54\n",
              "3          0        0.005886         2164                0           1\n",
              "4          1        0.984964         1667                1          98"
            ]
          },
          "metadata": {
            "tags": []
          },
          "execution_count": 136
        }
      ]
    },
    {
      "cell_type": "code",
      "metadata": {
        "colab": {
          "base_uri": "https://localhost:8080/"
        },
        "id": "hmCSZMUnuNdE",
        "outputId": "3dca9d84-d848-44ee-847e-170cff9e376b"
      },
      "source": [
        "# Let's check overall accuracy\n",
        "\n",
        "metrics.accuracy_score(y_train_pred_final.Converted, y_train_pred_final.final_Predicted)"
      ],
      "execution_count": 137,
      "outputs": [
        {
          "output_type": "execute_result",
          "data": {
            "text/plain": [
              "0.9232487633636509"
            ]
          },
          "metadata": {
            "tags": []
          },
          "execution_count": 137
        }
      ]
    },
    {
      "cell_type": "code",
      "metadata": {
        "colab": {
          "base_uri": "https://localhost:8080/"
        },
        "id": "9HgC_9fluNXV",
        "outputId": "47fcfbfa-5b40-4ef2-b47d-bd6162becd82"
      },
      "source": [
        "confusion2 = metrics.confusion_matrix(y_train_pred_final.Converted, y_train_pred_final.final_Predicted)\n",
        "confusion2"
      ],
      "execution_count": 138,
      "outputs": [
        {
          "output_type": "execute_result",
          "data": {
            "text/plain": [
              "array([[3597,  285],\n",
              "       [ 196, 2189]])"
            ]
          },
          "metadata": {
            "tags": []
          },
          "execution_count": 138
        }
      ]
    },
    {
      "cell_type": "code",
      "metadata": {
        "id": "zuiPTsMZuNRi"
      },
      "source": [
        "TP = confusion2[1,1] #true positive\n",
        "TN = confusion2[0,0] #true negatives\n",
        "FP = confusion2[0,1] #false positives\n",
        "FN = confusion2[1,0] #false negatives"
      ],
      "execution_count": 139,
      "outputs": []
    },
    {
      "cell_type": "code",
      "metadata": {
        "colab": {
          "base_uri": "https://localhost:8080/"
        },
        "id": "Dtoun2stuNMV",
        "outputId": "af7907fd-3764-4617-863d-f9da05eacf37"
      },
      "source": [
        "# Let's see the sensitivity of our logistic regression model\n",
        "\n",
        "TP / float(TP+FN)"
      ],
      "execution_count": 140,
      "outputs": [
        {
          "output_type": "execute_result",
          "data": {
            "text/plain": [
              "0.9178197064989518"
            ]
          },
          "metadata": {
            "tags": []
          },
          "execution_count": 140
        }
      ]
    },
    {
      "cell_type": "code",
      "metadata": {
        "colab": {
          "base_uri": "https://localhost:8080/"
        },
        "id": "s26StU56uNHF",
        "outputId": "b6de6947-4c50-44f0-f571-a5da1a6b7864"
      },
      "source": [
        "# Let us calculate specificity\n",
        "\n",
        "TN / float(TN+FP)"
      ],
      "execution_count": 141,
      "outputs": [
        {
          "output_type": "execute_result",
          "data": {
            "text/plain": [
              "0.9265842349304482"
            ]
          },
          "metadata": {
            "tags": []
          },
          "execution_count": 141
        }
      ]
    },
    {
      "cell_type": "markdown",
      "metadata": {
        "id": "UyKIpRSw-ucI"
      },
      "source": [
        "**Observation**\n",
        "\n",
        "So from the above model we can see that this model is performing well. The ROC Curve has a value of 0.97, which is very good. We have the following values for Train Data:\n",
        "\n",
        "\n",
        "\n",
        "*   Accuracy    :  92.32%\n",
        "*   Sensitivity :  91.78%\n",
        "*   Specificity :  92.66%\n",
        "\n",
        "\n"
      ]
    },
    {
      "cell_type": "markdown",
      "metadata": {
        "id": "ruJ1eJP8-sw-"
      },
      "source": [
        "Some of the other Stats are derived below, indicating the False Positive Rate, Positive Predictive Value, Negative Predictive Values, Precision & Recall."
      ]
    },
    {
      "cell_type": "code",
      "metadata": {
        "colab": {
          "base_uri": "https://localhost:8080/"
        },
        "id": "pqemVG24uNBc",
        "outputId": "d1c9882a-497a-49f6-c4f2-73183ad14f1a"
      },
      "source": [
        "# Calculate False Positive Rate - predicting conversion when customer does not have convert\n",
        "\n",
        "print(FP/float(TN+FP))"
      ],
      "execution_count": 142,
      "outputs": [
        {
          "output_type": "stream",
          "text": [
            "0.07341576506955177\n"
          ],
          "name": "stdout"
        }
      ]
    },
    {
      "cell_type": "code",
      "metadata": {
        "colab": {
          "base_uri": "https://localhost:8080/"
        },
        "id": "4cZvmavHuM6F",
        "outputId": "afcc6c09-f6aa-4526-c0fa-eb6c434561ae"
      },
      "source": [
        "# Positive preditive value\n",
        "\n",
        "print(TP/float(TP+FP))"
      ],
      "execution_count": 143,
      "outputs": [
        {
          "output_type": "stream",
          "text": [
            "0.8848019401778496\n"
          ],
          "name": "stdout"
        }
      ]
    },
    {
      "cell_type": "code",
      "metadata": {
        "colab": {
          "base_uri": "https://localhost:8080/"
        },
        "id": "Q2HeY9niuMz-",
        "outputId": "368cc57b-4584-47da-f2a3-76285ea1ca5e"
      },
      "source": [
        "# Negative predictive value\n",
        "\n",
        "print(TN/float(TN+FN))"
      ],
      "execution_count": 144,
      "outputs": [
        {
          "output_type": "stream",
          "text": [
            "0.948325863432639\n"
          ],
          "name": "stdout"
        }
      ]
    },
    {
      "cell_type": "code",
      "metadata": {
        "colab": {
          "base_uri": "https://localhost:8080/"
        },
        "id": "QQKELYViuMuc",
        "outputId": "0f866d1f-ac55-42f5-9951-0a5a4cfc02b9"
      },
      "source": [
        "# Looking at the Negative Matrix again\n",
        "\n",
        "confusion = metrics.confusion_matrix(y_train_pred_final.Converted, y_train_pred_final.final_Predicted)\n",
        "confusion"
      ],
      "execution_count": 145,
      "outputs": [
        {
          "output_type": "execute_result",
          "data": {
            "text/plain": [
              "array([[3597,  285],\n",
              "       [ 196, 2189]])"
            ]
          },
          "metadata": {
            "tags": []
          },
          "execution_count": 145
        }
      ]
    },
    {
      "cell_type": "code",
      "metadata": {
        "colab": {
          "base_uri": "https://localhost:8080/"
        },
        "id": "uhbY8d2suMl4",
        "outputId": "a2729019-46f0-43b8-9eb1-19a4a2cd0eff"
      },
      "source": [
        "##### Precision\n",
        "\n",
        "TP / TP + FP\n",
        "\n",
        "confusion[1,1]/(confusion[0,1]+confusion[1,1])"
      ],
      "execution_count": 146,
      "outputs": [
        {
          "output_type": "execute_result",
          "data": {
            "text/plain": [
              "0.8848019401778496"
            ]
          },
          "metadata": {
            "tags": []
          },
          "execution_count": 146
        }
      ]
    },
    {
      "cell_type": "code",
      "metadata": {
        "colab": {
          "base_uri": "https://localhost:8080/"
        },
        "id": "i97vYSxEuMff",
        "outputId": "99f0576f-11af-4cbe-ed19-fefe964ae13c"
      },
      "source": [
        "##### Recall\n",
        "\n",
        "TP / TP + FN\n",
        "\n",
        "confusion[1,1]/(confusion[1,0]+confusion[1,1])"
      ],
      "execution_count": 147,
      "outputs": [
        {
          "output_type": "execute_result",
          "data": {
            "text/plain": [
              "0.9178197064989518"
            ]
          },
          "metadata": {
            "tags": []
          },
          "execution_count": 147
        }
      ]
    },
    {
      "cell_type": "code",
      "metadata": {
        "id": "EJREPv9luMY2"
      },
      "source": [
        "from sklearn.metrics import precision_score, recall_score"
      ],
      "execution_count": 148,
      "outputs": []
    },
    {
      "cell_type": "code",
      "metadata": {
        "colab": {
          "base_uri": "https://localhost:8080/"
        },
        "id": "zGA3I7d3uMTI",
        "outputId": "cb14362d-d28c-4946-910e-d6984cc12778"
      },
      "source": [
        "precision_score(y_train_pred_final.Converted, y_train_pred_final.final_Predicted)"
      ],
      "execution_count": 149,
      "outputs": [
        {
          "output_type": "execute_result",
          "data": {
            "text/plain": [
              "0.8848019401778496"
            ]
          },
          "metadata": {
            "tags": []
          },
          "execution_count": 149
        }
      ]
    },
    {
      "cell_type": "code",
      "metadata": {
        "colab": {
          "base_uri": "https://localhost:8080/"
        },
        "id": "lHkj6AsMuMNY",
        "outputId": "0a260c15-0d74-4cc9-c744-02e1d12cef32"
      },
      "source": [
        "recall_score(y_train_pred_final.Converted, y_train_pred_final.final_Predicted)"
      ],
      "execution_count": 150,
      "outputs": [
        {
          "output_type": "execute_result",
          "data": {
            "text/plain": [
              "0.9178197064989518"
            ]
          },
          "metadata": {
            "tags": []
          },
          "execution_count": 150
        }
      ]
    },
    {
      "cell_type": "code",
      "metadata": {
        "id": "xO5AkFoHuMF4"
      },
      "source": [
        "from sklearn.metrics import precision_recall_curve"
      ],
      "execution_count": 151,
      "outputs": []
    },
    {
      "cell_type": "code",
      "metadata": {
        "id": "RJz-6JyBuL_Z"
      },
      "source": [
        "y_train_pred_final.Converted, y_train_pred_final.final_Predicted\n",
        "p, r, thresholds = precision_recall_curve(y_train_pred_final.Converted, y_train_pred_final.Converted_prob)"
      ],
      "execution_count": 152,
      "outputs": []
    },
    {
      "cell_type": "code",
      "metadata": {
        "colab": {
          "base_uri": "https://localhost:8080/",
          "height": 264
        },
        "id": "YBejxAdDuL5X",
        "outputId": "6bb40295-6dab-45f4-f516-a9f2aab11e8d"
      },
      "source": [
        "plt.plot(thresholds, p[:-1], \"g-\")\n",
        "plt.plot(thresholds, r[:-1], \"r-\")\n",
        "plt.show()"
      ],
      "execution_count": 153,
      "outputs": [
        {
          "output_type": "display_data",
          "data": {
            "image/png": "[encoded data removed]",
            "text/plain": [
              "<Figure size 432x288 with 1 Axes>"
            ]
          },
          "metadata": {
            "tags": [],
            "needs_background": "light"
          }
        }
      ]
    },
    {
      "cell_type": "code",
      "metadata": {
        "colab": {
          "base_uri": "https://localhost:8080/",
          "height": 288
        },
        "id": "J_h1rapyuLzu",
        "outputId": "1559c5bb-16d4-46d5-8f76-2b1507fb9d74"
      },
      "source": [
        "# Scaling test set\n",
        "\n",
        "num_cols=X_test.select_dtypes(include=['float64', 'int64']).columns\n",
        "\n",
        "X_test[num_cols] = scaler.fit_transform(X_test[num_cols])\n",
        "\n",
        "X_test.head()"
      ],
      "execution_count": 154,
      "outputs": [
        {
          "output_type": "execute_result",
          "data": {
            "text/html": [
              "<div>\n",
              "<style scoped>\n",
              "    .dataframe tbody tr th:only-of-type {\n",
              "        vertical-align: middle;\n",
              "    }\n",
              "\n",
              "    .dataframe tbody tr th {\n",
              "        vertical-align: top;\n",
              "    }\n",
              "\n",
              "    .dataframe thead th {\n",
              "        text-align: right;\n",
              "    }\n",
              "</style>\n",
              "<table border=\"1\" class=\"dataframe\">\n",
              "  <thead>\n",
              "    <tr style=\"text-align: right;\">\n",
              "      <th></th>\n",
              "      <th>TotalVisits</th>\n",
              "      <th>Total Time Spent on Website</th>\n",
              "      <th>Page Views Per Visit</th>\n",
              "      <th>Lead Origin_Landing Page Submission</th>\n",
              "      <th>Lead Origin_Lead Add Form</th>\n",
              "      <th>Lead Origin_Lead Import</th>\n",
              "      <th>What is your current occupation_Housewife</th>\n",
              "      <th>What is your current occupation_Other</th>\n",
              "      <th>What is your current occupation_Student</th>\n",
              "      <th>What is your current occupation_Unemployed</th>\n",
              "      <th>What is your current occupation_Working Professional</th>\n",
              "      <th>City_Other Cities</th>\n",
              "      <th>City_Other Cities of Maharashtra</th>\n",
              "      <th>City_Other Metro Cities</th>\n",
              "      <th>City_Thane &amp; Outskirts</th>\n",
              "      <th>City_Tier II Cities</th>\n",
              "      <th>Specialization_Banking, Investment And Insurance</th>\n",
              "      <th>Specialization_Business Administration</th>\n",
              "      <th>Specialization_E-Business</th>\n",
              "      <th>Specialization_E-COMMERCE</th>\n",
              "      <th>Specialization_Finance Management</th>\n",
              "      <th>Specialization_International Business</th>\n",
              "      <th>Specialization_Management_Specializations</th>\n",
              "      <th>Specialization_Media and Advertising</th>\n",
              "      <th>Specialization_Rural and Agribusiness</th>\n",
              "      <th>Specialization_Services Excellence</th>\n",
              "      <th>Specialization_Travel and Tourism</th>\n",
              "      <th>Lead Source_Direct Traffic</th>\n",
              "      <th>Lead Source_Google</th>\n",
              "      <th>Lead Source_Live Chat</th>\n",
              "      <th>Lead Source_Olark Chat</th>\n",
              "      <th>Lead Source_Organic Search</th>\n",
              "      <th>Lead Source_Reference</th>\n",
              "      <th>Lead Source_Referral Sites</th>\n",
              "      <th>Lead Source_Social Media</th>\n",
              "      <th>Lead Source_Welingak Website</th>\n",
              "      <th>Last Activity_Converted to Lead</th>\n",
              "      <th>Last Activity_Email Bounced</th>\n",
              "      <th>Last Activity_Email Link Clicked</th>\n",
              "      <th>Last Activity_Email Opened</th>\n",
              "      <th>Last Activity_Form Submitted on Website</th>\n",
              "      <th>Last Activity_Had a Phone Conversation</th>\n",
              "      <th>Last Activity_Olark Chat Conversation</th>\n",
              "      <th>Last Activity_Page Visited on Website</th>\n",
              "      <th>Last Activity_SMS Sent</th>\n",
              "      <th>Last Notable Activity_Email Link Clicked</th>\n",
              "      <th>Last Notable Activity_Email Opened</th>\n",
              "      <th>Last Notable Activity_Modified</th>\n",
              "      <th>Last Notable Activity_Olark Chat Conversation</th>\n",
              "      <th>Last Notable Activity_Page Visited on Website</th>\n",
              "      <th>Last Notable Activity_SMS Sent</th>\n",
              "      <th>Tags_Busy</th>\n",
              "      <th>Tags_Closed by Horizzon</th>\n",
              "      <th>Tags_Diploma holder (Not Eligible)</th>\n",
              "      <th>Tags_Interested  in full time MBA</th>\n",
              "      <th>Tags_Interested in other courses</th>\n",
              "      <th>Tags_Lost to EINS</th>\n",
              "      <th>Tags_Other_Tags</th>\n",
              "      <th>Tags_Ringing</th>\n",
              "      <th>Tags_Will revert after reading the email</th>\n",
              "    </tr>\n",
              "  </thead>\n",
              "  <tbody>\n",
              "    <tr>\n",
              "      <th>7681</th>\n",
              "      <td>0.575687</td>\n",
              "      <td>-0.311318</td>\n",
              "      <td>0.092860</td>\n",
              "      <td>1</td>\n",
              "      <td>0</td>\n",
              "      <td>0</td>\n",
              "      <td>0</td>\n",
              "      <td>0</td>\n",
              "      <td>0</td>\n",
              "      <td>1</td>\n",
              "      <td>0</td>\n",
              "      <td>0</td>\n",
              "      <td>0</td>\n",
              "      <td>0</td>\n",
              "      <td>1</td>\n",
              "      <td>0</td>\n",
              "      <td>0</td>\n",
              "      <td>0</td>\n",
              "      <td>0</td>\n",
              "      <td>0</td>\n",
              "      <td>0</td>\n",
              "      <td>0</td>\n",
              "      <td>1</td>\n",
              "      <td>0</td>\n",
              "      <td>0</td>\n",
              "      <td>0</td>\n",
              "      <td>0</td>\n",
              "      <td>1</td>\n",
              "      <td>0</td>\n",
              "      <td>0</td>\n",
              "      <td>0</td>\n",
              "      <td>0</td>\n",
              "      <td>0</td>\n",
              "      <td>0</td>\n",
              "      <td>0</td>\n",
              "      <td>0</td>\n",
              "      <td>0</td>\n",
              "      <td>0</td>\n",
              "      <td>0</td>\n",
              "      <td>0</td>\n",
              "      <td>0</td>\n",
              "      <td>0</td>\n",
              "      <td>0</td>\n",
              "      <td>0</td>\n",
              "      <td>1</td>\n",
              "      <td>0</td>\n",
              "      <td>0</td>\n",
              "      <td>0</td>\n",
              "      <td>0</td>\n",
              "      <td>0</td>\n",
              "      <td>1</td>\n",
              "      <td>0</td>\n",
              "      <td>0</td>\n",
              "      <td>0</td>\n",
              "      <td>0</td>\n",
              "      <td>0</td>\n",
              "      <td>0</td>\n",
              "      <td>0</td>\n",
              "      <td>1</td>\n",
              "      <td>0</td>\n",
              "    </tr>\n",
              "    <tr>\n",
              "      <th>984</th>\n",
              "      <td>-0.090676</td>\n",
              "      <td>-0.550262</td>\n",
              "      <td>0.356568</td>\n",
              "      <td>1</td>\n",
              "      <td>0</td>\n",
              "      <td>0</td>\n",
              "      <td>0</td>\n",
              "      <td>0</td>\n",
              "      <td>0</td>\n",
              "      <td>1</td>\n",
              "      <td>0</td>\n",
              "      <td>0</td>\n",
              "      <td>0</td>\n",
              "      <td>0</td>\n",
              "      <td>0</td>\n",
              "      <td>0</td>\n",
              "      <td>0</td>\n",
              "      <td>0</td>\n",
              "      <td>0</td>\n",
              "      <td>0</td>\n",
              "      <td>0</td>\n",
              "      <td>0</td>\n",
              "      <td>1</td>\n",
              "      <td>0</td>\n",
              "      <td>0</td>\n",
              "      <td>0</td>\n",
              "      <td>0</td>\n",
              "      <td>0</td>\n",
              "      <td>0</td>\n",
              "      <td>0</td>\n",
              "      <td>0</td>\n",
              "      <td>1</td>\n",
              "      <td>0</td>\n",
              "      <td>0</td>\n",
              "      <td>0</td>\n",
              "      <td>0</td>\n",
              "      <td>0</td>\n",
              "      <td>0</td>\n",
              "      <td>0</td>\n",
              "      <td>0</td>\n",
              "      <td>0</td>\n",
              "      <td>0</td>\n",
              "      <td>0</td>\n",
              "      <td>0</td>\n",
              "      <td>1</td>\n",
              "      <td>0</td>\n",
              "      <td>0</td>\n",
              "      <td>1</td>\n",
              "      <td>0</td>\n",
              "      <td>0</td>\n",
              "      <td>0</td>\n",
              "      <td>0</td>\n",
              "      <td>0</td>\n",
              "      <td>0</td>\n",
              "      <td>0</td>\n",
              "      <td>0</td>\n",
              "      <td>0</td>\n",
              "      <td>1</td>\n",
              "      <td>0</td>\n",
              "      <td>0</td>\n",
              "    </tr>\n",
              "    <tr>\n",
              "      <th>8135</th>\n",
              "      <td>-0.423857</td>\n",
              "      <td>0.812462</td>\n",
              "      <td>-0.170849</td>\n",
              "      <td>1</td>\n",
              "      <td>0</td>\n",
              "      <td>0</td>\n",
              "      <td>0</td>\n",
              "      <td>0</td>\n",
              "      <td>0</td>\n",
              "      <td>1</td>\n",
              "      <td>0</td>\n",
              "      <td>1</td>\n",
              "      <td>0</td>\n",
              "      <td>0</td>\n",
              "      <td>0</td>\n",
              "      <td>0</td>\n",
              "      <td>0</td>\n",
              "      <td>1</td>\n",
              "      <td>0</td>\n",
              "      <td>0</td>\n",
              "      <td>0</td>\n",
              "      <td>0</td>\n",
              "      <td>0</td>\n",
              "      <td>0</td>\n",
              "      <td>0</td>\n",
              "      <td>0</td>\n",
              "      <td>0</td>\n",
              "      <td>1</td>\n",
              "      <td>0</td>\n",
              "      <td>0</td>\n",
              "      <td>0</td>\n",
              "      <td>0</td>\n",
              "      <td>0</td>\n",
              "      <td>0</td>\n",
              "      <td>0</td>\n",
              "      <td>0</td>\n",
              "      <td>0</td>\n",
              "      <td>0</td>\n",
              "      <td>0</td>\n",
              "      <td>0</td>\n",
              "      <td>0</td>\n",
              "      <td>0</td>\n",
              "      <td>0</td>\n",
              "      <td>0</td>\n",
              "      <td>1</td>\n",
              "      <td>0</td>\n",
              "      <td>0</td>\n",
              "      <td>0</td>\n",
              "      <td>0</td>\n",
              "      <td>0</td>\n",
              "      <td>1</td>\n",
              "      <td>0</td>\n",
              "      <td>0</td>\n",
              "      <td>0</td>\n",
              "      <td>0</td>\n",
              "      <td>0</td>\n",
              "      <td>0</td>\n",
              "      <td>0</td>\n",
              "      <td>0</td>\n",
              "      <td>0</td>\n",
              "    </tr>\n",
              "    <tr>\n",
              "      <th>6915</th>\n",
              "      <td>0.242505</td>\n",
              "      <td>-0.628665</td>\n",
              "      <td>-0.170849</td>\n",
              "      <td>1</td>\n",
              "      <td>0</td>\n",
              "      <td>0</td>\n",
              "      <td>0</td>\n",
              "      <td>0</td>\n",
              "      <td>0</td>\n",
              "      <td>1</td>\n",
              "      <td>0</td>\n",
              "      <td>0</td>\n",
              "      <td>0</td>\n",
              "      <td>1</td>\n",
              "      <td>0</td>\n",
              "      <td>0</td>\n",
              "      <td>0</td>\n",
              "      <td>0</td>\n",
              "      <td>0</td>\n",
              "      <td>0</td>\n",
              "      <td>0</td>\n",
              "      <td>0</td>\n",
              "      <td>1</td>\n",
              "      <td>0</td>\n",
              "      <td>0</td>\n",
              "      <td>0</td>\n",
              "      <td>0</td>\n",
              "      <td>0</td>\n",
              "      <td>1</td>\n",
              "      <td>0</td>\n",
              "      <td>0</td>\n",
              "      <td>0</td>\n",
              "      <td>0</td>\n",
              "      <td>0</td>\n",
              "      <td>0</td>\n",
              "      <td>0</td>\n",
              "      <td>0</td>\n",
              "      <td>0</td>\n",
              "      <td>0</td>\n",
              "      <td>1</td>\n",
              "      <td>0</td>\n",
              "      <td>0</td>\n",
              "      <td>0</td>\n",
              "      <td>0</td>\n",
              "      <td>0</td>\n",
              "      <td>0</td>\n",
              "      <td>1</td>\n",
              "      <td>0</td>\n",
              "      <td>0</td>\n",
              "      <td>0</td>\n",
              "      <td>0</td>\n",
              "      <td>0</td>\n",
              "      <td>0</td>\n",
              "      <td>0</td>\n",
              "      <td>0</td>\n",
              "      <td>0</td>\n",
              "      <td>0</td>\n",
              "      <td>0</td>\n",
              "      <td>1</td>\n",
              "      <td>0</td>\n",
              "    </tr>\n",
              "    <tr>\n",
              "      <th>2712</th>\n",
              "      <td>-0.090676</td>\n",
              "      <td>-0.421456</td>\n",
              "      <td>0.356568</td>\n",
              "      <td>0</td>\n",
              "      <td>0</td>\n",
              "      <td>0</td>\n",
              "      <td>0</td>\n",
              "      <td>0</td>\n",
              "      <td>0</td>\n",
              "      <td>1</td>\n",
              "      <td>0</td>\n",
              "      <td>0</td>\n",
              "      <td>0</td>\n",
              "      <td>0</td>\n",
              "      <td>0</td>\n",
              "      <td>0</td>\n",
              "      <td>0</td>\n",
              "      <td>0</td>\n",
              "      <td>0</td>\n",
              "      <td>0</td>\n",
              "      <td>0</td>\n",
              "      <td>0</td>\n",
              "      <td>0</td>\n",
              "      <td>0</td>\n",
              "      <td>0</td>\n",
              "      <td>0</td>\n",
              "      <td>0</td>\n",
              "      <td>0</td>\n",
              "      <td>1</td>\n",
              "      <td>0</td>\n",
              "      <td>0</td>\n",
              "      <td>0</td>\n",
              "      <td>0</td>\n",
              "      <td>0</td>\n",
              "      <td>0</td>\n",
              "      <td>0</td>\n",
              "      <td>0</td>\n",
              "      <td>0</td>\n",
              "      <td>0</td>\n",
              "      <td>1</td>\n",
              "      <td>0</td>\n",
              "      <td>0</td>\n",
              "      <td>0</td>\n",
              "      <td>0</td>\n",
              "      <td>0</td>\n",
              "      <td>0</td>\n",
              "      <td>1</td>\n",
              "      <td>0</td>\n",
              "      <td>0</td>\n",
              "      <td>0</td>\n",
              "      <td>0</td>\n",
              "      <td>0</td>\n",
              "      <td>0</td>\n",
              "      <td>0</td>\n",
              "      <td>0</td>\n",
              "      <td>0</td>\n",
              "      <td>0</td>\n",
              "      <td>0</td>\n",
              "      <td>0</td>\n",
              "      <td>1</td>\n",
              "    </tr>\n",
              "  </tbody>\n",
              "</table>\n",
              "</div>"
            ],
            "text/plain": [
              "      TotalVisits  ...  Tags_Will revert after reading the email\n",
              "7681     0.575687  ...                                         0\n",
              "984     -0.090676  ...                                         0\n",
              "8135    -0.423857  ...                                         0\n",
              "6915     0.242505  ...                                         0\n",
              "2712    -0.090676  ...                                         1\n",
              "\n",
              "[5 rows x 60 columns]"
            ]
          },
          "metadata": {
            "tags": []
          },
          "execution_count": 154
        }
      ]
    },
    {
      "cell_type": "code",
      "metadata": {
        "colab": {
          "base_uri": "https://localhost:8080/",
          "height": 288
        },
        "id": "nycuCqbyuLuR",
        "outputId": "1d5c2f5a-2361-4303-efbd-08049ab5cf89"
      },
      "source": [
        "X_test = X_test[col]\n",
        "X_test.head()"
      ],
      "execution_count": 155,
      "outputs": [
        {
          "output_type": "execute_result",
          "data": {
            "text/html": [
              "<div>\n",
              "<style scoped>\n",
              "    .dataframe tbody tr th:only-of-type {\n",
              "        vertical-align: middle;\n",
              "    }\n",
              "\n",
              "    .dataframe tbody tr th {\n",
              "        vertical-align: top;\n",
              "    }\n",
              "\n",
              "    .dataframe thead th {\n",
              "        text-align: right;\n",
              "    }\n",
              "</style>\n",
              "<table border=\"1\" class=\"dataframe\">\n",
              "  <thead>\n",
              "    <tr style=\"text-align: right;\">\n",
              "      <th></th>\n",
              "      <th>Total Time Spent on Website</th>\n",
              "      <th>Lead Origin_Lead Add Form</th>\n",
              "      <th>Lead Source_Welingak Website</th>\n",
              "      <th>Last Activity_SMS Sent</th>\n",
              "      <th>Last Notable Activity_Modified</th>\n",
              "      <th>Last Notable Activity_Olark Chat Conversation</th>\n",
              "      <th>Tags_Closed by Horizzon</th>\n",
              "      <th>Tags_Diploma holder (Not Eligible)</th>\n",
              "      <th>Tags_Interested  in full time MBA</th>\n",
              "      <th>Tags_Interested in other courses</th>\n",
              "      <th>Tags_Lost to EINS</th>\n",
              "      <th>Tags_Other_Tags</th>\n",
              "      <th>Tags_Ringing</th>\n",
              "      <th>Tags_Will revert after reading the email</th>\n",
              "    </tr>\n",
              "  </thead>\n",
              "  <tbody>\n",
              "    <tr>\n",
              "      <th>7681</th>\n",
              "      <td>-0.311318</td>\n",
              "      <td>0</td>\n",
              "      <td>0</td>\n",
              "      <td>1</td>\n",
              "      <td>0</td>\n",
              "      <td>0</td>\n",
              "      <td>0</td>\n",
              "      <td>0</td>\n",
              "      <td>0</td>\n",
              "      <td>0</td>\n",
              "      <td>0</td>\n",
              "      <td>0</td>\n",
              "      <td>1</td>\n",
              "      <td>0</td>\n",
              "    </tr>\n",
              "    <tr>\n",
              "      <th>984</th>\n",
              "      <td>-0.550262</td>\n",
              "      <td>0</td>\n",
              "      <td>0</td>\n",
              "      <td>1</td>\n",
              "      <td>1</td>\n",
              "      <td>0</td>\n",
              "      <td>0</td>\n",
              "      <td>0</td>\n",
              "      <td>0</td>\n",
              "      <td>0</td>\n",
              "      <td>0</td>\n",
              "      <td>1</td>\n",
              "      <td>0</td>\n",
              "      <td>0</td>\n",
              "    </tr>\n",
              "    <tr>\n",
              "      <th>8135</th>\n",
              "      <td>0.812462</td>\n",
              "      <td>0</td>\n",
              "      <td>0</td>\n",
              "      <td>1</td>\n",
              "      <td>0</td>\n",
              "      <td>0</td>\n",
              "      <td>0</td>\n",
              "      <td>0</td>\n",
              "      <td>0</td>\n",
              "      <td>0</td>\n",
              "      <td>0</td>\n",
              "      <td>0</td>\n",
              "      <td>0</td>\n",
              "      <td>0</td>\n",
              "    </tr>\n",
              "    <tr>\n",
              "      <th>6915</th>\n",
              "      <td>-0.628665</td>\n",
              "      <td>0</td>\n",
              "      <td>0</td>\n",
              "      <td>0</td>\n",
              "      <td>0</td>\n",
              "      <td>0</td>\n",
              "      <td>0</td>\n",
              "      <td>0</td>\n",
              "      <td>0</td>\n",
              "      <td>0</td>\n",
              "      <td>0</td>\n",
              "      <td>0</td>\n",
              "      <td>1</td>\n",
              "      <td>0</td>\n",
              "    </tr>\n",
              "    <tr>\n",
              "      <th>2712</th>\n",
              "      <td>-0.421456</td>\n",
              "      <td>0</td>\n",
              "      <td>0</td>\n",
              "      <td>0</td>\n",
              "      <td>0</td>\n",
              "      <td>0</td>\n",
              "      <td>0</td>\n",
              "      <td>0</td>\n",
              "      <td>0</td>\n",
              "      <td>0</td>\n",
              "      <td>0</td>\n",
              "      <td>0</td>\n",
              "      <td>0</td>\n",
              "      <td>1</td>\n",
              "    </tr>\n",
              "  </tbody>\n",
              "</table>\n",
              "</div>"
            ],
            "text/plain": [
              "      Total Time Spent on Website  ...  Tags_Will revert after reading the email\n",
              "7681                    -0.311318  ...                                         0\n",
              "984                     -0.550262  ...                                         0\n",
              "8135                     0.812462  ...                                         0\n",
              "6915                    -0.628665  ...                                         0\n",
              "2712                    -0.421456  ...                                         1\n",
              "\n",
              "[5 rows x 14 columns]"
            ]
          },
          "metadata": {
            "tags": []
          },
          "execution_count": 155
        }
      ]
    },
    {
      "cell_type": "code",
      "metadata": {
        "id": "JUM3vJIAuLoc"
      },
      "source": [
        "X_test_sm = sm.add_constant(X_test)"
      ],
      "execution_count": 156,
      "outputs": []
    },
    {
      "cell_type": "markdown",
      "metadata": {
        "id": "LkAKQHWdGsCO"
      },
      "source": [
        "**PREDICTIONS ON TEST SET**"
      ]
    },
    {
      "cell_type": "code",
      "metadata": {
        "id": "N2b4QXicuLjL"
      },
      "source": [
        "y_test_pred = res.predict(X_test_sm)"
      ],
      "execution_count": 157,
      "outputs": []
    },
    {
      "cell_type": "code",
      "metadata": {
        "colab": {
          "base_uri": "https://localhost:8080/"
        },
        "id": "ZV_TwuBVuLe2",
        "outputId": "5f8bba88-9e4a-4a35-8e00-d70184e98457"
      },
      "source": [
        "y_test_pred[:10]"
      ],
      "execution_count": 158,
      "outputs": [
        {
          "output_type": "execute_result",
          "data": {
            "text/plain": [
              "7681    0.043679\n",
              "984     0.017596\n",
              "8135    0.798545\n",
              "6915    0.004776\n",
              "2712    0.940467\n",
              "244     0.001856\n",
              "4698    0.025402\n",
              "8287    0.023794\n",
              "6791    0.975314\n",
              "8970    0.005249\n",
              "dtype: float64"
            ]
          },
          "metadata": {
            "tags": []
          },
          "execution_count": 158
        }
      ]
    },
    {
      "cell_type": "code",
      "metadata": {
        "id": "eGr9h4tPuLae"
      },
      "source": [
        "# Converting y_pred to a dataframe which is an array\n",
        "\n",
        "y_pred_1 = pd.DataFrame(y_test_pred)"
      ],
      "execution_count": 159,
      "outputs": []
    },
    {
      "cell_type": "code",
      "metadata": {
        "colab": {
          "base_uri": "https://localhost:8080/",
          "height": 202
        },
        "id": "7h8_ts3SuLX3",
        "outputId": "9ef844f4-fb6c-4f06-947d-bce2d140e998"
      },
      "source": [
        "# Let's see the head\n",
        "\n",
        "y_pred_1.head()"
      ],
      "execution_count": 160,
      "outputs": [
        {
          "output_type": "execute_result",
          "data": {
            "text/html": [
              "<div>\n",
              "<style scoped>\n",
              "    .dataframe tbody tr th:only-of-type {\n",
              "        vertical-align: middle;\n",
              "    }\n",
              "\n",
              "    .dataframe tbody tr th {\n",
              "        vertical-align: top;\n",
              "    }\n",
              "\n",
              "    .dataframe thead th {\n",
              "        text-align: right;\n",
              "    }\n",
              "</style>\n",
              "<table border=\"1\" class=\"dataframe\">\n",
              "  <thead>\n",
              "    <tr style=\"text-align: right;\">\n",
              "      <th></th>\n",
              "      <th>0</th>\n",
              "    </tr>\n",
              "  </thead>\n",
              "  <tbody>\n",
              "    <tr>\n",
              "      <th>7681</th>\n",
              "      <td>0.043679</td>\n",
              "    </tr>\n",
              "    <tr>\n",
              "      <th>984</th>\n",
              "      <td>0.017596</td>\n",
              "    </tr>\n",
              "    <tr>\n",
              "      <th>8135</th>\n",
              "      <td>0.798545</td>\n",
              "    </tr>\n",
              "    <tr>\n",
              "      <th>6915</th>\n",
              "      <td>0.004776</td>\n",
              "    </tr>\n",
              "    <tr>\n",
              "      <th>2712</th>\n",
              "      <td>0.940467</td>\n",
              "    </tr>\n",
              "  </tbody>\n",
              "</table>\n",
              "</div>"
            ],
            "text/plain": [
              "             0\n",
              "7681  0.043679\n",
              "984   0.017596\n",
              "8135  0.798545\n",
              "6915  0.004776\n",
              "2712  0.940467"
            ]
          },
          "metadata": {
            "tags": []
          },
          "execution_count": 160
        }
      ]
    },
    {
      "cell_type": "code",
      "metadata": {
        "id": "2JXpQ8g2uLUt"
      },
      "source": [
        "# Converting y_test to dataframe\n",
        "\n",
        "y_test_df = pd.DataFrame(y_test)"
      ],
      "execution_count": 161,
      "outputs": []
    },
    {
      "cell_type": "code",
      "metadata": {
        "id": "1ug3fXuTuLPR"
      },
      "source": [
        "# Putting CustID to index\n",
        "\n",
        "y_test_df['Prospect ID'] = y_test_df.index"
      ],
      "execution_count": 162,
      "outputs": []
    },
    {
      "cell_type": "code",
      "metadata": {
        "id": "kIoRPftTuLKp"
      },
      "source": [
        "# Removing index for both dataframe to append them side by side\n",
        "\n",
        "y_pred_1.reset_index(drop=True, inplace=True)\n",
        "y_test_df.reset_index(drop=True, inplace=True)"
      ],
      "execution_count": 163,
      "outputs": []
    },
    {
      "cell_type": "code",
      "metadata": {
        "id": "WXh4U4nDuLGB"
      },
      "source": [
        "# Apeending y_test_df and y_pred_1\n",
        "\n",
        "y_pred_final = pd.concat([y_test_df, y_pred_1], axis=1)"
      ],
      "execution_count": 164,
      "outputs": []
    },
    {
      "cell_type": "code",
      "metadata": {
        "colab": {
          "base_uri": "https://localhost:8080/",
          "height": 202
        },
        "id": "XRcv2z6_uLBb",
        "outputId": "f3179f35-49a3-49fc-f80c-3cdcff9c9695"
      },
      "source": [
        "y_pred_final.head()"
      ],
      "execution_count": 165,
      "outputs": [
        {
          "output_type": "execute_result",
          "data": {
            "text/html": [
              "<div>\n",
              "<style scoped>\n",
              "    .dataframe tbody tr th:only-of-type {\n",
              "        vertical-align: middle;\n",
              "    }\n",
              "\n",
              "    .dataframe tbody tr th {\n",
              "        vertical-align: top;\n",
              "    }\n",
              "\n",
              "    .dataframe thead th {\n",
              "        text-align: right;\n",
              "    }\n",
              "</style>\n",
              "<table border=\"1\" class=\"dataframe\">\n",
              "  <thead>\n",
              "    <tr style=\"text-align: right;\">\n",
              "      <th></th>\n",
              "      <th>Converted</th>\n",
              "      <th>Prospect ID</th>\n",
              "      <th>0</th>\n",
              "    </tr>\n",
              "  </thead>\n",
              "  <tbody>\n",
              "    <tr>\n",
              "      <th>0</th>\n",
              "      <td>0</td>\n",
              "      <td>7681</td>\n",
              "      <td>0.043679</td>\n",
              "    </tr>\n",
              "    <tr>\n",
              "      <th>1</th>\n",
              "      <td>0</td>\n",
              "      <td>984</td>\n",
              "      <td>0.017596</td>\n",
              "    </tr>\n",
              "    <tr>\n",
              "      <th>2</th>\n",
              "      <td>0</td>\n",
              "      <td>8135</td>\n",
              "      <td>0.798545</td>\n",
              "    </tr>\n",
              "    <tr>\n",
              "      <th>3</th>\n",
              "      <td>0</td>\n",
              "      <td>6915</td>\n",
              "      <td>0.004776</td>\n",
              "    </tr>\n",
              "    <tr>\n",
              "      <th>4</th>\n",
              "      <td>1</td>\n",
              "      <td>2712</td>\n",
              "      <td>0.940467</td>\n",
              "    </tr>\n",
              "  </tbody>\n",
              "</table>\n",
              "</div>"
            ],
            "text/plain": [
              "   Converted  Prospect ID         0\n",
              "0          0         7681  0.043679\n",
              "1          0          984  0.017596\n",
              "2          0         8135  0.798545\n",
              "3          0         6915  0.004776\n",
              "4          1         2712  0.940467"
            ]
          },
          "metadata": {
            "tags": []
          },
          "execution_count": 165
        }
      ]
    },
    {
      "cell_type": "code",
      "metadata": {
        "id": "AtoqKHEuuK9v"
      },
      "source": [
        "# Renaming column\n",
        "\n",
        "y_pred_final = y_pred_final.rename(columns={0 : 'Converted_prob'})"
      ],
      "execution_count": 166,
      "outputs": []
    },
    {
      "cell_type": "code",
      "metadata": {
        "colab": {
          "base_uri": "https://localhost:8080/",
          "height": 202
        },
        "id": "ILDbDMfZuK59",
        "outputId": "f1031684-5475-4da1-f751-b0eae405b93b"
      },
      "source": [
        "y_pred_final.head()"
      ],
      "execution_count": 167,
      "outputs": [
        {
          "output_type": "execute_result",
          "data": {
            "text/html": [
              "<div>\n",
              "<style scoped>\n",
              "    .dataframe tbody tr th:only-of-type {\n",
              "        vertical-align: middle;\n",
              "    }\n",
              "\n",
              "    .dataframe tbody tr th {\n",
              "        vertical-align: top;\n",
              "    }\n",
              "\n",
              "    .dataframe thead th {\n",
              "        text-align: right;\n",
              "    }\n",
              "</style>\n",
              "<table border=\"1\" class=\"dataframe\">\n",
              "  <thead>\n",
              "    <tr style=\"text-align: right;\">\n",
              "      <th></th>\n",
              "      <th>Converted</th>\n",
              "      <th>Prospect ID</th>\n",
              "      <th>Converted_prob</th>\n",
              "    </tr>\n",
              "  </thead>\n",
              "  <tbody>\n",
              "    <tr>\n",
              "      <th>0</th>\n",
              "      <td>0</td>\n",
              "      <td>7681</td>\n",
              "      <td>0.043679</td>\n",
              "    </tr>\n",
              "    <tr>\n",
              "      <th>1</th>\n",
              "      <td>0</td>\n",
              "      <td>984</td>\n",
              "      <td>0.017596</td>\n",
              "    </tr>\n",
              "    <tr>\n",
              "      <th>2</th>\n",
              "      <td>0</td>\n",
              "      <td>8135</td>\n",
              "      <td>0.798545</td>\n",
              "    </tr>\n",
              "    <tr>\n",
              "      <th>3</th>\n",
              "      <td>0</td>\n",
              "      <td>6915</td>\n",
              "      <td>0.004776</td>\n",
              "    </tr>\n",
              "    <tr>\n",
              "      <th>4</th>\n",
              "      <td>1</td>\n",
              "      <td>2712</td>\n",
              "      <td>0.940467</td>\n",
              "    </tr>\n",
              "  </tbody>\n",
              "</table>\n",
              "</div>"
            ],
            "text/plain": [
              "   Converted  Prospect ID  Converted_prob\n",
              "0          0         7681        0.043679\n",
              "1          0          984        0.017596\n",
              "2          0         8135        0.798545\n",
              "3          0         6915        0.004776\n",
              "4          1         2712        0.940467"
            ]
          },
          "metadata": {
            "tags": []
          },
          "execution_count": 167
        }
      ]
    },
    {
      "cell_type": "code",
      "metadata": {
        "id": "IJO5XEQKuKyA"
      },
      "source": [
        "# Renaming the columns\n",
        "\n",
        "y_pred_final = y_pred_final[['Prospect ID', 'Converted', 'Converted_prob']]\n",
        "y_pred_final['Lead_Score'] = y_pred_final.Converted_prob.map(lambda x: round(x*100))"
      ],
      "execution_count": 168,
      "outputs": []
    },
    {
      "cell_type": "code",
      "metadata": {
        "colab": {
          "base_uri": "https://localhost:8080/",
          "height": 202
        },
        "id": "OeQ4sR0NuKr-",
        "outputId": "a0f8fa72-2206-4b2f-ad24-47e7c5ba42ce"
      },
      "source": [
        "# Let's see the head of y_pred_final\n",
        "\n",
        "y_pred_final.head()"
      ],
      "execution_count": 169,
      "outputs": [
        {
          "output_type": "execute_result",
          "data": {
            "text/html": [
              "<div>\n",
              "<style scoped>\n",
              "    .dataframe tbody tr th:only-of-type {\n",
              "        vertical-align: middle;\n",
              "    }\n",
              "\n",
              "    .dataframe tbody tr th {\n",
              "        vertical-align: top;\n",
              "    }\n",
              "\n",
              "    .dataframe thead th {\n",
              "        text-align: right;\n",
              "    }\n",
              "</style>\n",
              "<table border=\"1\" class=\"dataframe\">\n",
              "  <thead>\n",
              "    <tr style=\"text-align: right;\">\n",
              "      <th></th>\n",
              "      <th>Prospect ID</th>\n",
              "      <th>Converted</th>\n",
              "      <th>Converted_prob</th>\n",
              "      <th>Lead_Score</th>\n",
              "    </tr>\n",
              "  </thead>\n",
              "  <tbody>\n",
              "    <tr>\n",
              "      <th>0</th>\n",
              "      <td>7681</td>\n",
              "      <td>0</td>\n",
              "      <td>0.043679</td>\n",
              "      <td>4</td>\n",
              "    </tr>\n",
              "    <tr>\n",
              "      <th>1</th>\n",
              "      <td>984</td>\n",
              "      <td>0</td>\n",
              "      <td>0.017596</td>\n",
              "      <td>2</td>\n",
              "    </tr>\n",
              "    <tr>\n",
              "      <th>2</th>\n",
              "      <td>8135</td>\n",
              "      <td>0</td>\n",
              "      <td>0.798545</td>\n",
              "      <td>80</td>\n",
              "    </tr>\n",
              "    <tr>\n",
              "      <th>3</th>\n",
              "      <td>6915</td>\n",
              "      <td>0</td>\n",
              "      <td>0.004776</td>\n",
              "      <td>0</td>\n",
              "    </tr>\n",
              "    <tr>\n",
              "      <th>4</th>\n",
              "      <td>2712</td>\n",
              "      <td>1</td>\n",
              "      <td>0.940467</td>\n",
              "      <td>94</td>\n",
              "    </tr>\n",
              "  </tbody>\n",
              "</table>\n",
              "</div>"
            ],
            "text/plain": [
              "   Prospect ID  Converted  Converted_prob  Lead_Score\n",
              "0         7681          0        0.043679           4\n",
              "1          984          0        0.017596           2\n",
              "2         8135          0        0.798545          80\n",
              "3         6915          0        0.004776           0\n",
              "4         2712          1        0.940467          94"
            ]
          },
          "metadata": {
            "tags": []
          },
          "execution_count": 169
        }
      ]
    },
    {
      "cell_type": "code",
      "metadata": {
        "id": "BVmYGi2AuKmQ"
      },
      "source": [
        "y_pred_final['final_Predicted'] = y_pred_final.Converted_prob.map(lambda x: 1 if x > 0.3 else 0)"
      ],
      "execution_count": 170,
      "outputs": []
    },
    {
      "cell_type": "code",
      "metadata": {
        "colab": {
          "base_uri": "https://localhost:8080/",
          "height": 202
        },
        "id": "k9ndFQGNuKg1",
        "outputId": "ec9329a0-c0f0-40c3-bd80-057876894b3c"
      },
      "source": [
        "y_pred_final.head()"
      ],
      "execution_count": 171,
      "outputs": [
        {
          "output_type": "execute_result",
          "data": {
            "text/html": [
              "<div>\n",
              "<style scoped>\n",
              "    .dataframe tbody tr th:only-of-type {\n",
              "        vertical-align: middle;\n",
              "    }\n",
              "\n",
              "    .dataframe tbody tr th {\n",
              "        vertical-align: top;\n",
              "    }\n",
              "\n",
              "    .dataframe thead th {\n",
              "        text-align: right;\n",
              "    }\n",
              "</style>\n",
              "<table border=\"1\" class=\"dataframe\">\n",
              "  <thead>\n",
              "    <tr style=\"text-align: right;\">\n",
              "      <th></th>\n",
              "      <th>Prospect ID</th>\n",
              "      <th>Converted</th>\n",
              "      <th>Converted_prob</th>\n",
              "      <th>Lead_Score</th>\n",
              "      <th>final_Predicted</th>\n",
              "    </tr>\n",
              "  </thead>\n",
              "  <tbody>\n",
              "    <tr>\n",
              "      <th>0</th>\n",
              "      <td>7681</td>\n",
              "      <td>0</td>\n",
              "      <td>0.043679</td>\n",
              "      <td>4</td>\n",
              "      <td>0</td>\n",
              "    </tr>\n",
              "    <tr>\n",
              "      <th>1</th>\n",
              "      <td>984</td>\n",
              "      <td>0</td>\n",
              "      <td>0.017596</td>\n",
              "      <td>2</td>\n",
              "      <td>0</td>\n",
              "    </tr>\n",
              "    <tr>\n",
              "      <th>2</th>\n",
              "      <td>8135</td>\n",
              "      <td>0</td>\n",
              "      <td>0.798545</td>\n",
              "      <td>80</td>\n",
              "      <td>1</td>\n",
              "    </tr>\n",
              "    <tr>\n",
              "      <th>3</th>\n",
              "      <td>6915</td>\n",
              "      <td>0</td>\n",
              "      <td>0.004776</td>\n",
              "      <td>0</td>\n",
              "      <td>0</td>\n",
              "    </tr>\n",
              "    <tr>\n",
              "      <th>4</th>\n",
              "      <td>2712</td>\n",
              "      <td>1</td>\n",
              "      <td>0.940467</td>\n",
              "      <td>94</td>\n",
              "      <td>1</td>\n",
              "    </tr>\n",
              "  </tbody>\n",
              "</table>\n",
              "</div>"
            ],
            "text/plain": [
              "   Prospect ID  Converted  Converted_prob  Lead_Score  final_Predicted\n",
              "0         7681          0        0.043679           4                0\n",
              "1          984          0        0.017596           2                0\n",
              "2         8135          0        0.798545          80                1\n",
              "3         6915          0        0.004776           0                0\n",
              "4         2712          1        0.940467          94                1"
            ]
          },
          "metadata": {
            "tags": []
          },
          "execution_count": 171
        }
      ]
    },
    {
      "cell_type": "code",
      "metadata": {
        "colab": {
          "base_uri": "https://localhost:8080/"
        },
        "id": "ICcvku2NuKYX",
        "outputId": "f3988d94-1a33-4a78-c527-122516d4bb46"
      },
      "source": [
        "# Let's check the overall accuracy \n",
        "\n",
        "metrics.accuracy_score(y_pred_final.Converted, y_pred_final.final_Predicted)"
      ],
      "execution_count": 172,
      "outputs": [
        {
          "output_type": "execute_result",
          "data": {
            "text/plain": [
              "0.9292628443782577"
            ]
          },
          "metadata": {
            "tags": []
          },
          "execution_count": 172
        }
      ]
    },
    {
      "cell_type": "code",
      "metadata": {
        "colab": {
          "base_uri": "https://localhost:8080/"
        },
        "id": "sNJm_mzRuKKI",
        "outputId": "1242e058-9021-4840-a712-0350a5973db8"
      },
      "source": [
        "confusion2 = metrics.confusion_matrix(y_pred_final.Converted, y_pred_final.final_Predicted)\n",
        "confusion2"
      ],
      "execution_count": 173,
      "outputs": [
        {
          "output_type": "execute_result",
          "data": {
            "text/plain": [
              "array([[1565,  111],\n",
              "       [  79,  931]])"
            ]
          },
          "metadata": {
            "tags": []
          },
          "execution_count": 173
        }
      ]
    },
    {
      "cell_type": "code",
      "metadata": {
        "id": "HJuonFiUuKFA"
      },
      "source": [
        "TP = confusion2[1,1] #true positive\n",
        "TN = confusion2[0,0] #true negatives\n",
        "FP = confusion2[0,1] #false positives\n",
        "FN = confusion2[1,0] #false negatives"
      ],
      "execution_count": 174,
      "outputs": []
    },
    {
      "cell_type": "code",
      "metadata": {
        "colab": {
          "base_uri": "https://localhost:8080/"
        },
        "id": "-2so3X0nuKAf",
        "outputId": "086a1d64-9b41-4d42-e1d2-bac923835d3c"
      },
      "source": [
        "# Let's see the sensitivity of our logistic regression model\n",
        "\n",
        "TP / float(TP+FN)"
      ],
      "execution_count": 176,
      "outputs": [
        {
          "output_type": "execute_result",
          "data": {
            "text/plain": [
              "0.9217821782178218"
            ]
          },
          "metadata": {
            "tags": []
          },
          "execution_count": 176
        }
      ]
    },
    {
      "cell_type": "code",
      "metadata": {
        "colab": {
          "base_uri": "https://localhost:8080/"
        },
        "id": "k2P6CIKZuJ8l",
        "outputId": "cc63d29c-8102-4e6a-8325-bdb5188ee864"
      },
      "source": [
        "# Let us calculate specificity\n",
        "\n",
        "TN /float(TN+FP)"
      ],
      "execution_count": 177,
      "outputs": [
        {
          "output_type": "execute_result",
          "data": {
            "text/plain": [
              "0.9337708830548926"
            ]
          },
          "metadata": {
            "tags": []
          },
          "execution_count": 177
        }
      ]
    },
    {
      "cell_type": "code",
      "metadata": {
        "colab": {
          "base_uri": "https://localhost:8080/"
        },
        "id": "V3EkoVEtuJ3t",
        "outputId": "ca4798e5-a8b6-431f-ea27-a6e41e3b0c7b"
      },
      "source": [
        "precision_score(y_pred_final.Converted, y_pred_final.final_Predicted)"
      ],
      "execution_count": 178,
      "outputs": [
        {
          "output_type": "execute_result",
          "data": {
            "text/plain": [
              "0.8934740882917467"
            ]
          },
          "metadata": {
            "tags": []
          },
          "execution_count": 178
        }
      ]
    },
    {
      "cell_type": "code",
      "metadata": {
        "colab": {
          "base_uri": "https://localhost:8080/"
        },
        "id": "nKooS-4ouJzU",
        "outputId": "f7365dd7-0f87-4fa9-964e-2916528c119c"
      },
      "source": [
        "recall_score(y_pred_final.Converted, y_pred_final.final_Predicted)"
      ],
      "execution_count": 179,
      "outputs": [
        {
          "output_type": "execute_result",
          "data": {
            "text/plain": [
              "0.9217821782178218"
            ]
          },
          "metadata": {
            "tags": []
          },
          "execution_count": 179
        }
      ]
    },
    {
      "cell_type": "markdown",
      "metadata": {
        "id": "TZAAp3qBOK6v"
      },
      "source": [
        "**Observation:**\n",
        "\n",
        "After running the model on the Test Data these are the figures we obtain:\n",
        "\n",
        "\n",
        "*   Accuracy    : 92.93%\n",
        "*   Sensitivity : 92.18%\n",
        "*   Specificity : 93.38%\n",
        "\n",
        "\n"
      ]
    },
    {
      "cell_type": "markdown",
      "metadata": {
        "id": "yF03RcYWOKjC"
      },
      "source": [
        "**Final Observation:**\n",
        "\n",
        "Let us compare the values obtained for Train & Test:"
      ]
    },
    {
      "cell_type": "markdown",
      "metadata": {
        "id": "4lvTxV5WOHhp"
      },
      "source": [
        "**Train Data:**\n",
        "\n",
        "\n",
        "\n",
        "*   Accuracy    : 92.32%\n",
        "*   Sensitivity : 91.78%\n",
        "*   Specificity : 92.66%\n"
      ]
    },
    {
      "cell_type": "markdown",
      "metadata": {
        "id": "OQm8ZccmOHGk"
      },
      "source": [
        "**Test Data:**\n",
        "\n",
        "\n",
        "\n",
        "*   Accuracy    : 92.93%\n",
        "*   Sensitivity : 92.18%\n",
        "*   Specificity : 93.38%\n"
      ]
    },
    {
      "cell_type": "markdown",
      "metadata": {
        "id": "87ZL0_Q6OGtn"
      },
      "source": [
        "The Model seems to predict the Conversion Rate very well and we should be able to give the CEO confidence in making good calls based on this model. "
      ]
    }
  ]
}